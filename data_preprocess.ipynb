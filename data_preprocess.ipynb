{
 "cells": [
  {
   "cell_type": "code",
   "execution_count": 1,
   "id": "41e9a7b8",
   "metadata": {},
   "outputs": [
    {
     "name": "stderr",
     "output_type": "stream",
     "text": [
      "/usr/local/lib/python3.10/dist-packages/tqdm/auto.py:21: TqdmWarning: IProgress not found. Please update jupyter and ipywidgets. See https://ipywidgets.readthedocs.io/en/stable/user_install.html\n",
      "  from .autonotebook import tqdm as notebook_tqdm\n"
     ]
    }
   ],
   "source": [
    "import os\n",
    "import io\n",
    "import time\n",
    "import os.path as osp\n",
    "\n",
    "import pandas as pd\n",
    "\n",
    "import torch\n",
    "import torch.nn as nn\n",
    "import torch.nn.functional as F\n",
    "import torch.optim as optim\n",
    "from torch.utils.data import DataLoader\n",
    "\n",
    "from torchvision import transforms\n",
    "from torchvision.transforms import Compose, Resize, CenterCrop, ToTensor, Normalize\n",
    "\n",
    "from PIL import Image, ImageFilter\n",
    "from PIL import Image"
   ]
  },
  {
   "cell_type": "code",
   "execution_count": 2,
   "id": "377cd7a0",
   "metadata": {},
   "outputs": [],
   "source": [
    "device = torch.device(\"cuda:0\" if torch.cuda.is_available() else \"cpu\")"
   ]
  },
  {
   "cell_type": "code",
   "execution_count": 3,
   "id": "4c0e387c",
   "metadata": {},
   "outputs": [
    {
     "data": {
      "text/html": [
       "<div>\n",
       "<style scoped>\n",
       "    .dataframe tbody tr th:only-of-type {\n",
       "        vertical-align: middle;\n",
       "    }\n",
       "\n",
       "    .dataframe tbody tr th {\n",
       "        vertical-align: top;\n",
       "    }\n",
       "\n",
       "    .dataframe thead th {\n",
       "        text-align: right;\n",
       "    }\n",
       "</style>\n",
       "<table border=\"1\" class=\"dataframe\">\n",
       "  <thead>\n",
       "    <tr style=\"text-align: right;\">\n",
       "      <th></th>\n",
       "      <th>image</th>\n",
       "      <th>text</th>\n",
       "    </tr>\n",
       "  </thead>\n",
       "  <tbody>\n",
       "    <tr>\n",
       "      <th>0</th>\n",
       "      <td>{'bytes': b'\\xff\\xd8\\xff\\xe1#\\rExif\\x00\\x00MM\\...</td>\n",
       "      <td>a drawing of a green pokemon with red eyes</td>\n",
       "    </tr>\n",
       "    <tr>\n",
       "      <th>1</th>\n",
       "      <td>{'bytes': b'\\xff\\xd8\\xff\\xe1#\\x98Exif\\x00\\x00M...</td>\n",
       "      <td>a green and yellow toy with a red nose</td>\n",
       "    </tr>\n",
       "    <tr>\n",
       "      <th>2</th>\n",
       "      <td>{'bytes': b'\\xff\\xd8\\xff\\xe1\\x18\\x82Exif\\x00\\x...</td>\n",
       "      <td>a red and white ball with an angry look on its...</td>\n",
       "    </tr>\n",
       "    <tr>\n",
       "      <th>3</th>\n",
       "      <td>{'bytes': b'\\xff\\xd8\\xff\\xe1\\x1a\\x06Exif\\x00\\x...</td>\n",
       "      <td>a cartoon ball with a smile on it's face</td>\n",
       "    </tr>\n",
       "    <tr>\n",
       "      <th>4</th>\n",
       "      <td>{'bytes': b'\\xff\\xd8\\xff\\xe1\\x1d\\xe3Exif\\x00\\x...</td>\n",
       "      <td>a bunch of balls with faces drawn on them</td>\n",
       "    </tr>\n",
       "    <tr>\n",
       "      <th>...</th>\n",
       "      <td>...</td>\n",
       "      <td>...</td>\n",
       "    </tr>\n",
       "    <tr>\n",
       "      <th>828</th>\n",
       "      <td>{'bytes': b'\\xff\\xd8\\xff\\xe1\\x1e\\xb1Exif\\x00\\x...</td>\n",
       "      <td>a cartoon picture of a stone dragon</td>\n",
       "    </tr>\n",
       "    <tr>\n",
       "      <th>829</th>\n",
       "      <td>{'bytes': b'\\xff\\xd8\\xff\\xe1\\x1a/Exif\\x00\\x00M...</td>\n",
       "      <td>a drawing of a yellow and gray pokemon character</td>\n",
       "    </tr>\n",
       "    <tr>\n",
       "      <th>830</th>\n",
       "      <td>{'bytes': b'\\xff\\xd8\\xff\\xe1!\\xcdExif\\x00\\x00M...</td>\n",
       "      <td>a drawing of a cat with a wheel in his hand</td>\n",
       "    </tr>\n",
       "    <tr>\n",
       "      <th>831</th>\n",
       "      <td>{'bytes': b'\\xff\\xd8\\xff\\xe1\\x1cLExif\\x00\\x00M...</td>\n",
       "      <td>a drawing of a cartoon character with two eyes</td>\n",
       "    </tr>\n",
       "    <tr>\n",
       "      <th>832</th>\n",
       "      <td>{'bytes': b'\\xff\\xd8\\xff\\xe1\\x19\\xafExif\\x00\\x...</td>\n",
       "      <td>a drawing of a cartoon character laying on the...</td>\n",
       "    </tr>\n",
       "  </tbody>\n",
       "</table>\n",
       "<p>833 rows × 2 columns</p>\n",
       "</div>"
      ],
      "text/plain": [
       "                                                 image  \\\n",
       "0    {'bytes': b'\\xff\\xd8\\xff\\xe1#\\rExif\\x00\\x00MM\\...   \n",
       "1    {'bytes': b'\\xff\\xd8\\xff\\xe1#\\x98Exif\\x00\\x00M...   \n",
       "2    {'bytes': b'\\xff\\xd8\\xff\\xe1\\x18\\x82Exif\\x00\\x...   \n",
       "3    {'bytes': b'\\xff\\xd8\\xff\\xe1\\x1a\\x06Exif\\x00\\x...   \n",
       "4    {'bytes': b'\\xff\\xd8\\xff\\xe1\\x1d\\xe3Exif\\x00\\x...   \n",
       "..                                                 ...   \n",
       "828  {'bytes': b'\\xff\\xd8\\xff\\xe1\\x1e\\xb1Exif\\x00\\x...   \n",
       "829  {'bytes': b'\\xff\\xd8\\xff\\xe1\\x1a/Exif\\x00\\x00M...   \n",
       "830  {'bytes': b'\\xff\\xd8\\xff\\xe1!\\xcdExif\\x00\\x00M...   \n",
       "831  {'bytes': b'\\xff\\xd8\\xff\\xe1\\x1cLExif\\x00\\x00M...   \n",
       "832  {'bytes': b'\\xff\\xd8\\xff\\xe1\\x19\\xafExif\\x00\\x...   \n",
       "\n",
       "                                                  text  \n",
       "0           a drawing of a green pokemon with red eyes  \n",
       "1               a green and yellow toy with a red nose  \n",
       "2    a red and white ball with an angry look on its...  \n",
       "3             a cartoon ball with a smile on it's face  \n",
       "4            a bunch of balls with faces drawn on them  \n",
       "..                                                 ...  \n",
       "828                a cartoon picture of a stone dragon  \n",
       "829   a drawing of a yellow and gray pokemon character  \n",
       "830        a drawing of a cat with a wheel in his hand  \n",
       "831     a drawing of a cartoon character with two eyes  \n",
       "832  a drawing of a cartoon character laying on the...  \n",
       "\n",
       "[833 rows x 2 columns]"
      ]
     },
     "execution_count": 3,
     "metadata": {},
     "output_type": "execute_result"
    }
   ],
   "source": [
    "parquet_path = \"data/pokemon.parquet\"\n",
    "df = pd.read_parquet(parquet_path)\n",
    "df"
   ]
  },
  {
   "cell_type": "code",
   "execution_count": 4,
   "id": "e3842d60",
   "metadata": {},
   "outputs": [
    {
     "name": "stderr",
     "output_type": "stream",
     "text": [
      "833it [00:08, 99.50it/s] \n"
     ]
    }
   ],
   "source": [
    "import pickle\n",
    "from tqdm import tqdm\n",
    "\n",
    "\n",
    "# Define CLIP transform\n",
    "transform = Compose([\n",
    "    Resize((256, 256)),\n",
    "    CenterCrop(256),\n",
    "#     ToTensor(),\n",
    "#     Normalize(mean=[0.48145466, 0.4578275, 0.40821073],\n",
    "#               std=[0.26862954, 0.26130258, 0.27577711])\n",
    "])\n",
    "\n",
    "# List to store preprocessed data\n",
    "preprocessed_data = []\n",
    "\n",
    "for index, row in tqdm(df.iterrows()):\n",
    "    # Load and preprocess image\n",
    "    image_bytes = row['image']['bytes']\n",
    "    \n",
    "    # Convert bytes to image\n",
    "    image = Image.open(io.BytesIO(image_bytes))\n",
    "    \n",
    "    # Apply transformation\n",
    "    image = transform(image)\n",
    "\n",
    "    # Preprocess text\n",
    "    text = row['text'] \n",
    "\n",
    "    # Add to the list\n",
    "    preprocessed_data.append([image,text])"
   ]
  },
  {
   "cell_type": "code",
   "execution_count": 5,
   "id": "e6298fb1",
   "metadata": {},
   "outputs": [],
   "source": [
    "# Save preprocessed_data to a file using pickle\n",
    "with open('data/preprocessed_data.pkl', 'wb') as file:\n",
    "    pickle.dump(preprocessed_data, file)"
   ]
  }
 ],
 "metadata": {
  "kernelspec": {
   "display_name": "Python 3 (ipykernel)",
   "language": "python",
   "name": "python3"
  },
  "language_info": {
   "codemirror_mode": {
    "name": "ipython",
    "version": 3
   },
   "file_extension": ".py",
   "mimetype": "text/x-python",
   "name": "python",
   "nbconvert_exporter": "python",
   "pygments_lexer": "ipython3",
   "version": "3.10.12"
  }
 },
 "nbformat": 4,
 "nbformat_minor": 5
}

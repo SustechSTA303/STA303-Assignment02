{
 "cells": [
  {
   "cell_type": "markdown",
   "id": "3324e5a2",
   "metadata": {},
   "source": [
    "# Redundant Confusing Description"
   ]
  },
  {
   "cell_type": "code",
   "execution_count": 1,
   "id": "d0b4f84e",
   "metadata": {},
   "outputs": [],
   "source": [
    "# Step1: import the libraries\n",
    "import torch\n",
    "import clip\n",
    "from torchvision.datasets import CIFAR10\n",
    "from torchvision.transforms import Compose, Resize, ToTensor, Normalize\n",
    "from torch.utils.data import DataLoader\n",
    "from tqdm import tqdm\n",
    "import matplotlib.pyplot as plt\n",
    "import numpy as np"
   ]
  },
  {
   "cell_type": "code",
   "execution_count": 2,
   "id": "734c439a",
   "metadata": {},
   "outputs": [
    {
     "name": "stdout",
     "output_type": "stream",
     "text": [
      "Files already downloaded and verified\n"
     ]
    }
   ],
   "source": [
    "# Step 2: Load CLIP Model and CIFAR-10 Data\n",
    "device = \"cuda\" if torch.cuda.is_available() else \"cpu\"\n",
    "model, preprocess = clip.load(\"ViT-B/32\", device=device)\n",
    "\n",
    "cifar10 = CIFAR10(root=\"./data\", download=True, train=False, transform=Compose([\n",
    "    Resize((224, 224)),\n",
    "    ToTensor(),\n",
    "    Normalize((0.48145466, 0.4578275, 0.40821073), (0.26862954, 0.26130258, 0.27577711)),\n",
    "]))\n",
    "data_loader = DataLoader(cifar10, batch_size=64, shuffle=False)"
   ]
  },
  {
   "cell_type": "code",
   "execution_count": 3,
   "id": "73cf562b",
   "metadata": {},
   "outputs": [],
   "source": [
    "# Step 3: Define Class Prompts\n",
    "class_names = cifar10.classes\n",
    "# \"airplane\", \"automobile\", \"bird\", \"cat\", \"deer\", \"dog\", \"frog\", \"horse\", \"ship\", \"truck\"\n",
    "\n",
    "prompts = [\"This is a picture from CIFAR-10 dataset, which contains 10 different classess of photos, such as airpalne, automobile, bird and cat. Here it is a photo of {}, which is of not of high-quality since the size of it is just 32 by 32.\".format(class_name) for class_name in class_names]\n",
    "text_inputs = clip.tokenize(prompts).to(device)"
   ]
  },
  {
   "cell_type": "code",
   "execution_count": 4,
   "id": "3191ec64",
   "metadata": {},
   "outputs": [
    {
     "data": {
      "text/plain": [
       "['This is a picture from CIFAR-10 dataset, which contains 10 different classess of photos, such as airpalne, automobile, bird and cat. Here it is a photo of airplane, which is of not of high-quality since the size of it is just 32 by 32.',\n",
       " 'This is a picture from CIFAR-10 dataset, which contains 10 different classess of photos, such as airpalne, automobile, bird and cat. Here it is a photo of automobile, which is of not of high-quality since the size of it is just 32 by 32.',\n",
       " 'This is a picture from CIFAR-10 dataset, which contains 10 different classess of photos, such as airpalne, automobile, bird and cat. Here it is a photo of bird, which is of not of high-quality since the size of it is just 32 by 32.',\n",
       " 'This is a picture from CIFAR-10 dataset, which contains 10 different classess of photos, such as airpalne, automobile, bird and cat. Here it is a photo of cat, which is of not of high-quality since the size of it is just 32 by 32.',\n",
       " 'This is a picture from CIFAR-10 dataset, which contains 10 different classess of photos, such as airpalne, automobile, bird and cat. Here it is a photo of deer, which is of not of high-quality since the size of it is just 32 by 32.',\n",
       " 'This is a picture from CIFAR-10 dataset, which contains 10 different classess of photos, such as airpalne, automobile, bird and cat. Here it is a photo of dog, which is of not of high-quality since the size of it is just 32 by 32.',\n",
       " 'This is a picture from CIFAR-10 dataset, which contains 10 different classess of photos, such as airpalne, automobile, bird and cat. Here it is a photo of frog, which is of not of high-quality since the size of it is just 32 by 32.',\n",
       " 'This is a picture from CIFAR-10 dataset, which contains 10 different classess of photos, such as airpalne, automobile, bird and cat. Here it is a photo of horse, which is of not of high-quality since the size of it is just 32 by 32.',\n",
       " 'This is a picture from CIFAR-10 dataset, which contains 10 different classess of photos, such as airpalne, automobile, bird and cat. Here it is a photo of ship, which is of not of high-quality since the size of it is just 32 by 32.',\n",
       " 'This is a picture from CIFAR-10 dataset, which contains 10 different classess of photos, such as airpalne, automobile, bird and cat. Here it is a photo of truck, which is of not of high-quality since the size of it is just 32 by 32.']"
      ]
     },
     "execution_count": 4,
     "metadata": {},
     "output_type": "execute_result"
    }
   ],
   "source": [
    "prompts"
   ]
  },
  {
   "cell_type": "code",
   "execution_count": 5,
   "id": "f7d93719",
   "metadata": {},
   "outputs": [
    {
     "name": "stderr",
     "output_type": "stream",
     "text": [
      "100%|██████████| 157/157 [00:19<00:00,  7.87it/s]\n"
     ]
    }
   ],
   "source": [
    "# Step 4: Evaluate Model on Test Data\n",
    "model.eval()\n",
    "correct = 0\n",
    "total = 0\n",
    "# Initialize counters for each class\n",
    "correct_per_class = {class_name: 0 for class_name in class_names}\n",
    "total_per_class = {class_name: 0 for class_name in class_names}\n",
    "\n",
    "with torch.no_grad():\n",
    "    for images, labels in tqdm(data_loader):\n",
    "        images = images.to(device)\n",
    "        labels = labels.cpu()  # Move labels to CPU for easier processing\n",
    "\n",
    "        # Calculate image and text features\n",
    "        image_features = model.encode_image(images)\n",
    "        text_features = model.encode_text(text_inputs)\n",
    "\n",
    "        # Normalize features and calculate similarity\n",
    "        image_features /= image_features.norm(dim=-1, keepdim=True)\n",
    "        text_features /= text_features.norm(dim=-1, keepdim=True)\n",
    "        similarity = (100.0 * image_features @ text_features.T).softmax(dim=-1)\n",
    "\n",
    "        # Convert similarity to float32 and get top predictions\n",
    "        similarity = similarity.to(torch.float32)\n",
    "        _, top_labels = similarity.cpu().topk(1, dim=-1)\n",
    "\n",
    "        # Update counters for each class\n",
    "        for label, top_label in zip(labels, top_labels[:, 0]):\n",
    "            class_name = class_names[label]\n",
    "            total_per_class[class_name] += 1\n",
    "            if label == top_label:\n",
    "                correct_per_class[class_name] += 1"
   ]
  },
  {
   "cell_type": "code",
   "execution_count": 6,
   "id": "e3dbd595",
   "metadata": {},
   "outputs": [
    {
     "name": "stdout",
     "output_type": "stream",
     "text": [
      "Accuracy for airplane: 75.40%\n",
      "Accuracy for automobile: 62.50%\n",
      "Accuracy for bird: 74.20%\n",
      "Accuracy for cat: 62.40%\n",
      "Accuracy for deer: 87.30%\n",
      "Accuracy for dog: 93.40%\n",
      "Accuracy for frog: 92.20%\n",
      "Accuracy for horse: 93.60%\n",
      "Accuracy for ship: 94.30%\n",
      "Accuracy for truck: 97.70%\n"
     ]
    }
   ],
   "source": [
    "# Calculate and print accuracies for each class\n",
    "class_accuracies = {}\n",
    "for class_name in class_names:\n",
    "    accuracy = 100 * correct_per_class[class_name] / total_per_class[class_name]\n",
    "    class_accuracies[class_name] = accuracy\n",
    "    print(f\"Accuracy for {class_name}: {accuracy:.2f}%\")"
   ]
  },
  {
   "cell_type": "code",
   "execution_count": 7,
   "id": "9fb1e3ea",
   "metadata": {},
   "outputs": [],
   "source": [
    "accuracies = [0]*10\n",
    "correct = 0\n",
    "i = 0\n",
    "for class_name in class_names:\n",
    "    accuracies[i] = class_accuracies[class_name]\n",
    "    correct += class_accuracies[class_name]\n",
    "    i += 1"
   ]
  },
  {
   "cell_type": "code",
   "execution_count": 8,
   "id": "87f36ee0",
   "metadata": {},
   "outputs": [
    {
     "name": "stdout",
     "output_type": "stream",
     "text": [
      "Accuracy: 83.30%\n"
     ]
    },
    {
     "data": {
      "image/png": "[encoded data removed]",
      "text/plain": [
       "<Figure size 1000x800 with 1 Axes>"
      ]
     },
     "metadata": {},
     "output_type": "display_data"
    }
   ],
   "source": [
    "# Step 5: Plot or Tabulate Results\n",
    "accuracy = correct / 10\n",
    "print(f\"Accuracy: {accuracy:.2f}%\")\n",
    "\n",
    "# Plot Results\n",
    "plt.figure(figsize=(10,8))  # Increase the plot size if needed\n",
    "plt.bar(class_names, accuracies)\n",
    "plt.xlabel('Classes')\n",
    "plt.ylabel('Accuracy')\n",
    "plt.title('Zero-Shot Classification Accuracy on CIFAR-10')\n",
    "plt.xticks(rotation=45)  # Rotate labels to 45 degrees\n",
    "plt.tight_layout()  # Adjust layout to prevent overlap\n",
    "plt.show()"
   ]
  },
  {
   "cell_type": "code",
   "execution_count": null,
   "id": "17d6a5e0",
   "metadata": {},
   "outputs": [],
   "source": []
  }
 ],
 "metadata": {
  "kernelspec": {
   "display_name": "Python 3 (ipykernel)",
   "language": "python",
   "name": "python3"
  },
  "language_info": {
   "codemirror_mode": {
    "name": "ipython",
    "version": 3
   },
   "file_extension": ".py",
   "mimetype": "text/x-python",
   "name": "python",
   "nbconvert_exporter": "python",
   "pygments_lexer": "ipython3",
   "version": "3.10.12"
  }
 },
 "nbformat": 4,
 "nbformat_minor": 5
}

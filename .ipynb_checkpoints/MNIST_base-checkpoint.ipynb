{
 "cells": [
  {
   "cell_type": "markdown",
   "metadata": {},
   "source": [
    "# Exercise 02: Multi-class Classification \n",
    "In this exercise, you will train a deep model on the CIFAR10 from the scratch using PyTorch. The following tasks should be done:\n",
    "- Task 1: per batch training/testing\n",
    "- Task 2: Instance inference and visualization"
   ]
  },
  {
   "cell_type": "markdown",
   "metadata": {},
   "source": [
    "### Basic Imports"
   ]
  },
  {
   "cell_type": "code",
   "execution_count": 1,
   "metadata": {},
   "outputs": [],
   "source": [
    "import numpy"
   ]
  },
  {
   "cell_type": "code",
   "execution_count": 2,
   "metadata": {},
   "outputs": [],
   "source": [
    "import os\n",
    "import time\n",
    "import os.path as osp\n",
    "\n",
    "import numpy as np\n",
    "import pandas as pd\n",
    "\n",
    "import torch\n",
    "import torch.nn as nn\n",
    "import torch.nn.functional as F\n",
    "import torch.optim as optim\n",
    "from torch.utils.data import DataLoader\n",
    "\n",
    "from torchvision import datasets\n",
    "from torchvision import transforms\n",
    "import torchvision.transforms as transforms\n",
    "import torchvision\n",
    "\n",
    "import matplotlib.pyplot as plt\n",
    "from PIL import Image"
   ]
  },
  {
   "cell_type": "code",
   "execution_count": null,
   "metadata": {},
   "outputs": [],
   "source": []
  },
  {
   "cell_type": "markdown",
   "metadata": {},
   "source": [
    "### Hyperparameters"
   ]
  },
  {
   "cell_type": "code",
   "execution_count": 3,
   "metadata": {},
   "outputs": [],
   "source": [
    "# random seed\n",
    "SEED = 1 \n",
    "NUM_CLASS = 10\n",
    "\n",
    "# Training\n",
    "BATCH_SIZE = 128\n",
    "NUM_EPOCHS = 30\n",
    "EVAL_INTERVAL=1\n",
    "SAVE_DIR = './log'\n",
    "\n",
    "# Optimizer\n",
    "LEARNING_RATE = 1e-1\n",
    "MOMENTUM = 0.9\n",
    "STEP=5\n",
    "GAMMA=0.5\n"
   ]
  },
  {
   "cell_type": "markdown",
   "metadata": {},
   "source": [
    "### Device"
   ]
  },
  {
   "cell_type": "code",
   "execution_count": 4,
   "metadata": {},
   "outputs": [],
   "source": [
    "device = torch.device(\"cuda:0\" if torch.cuda.is_available() else \"cpu\")"
   ]
  },
  {
   "cell_type": "markdown",
   "metadata": {},
   "source": [
    "\n",
    "### Dataset\n"
   ]
  },
  {
   "cell_type": "code",
   "execution_count": 5,
   "metadata": {},
   "outputs": [],
   "source": [
    "# 定义 MNIST 数据集的转换\n",
    "transform_mnist_train = transforms.Compose([\n",
    "    transforms.RandomRotation(10),  # 随机旋转\n",
    "    transforms.RandomResizedCrop(28, scale=(0.9, 1.0), ratio=(0.9, 1.1)),  # 随机裁剪\n",
    "    transforms.ColorJitter(brightness=0.2, contrast=0.2, saturation=0.2, hue=0.2),  # 随机颜色调整\n",
    "    transforms.ToTensor(),\n",
    "    transforms.Normalize((0.1307,), (0.3081,)),\n",
    "])\n",
    "\n",
    "transform_mnist_test = transforms.Compose([\n",
    "    transforms.ToTensor(),\n",
    "    transforms.Normalize((0.1307,), (0.3081,)),\n",
    "])\n",
    "\n",
    "# 加载 MNIST 训练集\n",
    "train_set = torchvision.datasets.MNIST(root='../data', train=True, download=True, transform=transform_mnist_train)\n",
    "train_dataloader = torch.utils.data.DataLoader(train_set, batch_size=BATCH_SIZE, shuffle=True, num_workers=4)\n",
    "\n",
    "# 加载 MNIST 测试集\n",
    "test_set = torchvision.datasets.MNIST(root='../data', train=False, download=True, transform=transform_mnist_test)\n",
    "test_dataloader = torch.utils.data.DataLoader(test_set, batch_size=BATCH_SIZE, shuffle=False, num_workers=4)\n",
    "\n",
    "# 类别名称列表\n",
    "class_names = [str(i) for i in range(10)]  # MNIST 数据集有 10 个类别，使用数字标识\n"
   ]
  },
  {
   "cell_type": "markdown",
   "metadata": {},
   "source": [
    "### Model"
   ]
  },
  {
   "cell_type": "code",
   "execution_count": 6,
   "metadata": {},
   "outputs": [],
   "source": [
    "class ConvNet(nn.Module):\n",
    "    def __init__(self):\n",
    "        super(ConvNet, self).__init__()\n",
    "        self.conv1 = nn.Conv2d(1, 32, 3)  \n",
    "        self.pool = nn.MaxPool2d(2, 2)\n",
    "        self.conv2 = nn.Conv2d(32, 64, 3)  \n",
    "        self.fc1 = nn.Linear(64 * 5 * 5, 128)\n",
    "        self.fc2 = nn.Linear(128, 10)\n",
    "\n",
    "    def forward(self, x):\n",
    "        x = self.pool(torch.relu(self.conv1(x)))\n",
    "        x = self.pool(torch.relu(self.conv2(x)))\n",
    "        x = x.view(-1, 64 * 5 * 5)\n",
    "        x = torch.relu(self.fc1(x))\n",
    "        x = self.fc2(x)\n",
    "        return x"
   ]
  },
  {
   "cell_type": "code",
   "execution_count": 7,
   "metadata": {},
   "outputs": [
    {
     "data": {
      "text/plain": [
       "ConvNet(\n",
       "  (conv1): Conv2d(1, 32, kernel_size=(3, 3), stride=(1, 1))\n",
       "  (pool): MaxPool2d(kernel_size=2, stride=2, padding=0, dilation=1, ceil_mode=False)\n",
       "  (conv2): Conv2d(32, 64, kernel_size=(3, 3), stride=(1, 1))\n",
       "  (fc1): Linear(in_features=1600, out_features=128, bias=True)\n",
       "  (fc2): Linear(in_features=128, out_features=10, bias=True)\n",
       ")"
      ]
     },
     "execution_count": 7,
     "metadata": {},
     "output_type": "execute_result"
    }
   ],
   "source": [
    "model = ConvNet()\n",
    "model.to(device)"
   ]
  },
  {
   "cell_type": "markdown",
   "metadata": {},
   "source": [
    "### Optimizer"
   ]
  },
  {
   "cell_type": "code",
   "execution_count": 8,
   "metadata": {},
   "outputs": [],
   "source": [
    "optimizer = optim.SGD(model.parameters(), lr=LEARNING_RATE, momentum=MOMENTUM)\n",
    "scheduler = optim.lr_scheduler.StepLR(optimizer, step_size=STEP, gamma=GAMMA)"
   ]
  },
  {
   "cell_type": "markdown",
   "metadata": {},
   "source": [
    "### Task 1: per batch training/testing\n",
    "---\n",
    "\n",
    "Please denfine two function named ``train_batch`` and ``test_batch``. These functions are essential for training and evaluating machine learning models using batched data from dataloaders.\n",
    "\n",
    "**To do**: \n",
    "1. Define the loss function i.e [nn.CrossEntropyLoss()](https://pytorch.org/docs/stable/generated/torch.nn.CrossEntropyLoss.html).\n",
    "2. Take the image as the input and generate the output using the pre-defined SimpleNet.\n",
    "3. Calculate the loss between the output and the corresponding label using the loss function."
   ]
  },
  {
   "cell_type": "code",
   "execution_count": 9,
   "metadata": {},
   "outputs": [],
   "source": [
    "##################### Write your answer here ##################\n",
    "# Define the loss function\n",
    "criterion = nn.CrossEntropyLoss()\n",
    "###############################################################"
   ]
  },
  {
   "cell_type": "code",
   "execution_count": 10,
   "metadata": {},
   "outputs": [],
   "source": [
    "def train_batch(model, image, target):\n",
    "    \"\"\"\n",
    "    Perform one training batch iteration.\n",
    "\n",
    "    Args:\n",
    "        model (torch.nn.Module): The machine learning model to train.\n",
    "        image (torch.Tensor): Batch of input data (images).\n",
    "        target (torch.Tensor): Batch of target labels.\n",
    "\n",
    "    Returns:\n",
    "        torch.Tensor: Model output (predictions) for the batch.\n",
    "        torch.Tensor: Loss value calculated by the defined loss function loss_fn().\n",
    "    \"\"\"\n",
    "    \n",
    "    ##################### Write your answer here ##################\n",
    "    output = model(image)\n",
    "    loss = criterion(output,target)\n",
    "    ###############################################################\n",
    "\n",
    "    return output, loss"
   ]
  },
  {
   "cell_type": "code",
   "execution_count": 11,
   "metadata": {},
   "outputs": [],
   "source": [
    "\n",
    "def test_batch(model, image, target):\n",
    "    \"\"\"\n",
    "    Perform one testing batch iteration.\n",
    "\n",
    "    Args:\n",
    "        model (torch.nn.Module): The machine learning model to evaluate.\n",
    "        image (torch.Tensor): Batch of input data (images).\n",
    "        target (torch.Tensor): Batch of target labels.\n",
    "\n",
    "    Returns:\n",
    "        torch.Tensor: Model output (predictions) for the batch.\n",
    "        torch.Tensor: Loss value calculated for the batch.\n",
    "    \"\"\"\n",
    "\n",
    "    ##################### Write your answer here ##################\n",
    "    output = model(image)\n",
    "    loss = criterion(output,target)\n",
    "    ###############################################################\n",
    "\n",
    "    return output, loss"
   ]
  },
  {
   "cell_type": "markdown",
   "metadata": {},
   "source": [
    "### Model Training"
   ]
  },
  {
   "cell_type": "code",
   "execution_count": 12,
   "metadata": {},
   "outputs": [
    {
     "name": "stdout",
     "output_type": "stream",
     "text": [
      "Epoch: 1/30 Train Loss: 0.0017 Acc: 0.9315\n",
      "Begin test......\n",
      "Test Loss: 0.0004 Acc: 0.9857\n",
      "Epoch: 2/30 Train Loss: 0.0006 Acc: 0.9770\n",
      "Begin test......\n",
      "Test Loss: 0.0003 Acc: 0.9885\n",
      "Epoch: 3/30 Train Loss: 0.0005 Acc: 0.9829\n",
      "Begin test......\n",
      "Test Loss: 0.0003 Acc: 0.9895\n",
      "Epoch: 4/30 Train Loss: 0.0004 Acc: 0.9853\n",
      "Begin test......\n",
      "Test Loss: 0.0003 Acc: 0.9901\n",
      "Epoch: 5/30 Train Loss: 0.0004 Acc: 0.9859\n",
      "Begin test......\n",
      "Test Loss: 0.0003 Acc: 0.9908\n",
      "Epoch: 6/30 Train Loss: 0.0002 Acc: 0.9912\n",
      "Begin test......\n",
      "Test Loss: 0.0002 Acc: 0.9932\n",
      "Epoch: 7/30 Train Loss: 0.0002 Acc: 0.9923\n",
      "Begin test......\n",
      "Test Loss: 0.0002 Acc: 0.9926\n",
      "Epoch: 8/30 Train Loss: 0.0002 Acc: 0.9928\n",
      "Begin test......\n",
      "Test Loss: 0.0002 Acc: 0.9928\n",
      "Epoch: 9/30 Train Loss: 0.0002 Acc: 0.9932\n",
      "Begin test......\n",
      "Test Loss: 0.0002 Acc: 0.9929\n",
      "Epoch: 10/30 Train Loss: 0.0002 Acc: 0.9934\n",
      "Begin test......\n",
      "Test Loss: 0.0002 Acc: 0.9930\n",
      "Epoch: 11/30 Train Loss: 0.0001 Acc: 0.9948\n",
      "Begin test......\n",
      "Test Loss: 0.0002 Acc: 0.9939\n",
      "Epoch: 12/30 Train Loss: 0.0001 Acc: 0.9954\n",
      "Begin test......\n",
      "Test Loss: 0.0001 Acc: 0.9940\n",
      "Epoch: 13/30 Train Loss: 0.0001 Acc: 0.9954\n",
      "Begin test......\n",
      "Test Loss: 0.0002 Acc: 0.9941\n",
      "Epoch: 14/30 Train Loss: 0.0001 Acc: 0.9954\n",
      "Begin test......\n",
      "Test Loss: 0.0002 Acc: 0.9940\n",
      "Epoch: 15/30 Train Loss: 0.0001 Acc: 0.9953\n",
      "Begin test......\n",
      "Test Loss: 0.0002 Acc: 0.9942\n",
      "Epoch: 16/30 Train Loss: 0.0001 Acc: 0.9961\n",
      "Begin test......\n",
      "Test Loss: 0.0001 Acc: 0.9944\n",
      "Epoch: 17/30 Train Loss: 0.0001 Acc: 0.9968\n",
      "Begin test......\n",
      "Test Loss: 0.0001 Acc: 0.9945\n",
      "Epoch: 18/30 Train Loss: 0.0001 Acc: 0.9966\n",
      "Begin test......\n",
      "Test Loss: 0.0001 Acc: 0.9947\n",
      "Epoch: 19/30 Train Loss: 0.0001 Acc: 0.9968\n",
      "Begin test......\n",
      "Test Loss: 0.0001 Acc: 0.9950\n",
      "Epoch: 20/30 Train Loss: 0.0001 Acc: 0.9968\n",
      "Begin test......\n",
      "Test Loss: 0.0001 Acc: 0.9949\n",
      "Epoch: 21/30 Train Loss: 0.0001 Acc: 0.9973\n",
      "Begin test......\n",
      "Test Loss: 0.0001 Acc: 0.9953\n",
      "Epoch: 22/30 Train Loss: 0.0001 Acc: 0.9971\n",
      "Begin test......\n",
      "Test Loss: 0.0001 Acc: 0.9951\n",
      "Epoch: 23/30 Train Loss: 0.0001 Acc: 0.9976\n",
      "Begin test......\n",
      "Test Loss: 0.0001 Acc: 0.9956\n",
      "Epoch: 24/30 Train Loss: 0.0001 Acc: 0.9971\n",
      "Begin test......\n",
      "Test Loss: 0.0001 Acc: 0.9948\n",
      "Epoch: 25/30 Train Loss: 0.0001 Acc: 0.9973\n",
      "Begin test......\n",
      "Test Loss: 0.0001 Acc: 0.9946\n",
      "Epoch: 26/30 Train Loss: 0.0001 Acc: 0.9975\n",
      "Begin test......\n",
      "Test Loss: 0.0001 Acc: 0.9947\n",
      "Epoch: 27/30 Train Loss: 0.0001 Acc: 0.9976\n",
      "Begin test......\n",
      "Test Loss: 0.0001 Acc: 0.9953\n",
      "Epoch: 28/30 Train Loss: 0.0001 Acc: 0.9974\n",
      "Begin test......\n",
      "Test Loss: 0.0001 Acc: 0.9949\n",
      "Epoch: 29/30 Train Loss: 0.0001 Acc: 0.9975\n",
      "Begin test......\n",
      "Test Loss: 0.0001 Acc: 0.9951\n",
      "Epoch: 30/30 Train Loss: 0.0001 Acc: 0.9980\n",
      "Begin test......\n",
      "Test Loss: 0.0001 Acc: 0.9951\n"
     ]
    }
   ],
   "source": [
    "training_loss = []\n",
    "training_acc = []\n",
    "testing_loss = []\n",
    "testing_acc = []\n",
    "\n",
    "model.to(device)\n",
    "for epoch in range(NUM_EPOCHS):\n",
    "    torch.cuda.empty_cache()\n",
    "    model.train()\n",
    "    \n",
    "\n",
    "    ##########################\n",
    "    ### Training\n",
    "    ##########################ew\n",
    "\n",
    "    running_cls_loss = 0.0\n",
    "    running_cls_corrects = 0\n",
    "\n",
    "    for  image, target in train_dataloader:\n",
    "#         print(batch_idx)\n",
    "\n",
    "        image = image.to(device)\n",
    "        target = target.to(device)\n",
    "\n",
    "        # train model\n",
    "        outputs, loss = train_batch(model, image, target)\n",
    "        _, preds = torch.max(outputs, 1)\n",
    "\n",
    "        \n",
    "        loss_data = loss.data.item()\n",
    "        if np.isnan(loss_data):\n",
    "            raise ValueError('loss is nan while training')\n",
    "        running_cls_loss += loss.item()\n",
    "        running_cls_corrects += torch.sum(preds == target.data)\n",
    "\n",
    "        loss.backward()\n",
    "        optimizer.step()\n",
    "        optimizer.zero_grad()\n",
    "\n",
    "    epoch_loss = running_cls_loss / len(train_set)\n",
    "    epoch_acc = running_cls_corrects.double() / len(train_set)\n",
    "\n",
    "    print(f'Epoch: {epoch+1}/{NUM_EPOCHS} Train Loss: {epoch_loss:.4f} Acc: {epoch_acc:.4f}')\n",
    "\n",
    "    training_loss.append(epoch_loss)\n",
    "    training_acc.append(epoch_acc.cpu().detach().numpy())\n",
    "\n",
    "    # change learning rate\n",
    "    scheduler.step()\n",
    "\n",
    "\n",
    "    ##########################\n",
    "    ### Testing\n",
    "    ##########################\n",
    "    # # eval model during training or in the last epoch\n",
    "    if (epoch + 1) % EVAL_INTERVAL == 0 or (epoch +1) == NUM_EPOCHS:\n",
    "        print('Begin test......')\n",
    "        model.eval()\n",
    "    \n",
    "        val_loss = 0.0\n",
    "        val_corrects = 0\n",
    "\n",
    "        for batch_idx, (image, target) in enumerate(test_dataloader):\n",
    "\n",
    "            image = image.to(device)\n",
    "            target = target.to(device)\n",
    "\n",
    "            # test model\n",
    "            outputs, loss = test_batch(model, image, target)\n",
    "            _, preds = torch.max(outputs, 1)\n",
    "            \n",
    "            val_loss += loss.item()\n",
    "            val_corrects += torch.sum(preds == target.data)\n",
    "\n",
    "        val_loss = val_loss / len(test_set)\n",
    "        val_acc = val_corrects.double() / len(test_set)\n",
    "        print(f'Test Loss: {val_loss:.4f} Acc: {val_acc:.4f}')\n",
    "        testing_loss.append(val_loss)\n",
    "        testing_acc.append(val_acc.cpu().detach().numpy())\n",
    "\n",
    "        # save the model in last epoch\n",
    "        if (epoch +1) == NUM_EPOCHS:\n",
    "            \n",
    "            state = {\n",
    "            'state_dict': model.state_dict(),\n",
    "            'acc': epoch_acc,\n",
    "            'epoch': (epoch+1),\n",
    "            }\n",
    "\n",
    "            # check the dir\n",
    "            if not os.path.exists(SAVE_DIR):\n",
    "                os.makedirs(SAVE_DIR)\n",
    "\n",
    "            # save the state\n",
    "            torch.save(state, osp.join(SAVE_DIR, 'checkpoint_%s.pth' % (str(epoch+1))))"
   ]
  }
 ],
 "metadata": {
  "kernelspec": {
   "display_name": "Python 3 (ipykernel)",
   "language": "python",
   "name": "python3"
  },
  "language_info": {
   "codemirror_mode": {
    "name": "ipython",
    "version": 3
   },
   "file_extension": ".py",
   "mimetype": "text/x-python",
   "name": "python",
   "nbconvert_exporter": "python",
   "pygments_lexer": "ipython3",
   "version": "3.10.12"
  }
 },
 "nbformat": 4,
 "nbformat_minor": 4
}

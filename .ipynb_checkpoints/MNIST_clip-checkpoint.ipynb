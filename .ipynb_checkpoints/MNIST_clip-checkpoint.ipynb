{
 "cells": [
  {
   "cell_type": "markdown",
   "id": "5c86176e",
   "metadata": {},
   "source": [
    "# CLIP zero-shot prediction\n",
    "## Basic import"
   ]
  },
  {
   "cell_type": "code",
   "execution_count": 1,
   "id": "090d33e0",
   "metadata": {},
   "outputs": [],
   "source": [
    "import os\n",
    "import time\n",
    "import os.path as osp\n",
    "\n",
    "import numpy as np\n",
    "import pandas as pd\n",
    "\n",
    "import torch\n",
    "import torch.nn as nn\n",
    "import torch.nn.functional as F\n",
    "import torch.optim as optim\n",
    "from torch.utils.data import DataLoader\n",
    "\n",
    "from torchvision.datasets import MNIST\n",
    "from torchvision import datasets\n",
    "from torchvision import transforms\n",
    "import torchvision\n",
    "\n",
    "from PIL import Image, ImageFilter\n",
    "import matplotlib.pyplot as plt\n",
    "from PIL import Image\n",
    "from clip import clip"
   ]
  },
  {
   "cell_type": "markdown",
   "id": "448b25db",
   "metadata": {},
   "source": [
    "## Hyperparameters"
   ]
  },
  {
   "cell_type": "code",
   "execution_count": 2,
   "id": "629f009d",
   "metadata": {},
   "outputs": [],
   "source": [
    "# # random seed\n",
    "# SEED = 1 \n",
    "# NUM_CLASS = 10\n",
    "\n",
    "# Training\n",
    "BATCH_SIZE = 128\n",
    "# NUM_EPOCHS = 30\n",
    "# EVAL_INTERVAL=1\n",
    "# SAVE_DIR = './log'\n",
    "\n",
    "# # Optimizer\n",
    "# LEARNING_RATE = 1e-1\n",
    "# MOMENTUM = 0.9\n",
    "# STEP=5\n",
    "# GAMMA=0.5\n",
    "\n",
    "# CLIP\n",
    "VISUAL_BACKBONE = 'RN50' # RN50, ViT-B/32, ViT-B/16\n"
   ]
  },
  {
   "cell_type": "markdown",
   "id": "7932b330",
   "metadata": {},
   "source": [
    "## Device"
   ]
  },
  {
   "cell_type": "code",
   "execution_count": 3,
   "id": "d8e55f2a",
   "metadata": {},
   "outputs": [],
   "source": [
    "device = torch.device(\"cuda:0\" if torch.cuda.is_available() else \"cpu\")"
   ]
  },
  {
   "cell_type": "markdown",
   "id": "ba3932a0",
   "metadata": {},
   "source": [
    "## Model"
   ]
  },
  {
   "cell_type": "markdown",
   "id": "ec5c2508",
   "metadata": {},
   "source": [
    "### Clip"
   ]
  },
  {
   "cell_type": "code",
   "execution_count": 4,
   "id": "56fd6f45",
   "metadata": {},
   "outputs": [
    {
     "data": {
      "text/plain": [
       "['RN50',\n",
       " 'RN101',\n",
       " 'RN50x4',\n",
       " 'RN50x16',\n",
       " 'RN50x64',\n",
       " 'ViT-B/32',\n",
       " 'ViT-B/16',\n",
       " 'ViT-L/14',\n",
       " 'ViT-L/14@336px']"
      ]
     },
     "execution_count": 4,
     "metadata": {},
     "output_type": "execute_result"
    }
   ],
   "source": [
    "# Load the model\n",
    "model, preprocess= clip.load(name=VISUAL_BACKBONE, device=device, download_root='/clip/')\n",
    "model.to(device)\n",
    "clip.available_models()"
   ]
  },
  {
   "cell_type": "code",
   "execution_count": 5,
   "id": "064de37a",
   "metadata": {},
   "outputs": [
    {
     "name": "stdout",
     "output_type": "stream",
     "text": [
      "['0', '1', '2', '3', '4', '5', '6', '7', '8', '9']\n"
     ]
    }
   ],
   "source": [
    "# 数据转换管道\n",
    "transform_mnist_test = transforms.Compose([\n",
    "    transforms.Resize(size=224),  # 可以根据需要调整大小\n",
    "    transforms.Grayscale(num_output_channels=3),\n",
    "    transforms.CenterCrop(size=(224, 224)),\n",
    "    transforms.ToTensor(),\n",
    "    transforms.Normalize((0.5,0.5,0.5), (0.5,0.5,0.5))  # 使用MNIST的均值和标准差\n",
    "])\n",
    "\n",
    "# 测试数据集\n",
    "# test_set = datasets.MNIST(root='./data', train=False, download=True, transform=transform_mnist_test)\n",
    "\n",
    "test_set = torchvision.datasets.MNIST(root='/data/dataset/', train=False,\n",
    "                                       download=True, transform=transform_mnist_test)  # 修改此行\n",
    "\n",
    "# 数据加载器\n",
    "test_dataloader = torch.utils.data.DataLoader(test_set, batch_size=BATCH_SIZE, shuffle=False, num_workers=2)\n",
    "\n",
    "# 类别标签（MNIST有10个类别，数字0到9）\n",
    "class_names = [str(i) for i in range(10)]\n",
    "\n",
    "# 数据集名称\n",
    "dataset_name = 'MNIST'\n",
    "print(class_names)"
   ]
  },
  {
   "cell_type": "code",
   "execution_count": 6,
   "id": "7ecdb88d",
   "metadata": {},
   "outputs": [],
   "source": [
    "prompt = 'a number: ' # you can try different prompt\n",
    "\n",
    "text_inputs = torch.cat([clip.tokenize(f\"{prompt} {c}\") for c in class_names]).to(device)\n"
   ]
  },
  {
   "cell_type": "code",
   "execution_count": 7,
   "id": "54d03f70",
   "metadata": {},
   "outputs": [],
   "source": [
    "def model_inference(model, image, text_inputs):\n",
    "    \"\"\"\n",
    "    Args:\n",
    "        model (torch.nn.Module): 训练好的机器学习模型\n",
    "        image (torch.Tensor): 输入图像张量\n",
    "        text_inputs (torch.Tensor): 输入文本张量\n",
    "\n",
    "    Returns:\n",
    "        logits (torch.Tensor): 模型的预测logits\n",
    "    \"\"\"\n",
    "    image_features = model.encode_image(image)\n",
    "    text_features = model.encode_text(text_inputs)\n",
    "\n",
    "    image_features /= image_features.norm(dim=-1, keepdim=True)\n",
    "    text_features /= text_features.norm(dim=-1, keepdim=True)\n",
    "\n",
    "    logit_scale = model.logit_scale.exp()\n",
    "\n",
    "    logits = logit_scale * image_features @ text_features.t()\n",
    "    \n",
    "    return logits\n",
    "\n"
   ]
  },
  {
   "cell_type": "code",
   "execution_count": 8,
   "id": "5c8773f6",
   "metadata": {},
   "outputs": [
    {
     "name": "stdout",
     "output_type": "stream",
     "text": [
      "the zero-shot performance on MNIST is 40.63%, visual encoder is RN50.\n"
     ]
    }
   ],
   "source": [
    "testing_loss = []\n",
    "testing_acc = []\n",
    "\n",
    "with torch.no_grad():\n",
    "    model.eval()  \n",
    "    ##################### Write your answer here ##################\n",
    "    correct_predictions = 0\n",
    "    \n",
    "    for batch,(image, class_id) in enumerate(test_dataloader):\n",
    "       \n",
    "        image=image.to(device)\n",
    "        class_id=class_id.to(device)\n",
    "        \n",
    "        logits = model_inference(model,image,text_inputs)\n",
    "        \n",
    "        _ , predictions = torch.max(logits,1)\n",
    "#         print(predictions,class_id)\n",
    "        correct_predictions += torch.sum(predictions == class_id.data)\n",
    "    \n",
    "    val_acc = correct_predictions.double() / len(test_set)\n",
    "    \n",
    "    ###############################################################\n",
    "\n",
    "    print(f\"the zero-shot performance on {dataset_name} is {val_acc*100:.2f}%, visual encoder is {VISUAL_BACKBONE}.\")"
   ]
  }
 ],
 "metadata": {
  "kernelspec": {
   "display_name": "Python 3 (ipykernel)",
   "language": "python",
   "name": "python3"
  },
  "language_info": {
   "codemirror_mode": {
    "name": "ipython",
    "version": 3
   },
   "file_extension": ".py",
   "mimetype": "text/x-python",
   "name": "python",
   "nbconvert_exporter": "python",
   "pygments_lexer": "ipython3",
   "version": "3.10.12"
  }
 },
 "nbformat": 4,
 "nbformat_minor": 5
}

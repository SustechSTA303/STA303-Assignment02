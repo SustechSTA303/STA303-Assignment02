{
 "cells": [
  {
   "cell_type": "markdown",
   "id": "9a6ab785-f590-4628-b954-5e2959293513",
   "metadata": {},
   "source": [
    "# Basic Import"
   ]
  },
  {
   "cell_type": "code",
   "execution_count": 1,
   "id": "f3386ccf-7f3d-4681-8b4f-4b41386af8a4",
   "metadata": {},
   "outputs": [],
   "source": [
    "import torchvision.datasets as datasets\n",
    "import torchvision.transforms as transforms\n",
    "import torchvision.models as models\n",
    "import tqdm\n",
    "import clip\n",
    "import torch\n",
    "import torch.nn as nn\n",
    "import torch.optim as optim\n",
    "import funct"
   ]
  },
  {
   "cell_type": "code",
   "execution_count": 2,
   "id": "0baad179-0f7e-414a-8e64-bf5b4403d99b",
   "metadata": {},
   "outputs": [],
   "source": [
    "EPOCH=3\n",
    "\n",
    "device = torch.device(\"cuda\" if torch.cuda.is_available() else \"cpu\")"
   ]
  },
  {
   "cell_type": "markdown",
   "id": "e1c61e0a-8afa-4cf5-b593-38ba3e287ac9",
   "metadata": {},
   "source": [
    "# Dataset"
   ]
  },
  {
   "cell_type": "code",
   "execution_count": 3,
   "id": "432a6eb2-8064-45e9-80d6-401dd4a0d225",
   "metadata": {},
   "outputs": [
    {
     "name": "stdout",
     "output_type": "stream",
     "text": [
      "Files already downloaded and verified\n",
      "Files already downloaded and verified\n",
      "Files already downloaded and verified\n"
     ]
    }
   ],
   "source": [
    "transform=transforms.Compose([\n",
    "    transforms.Resize(size=(224,224)),\n",
    "    transforms.ToTensor()\n",
    "])\n",
    "# datasets for fine-tuning and evaluating resnet50\n",
    "resnet_train = datasets.CIFAR100(root='./data',train=True,download=True,transform=transform)\n",
    "resnet_test=datasets.CIFAR100(root='./data',train=False,download=True,transform=transform)\n",
    "#dataset for evaluating Clip\n",
    "clip_test=datasets.CIFAR100(root='./data',train=False,download=True)\n",
    "\n",
    "train_dataloader=torch.utils.data.DataLoader(resnet_train,batch_size=20,shuffle=True,num_workers=2)\n",
    "test_dataloader=torch.utils.data.DataLoader(resnet_test,batch_size=20,shuffle=False,num_workers=2)"
   ]
  },
  {
   "cell_type": "markdown",
   "id": "fc47edfe-5c46-4177-b1ed-5478754e9998",
   "metadata": {},
   "source": [
    "# Evaluating CLIP"
   ]
  },
  {
   "cell_type": "code",
   "execution_count": 4,
   "id": "132fd339-b602-41f6-a53a-9f9f8bbd5a9d",
   "metadata": {},
   "outputs": [],
   "source": [
    "VISUAL_BACKBONE=\"ViT-L/14\"\n",
    "names=resnet_train.classes\n",
    "\n",
    "model, preprocess = clip.load(VISUAL_BACKBONE, device ,download_root='/shareddata/clip/')\n",
    "\n",
    "text_inputs=torch.cat([clip.tokenize(f\"a photo of {c}\") for c in resnet_train.classes]).to(device)"
   ]
  },
  {
   "cell_type": "code",
   "execution_count": 5,
   "id": "15a0c40e-fbb9-4ac0-9bd1-154c98f98637",
   "metadata": {
    "tags": []
   },
   "outputs": [
    {
     "name": "stderr",
     "output_type": "stream",
     "text": [
      "100%|██████████| 10000/10000 [09:49<00:00, 16.96it/s]"
     ]
    },
    {
     "name": "stdout",
     "output_type": "stream",
     "text": [
      "the accuracy of Clip on CIFAR100 dataset is 65.27%, visual encoder is ViT-L/14\n"
     ]
    },
    {
     "name": "stderr",
     "output_type": "stream",
     "text": [
      "\n"
     ]
    }
   ],
   "source": [
    "accuracy=funct.clip_testing(model,preprocess,clip_test,device,text_inputs)\n",
    "\n",
    "print(f\"the accuracy of Clip on CIFAR100 dataset is {accuracy*100:.2f}%, visual encoder is {VISUAL_BACKBONE}\")"
   ]
  },
  {
   "cell_type": "markdown",
   "id": "2ec11f44-de2a-432a-9bfd-852d8830102d",
   "metadata": {},
   "source": [
    "# Fine-tuning and evaluating ResNet50"
   ]
  },
  {
   "cell_type": "code",
   "execution_count": 6,
   "id": "206ab5ea-38ea-40dc-8858-f7f297067a7a",
   "metadata": {},
   "outputs": [
    {
     "name": "stderr",
     "output_type": "stream",
     "text": [
      "/root/miniconda3/lib/python3.8/site-packages/torchvision/models/_utils.py:208: UserWarning: The parameter 'pretrained' is deprecated since 0.13 and may be removed in the future, please use 'weights' instead.\n",
      "  warnings.warn(\n",
      "/root/miniconda3/lib/python3.8/site-packages/torchvision/models/_utils.py:223: UserWarning: Arguments other than a weight enum or `None` for 'weights' are deprecated since 0.13 and may be removed in the future. The current behavior is equivalent to passing `weights=ResNet50_Weights.IMAGENET1K_V1`. You can also use `weights=ResNet50_Weights.DEFAULT` to get the most up-to-date weights.\n",
      "  warnings.warn(msg)\n"
     ]
    }
   ],
   "source": [
    "resnet50=models.resnet50(pretrained=True)\n",
    "resnet50.fc=torch.nn.Linear(2048,100) #add a fully connected layer to adjust the output dimension\n",
    "resnet50=resnet50.to(device)\n",
    "\n",
    "criterion=nn.CrossEntropyLoss()\n",
    "optimizer = optim.SGD(resnet50.parameters(), lr=1e-2, momentum=0.9)"
   ]
  },
  {
   "cell_type": "code",
   "execution_count": 7,
   "id": "7c9c1b92-2cab-4555-8888-7cce75052f6b",
   "metadata": {
    "tags": []
   },
   "outputs": [
    {
     "name": "stderr",
     "output_type": "stream",
     "text": [
      "100%|██████████| 2500/2500 [04:49<00:00,  8.62it/s]\n",
      "100%|██████████| 500/500 [00:12<00:00, 40.11it/s]\n"
     ]
    },
    {
     "name": "stdout",
     "output_type": "stream",
     "text": [
      "the accuracy of ResNet on CIFAR100 dataset is 59.00%, the training epoch is1\n"
     ]
    },
    {
     "name": "stderr",
     "output_type": "stream",
     "text": [
      "100%|██████████| 2500/2500 [04:44<00:00,  8.79it/s]\n",
      "100%|██████████| 500/500 [00:12<00:00, 39.58it/s]\n"
     ]
    },
    {
     "name": "stdout",
     "output_type": "stream",
     "text": [
      "the accuracy of ResNet on CIFAR100 dataset is 66.09%, the training epoch is2\n"
     ]
    },
    {
     "name": "stderr",
     "output_type": "stream",
     "text": [
      "100%|██████████| 2500/2500 [05:01<00:00,  8.30it/s]\n",
      "100%|██████████| 500/500 [00:13<00:00, 37.35it/s]"
     ]
    },
    {
     "name": "stdout",
     "output_type": "stream",
     "text": [
      "the accuracy of ResNet on CIFAR100 dataset is 70.55%, the training epoch is3\n"
     ]
    },
    {
     "name": "stderr",
     "output_type": "stream",
     "text": [
      "\n"
     ]
    }
   ],
   "source": [
    "for i in range(EPOCH): # just training for 3 epochs. The accuracy may not converge\n",
    "    funct.resnet_training(resnet50,criterion,optimizer,train_dataloader,device)\n",
    "    corrects=funct.resnet_testing(resnet50,test_dataloader,device)\n",
    "    accuracy=corrects/len(resnet_test)\n",
    "    print(f\"the accuracy of ResNet on CIFAR100 dataset is {accuracy*100:.2f}%, the training epoch is{i+1}\")"
   ]
  }
 ],
 "metadata": {
  "kernelspec": {
   "display_name": "Python 3 (ipykernel)",
   "language": "python",
   "name": "python3"
  },
  "language_info": {
   "codemirror_mode": {
    "name": "ipython",
    "version": 3
   },
   "file_extension": ".py",
   "mimetype": "text/x-python",
   "name": "python",
   "nbconvert_exporter": "python",
   "pygments_lexer": "ipython3",
   "version": "3.8.10"
  }
 },
 "nbformat": 4,
 "nbformat_minor": 5
}

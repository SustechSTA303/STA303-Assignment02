{
 "cells": [
  {
   "cell_type": "markdown",
   "metadata": {},
   "source": [
    "# Assignment 01: Multi-class Classification \n",
    "In this Assignment, you will train a deep model on the CIFAR10 from the scratch using PyTorch."
   ]
  },
  {
   "cell_type": "markdown",
   "metadata": {},
   "source": [
    "### Basic Imports"
   ]
  },
  {
   "cell_type": "code",
   "execution_count": 1,
   "metadata": {},
   "outputs": [],
   "source": [
    "import os\n",
    "import time\n",
    "import os.path as osp\n",
    "\n",
    "import numpy as np\n",
    "import pandas as pd\n",
    "\n",
    "import torch\n",
    "import torch.nn as nn\n",
    "import torch.nn.functional as F\n",
    "import torch.optim as optim\n",
    "from torch.utils.data import DataLoader\n",
    "\n",
    "from torchvision import datasets\n",
    "from torchvision import transforms\n",
    "import torchvision\n",
    "\n",
    "import matplotlib.pyplot as plt\n",
    "from PIL import Image\n",
    "\n",
    "from sklearn.metrics import f1_score"
   ]
  },
  {
   "cell_type": "markdown",
   "metadata": {},
   "source": [
    "### Hyperparameters"
   ]
  },
  {
   "cell_type": "code",
   "execution_count": 2,
   "metadata": {},
   "outputs": [],
   "source": [
    "# random seed\n",
    "SEED = 42\n",
    "NUM_CLASS = 10\n",
    "\n",
    "# Training\n",
    "BATCH_SIZE = 128\n",
    "NUM_EPOCHS = 30\n",
    "EVAL_INTERVAL=1\n",
    "SAVE_DIR = './log'\n",
    "\n",
    "# Optimizer\n",
    "LEARNING_RATE = 1e-1\n",
    "MOMENTUM = 0.9\n",
    "STEP=5\n",
    "GAMMA=0.5\n"
   ]
  },
  {
   "cell_type": "markdown",
   "metadata": {},
   "source": [
    "### Device"
   ]
  },
  {
   "cell_type": "code",
   "execution_count": 3,
   "metadata": {},
   "outputs": [],
   "source": [
    "device = torch.device(\"cuda:0\" if torch.cuda.is_available() else \"cpu\")"
   ]
  },
  {
   "cell_type": "markdown",
   "metadata": {},
   "source": [
    "\n",
    "### Dataset\n"
   ]
  },
  {
   "cell_type": "code",
   "execution_count": 4,
   "metadata": {},
   "outputs": [
    {
     "name": "stdout",
     "output_type": "stream",
     "text": [
      "Files already downloaded and verified\n",
      "Files already downloaded and verified\n"
     ]
    }
   ],
   "source": [
    "# cifar10 transform\n",
    "transform_cifar10_train = transforms.Compose([\n",
    "    transforms.RandomCrop(32, padding=4),\n",
    "    transforms.RandomHorizontalFlip(),\n",
    "    transforms.ToTensor(),\n",
    "    transforms.Normalize((0.4914, 0.4822, 0.4465), (0.2023, 0.1994, 0.2010)),\n",
    "])\n",
    "\n",
    "transform_cifar10_test = transforms.Compose([\n",
    "    transforms.ToTensor(),\n",
    "    transforms.Normalize((0.4914, 0.4822, 0.4465), (0.2023, 0.1994, 0.2010)),\n",
    "])\n",
    "\n",
    "train_set = torchvision.datasets.CIFAR10(root='../data', train=True,\n",
    "                                        download=True, transform=transform_cifar10_train)\n",
    "train_dataloader = torch.utils.data.DataLoader(train_set, batch_size=BATCH_SIZE,\n",
    "                                          shuffle=True, num_workers=2)\n",
    "\n",
    "test_set = torchvision.datasets.CIFAR10(root='../data', train=False,\n",
    "                                       download=True, transform=transform_cifar10_test)\n",
    "test_dataloader = torch.utils.data.DataLoader(test_set, batch_size=BATCH_SIZE,\n",
    "                                         shuffle=False, num_workers=2)\n",
    "\n",
    "class_names = ['airplane', 'automobile', 'bird', 'cat', 'deer', 'dog', 'frog', 'horse', 'ship', 'truck']\n"
   ]
  },
  {
   "cell_type": "markdown",
   "metadata": {},
   "source": [
    "### Model"
   ]
  },
  {
   "cell_type": "code",
   "execution_count": 5,
   "metadata": {},
   "outputs": [],
   "source": [
    "class ConvNet(nn.Module):\n",
    "    def __init__(self):\n",
    "        super(ConvNet, self).__init__()\n",
    "        self.conv1 = nn.Conv2d(3, 4, 3)  \n",
    "        self.pool = nn.MaxPool2d(2, 2)\n",
    "        self.conv2 = nn.Conv2d(4, 8, 3)  \n",
    "        self.fc1 = nn.Linear(8 * 6 * 6, 32)\n",
    "        self.fc2 = nn.Linear(32, 10)\n",
    "\n",
    "    def forward(self, x):\n",
    "        x = self.pool(torch.relu(self.conv1(x)))\n",
    "        x = self.pool(torch.relu(self.conv2(x)))\n",
    "        x = x.view(-1, 8 * 6 * 6)\n",
    "        x = torch.relu(self.fc1(x))\n",
    "        x = self.fc2(x)\n",
    "        return x"
   ]
  },
  {
   "cell_type": "code",
   "execution_count": 6,
   "metadata": {},
   "outputs": [
    {
     "data": {
      "text/plain": [
       "ConvNet(\n",
       "  (conv1): Conv2d(3, 4, kernel_size=(3, 3), stride=(1, 1))\n",
       "  (pool): MaxPool2d(kernel_size=2, stride=2, padding=0, dilation=1, ceil_mode=False)\n",
       "  (conv2): Conv2d(4, 8, kernel_size=(3, 3), stride=(1, 1))\n",
       "  (fc1): Linear(in_features=288, out_features=32, bias=True)\n",
       "  (fc2): Linear(in_features=32, out_features=10, bias=True)\n",
       ")"
      ]
     },
     "execution_count": 6,
     "metadata": {},
     "output_type": "execute_result"
    }
   ],
   "source": [
    "model = ConvNet()\n",
    "model.to(device)"
   ]
  },
  {
   "cell_type": "markdown",
   "metadata": {},
   "source": [
    "### Optimizer"
   ]
  },
  {
   "cell_type": "code",
   "execution_count": 7,
   "metadata": {},
   "outputs": [],
   "source": [
    "optimizer = optim.SGD(model.parameters(), lr=LEARNING_RATE, momentum=MOMENTUM)\n",
    "\n",
    "scheduler = torch.optim.lr_scheduler.StepLR(optimizer, step_size=STEP, gamma=GAMMA)"
   ]
  },
  {
   "cell_type": "markdown",
   "metadata": {},
   "source": [
    "### Task 1: per batch training/testing\n",
    "---\n",
    "\n",
    "Please denfine two function named ``train_batch`` and ``test_batch``. These functions are essential for training and evaluating machine learning models using batched data from dataloaders.\n",
    "\n",
    "**To do**: \n",
    "1. Define the loss function i.e [nn.CrossEntropyLoss()](https://pytorch.org/docs/stable/generated/torch.nn.CrossEntropyLoss.html).\n",
    "2. Take the image as the input and generate the output using the pre-defined SimpleNet.\n",
    "3. Calculate the loss between the output and the corresponding label using the loss function."
   ]
  },
  {
   "cell_type": "code",
   "execution_count": 8,
   "metadata": {},
   "outputs": [],
   "source": [
    "class FocalLoss(nn.Module):\n",
    "    def __init__(self, gamma=2):\n",
    "        super(FocalLoss, self).__init__()\n",
    "        self.gamma = gamma\n",
    "\n",
    "    def forward(self, input, target):\n",
    "        ce_loss = F.cross_entropy(input, target, reduction='none')\n",
    "        pt = torch.exp(-ce_loss)\n",
    "        focal_loss = (1 - pt) ** self.gamma * ce_loss\n",
    "        return torch.mean(focal_loss)"
   ]
  },
  {
   "cell_type": "code",
   "execution_count": 9,
   "metadata": {},
   "outputs": [],
   "source": [
    "\n",
    "criterion1 = nn.CrossEntropyLoss()\n",
    "criterion2 = FocalLoss(gamma=0.5)\n",
    "criterion3 = FocalLoss(gamma=2)\n",
    "\n",
    "criteria = [criterion1, criterion2, criterion3]"
   ]
  },
  {
   "cell_type": "code",
   "execution_count": 10,
   "metadata": {},
   "outputs": [],
   "source": [
    "def train_batch(model, image, target, criterion):\n",
    "    output = model(image)\n",
    "    loss = criterion(output, target)\n",
    "    return output, loss"
   ]
  },
  {
   "cell_type": "code",
   "execution_count": 11,
   "metadata": {},
   "outputs": [],
   "source": [
    "def test_batch(model, image, target, criterion):\n",
    "    output = model(image)\n",
    "    loss = criterion(output, target)\n",
    "    return output, loss"
   ]
  },
  {
   "cell_type": "markdown",
   "metadata": {},
   "source": [
    "### Model Training"
   ]
  },
  {
   "cell_type": "code",
   "execution_count": 12,
   "metadata": {},
   "outputs": [
    {
     "name": "stdout",
     "output_type": "stream",
     "text": [
      "Epoch: 1/30 Train Loss: 0.0136 Acc: 0.3047\n",
      "Begin test......\n",
      "Test Loss: 0.0120 Acc: 0.3706\n",
      "F1 Score: 0.3579\n",
      "Epoch: 2/30 Train Loss: 0.0126 Acc: 0.3562\n",
      "Begin test......\n",
      "Test Loss: 0.0116 Acc: 0.4073\n",
      "F1 Score: 0.3947\n",
      "Epoch: 3/30 Train Loss: 0.0125 Acc: 0.3590\n",
      "Begin test......\n",
      "Test Loss: 0.0117 Acc: 0.4082\n",
      "F1 Score: 0.3945\n",
      "Epoch: 4/30 Train Loss: 0.0124 Acc: 0.3617\n",
      "Begin test......\n",
      "Test Loss: 0.0122 Acc: 0.3904\n",
      "F1 Score: 0.3678\n",
      "Epoch: 5/30 Train Loss: 0.0123 Acc: 0.3671\n",
      "Begin test......\n",
      "Test Loss: 0.0117 Acc: 0.4003\n",
      "F1 Score: 0.3889\n",
      "Epoch: 6/30 Train Loss: 0.0114 Acc: 0.4087\n",
      "Begin test......\n",
      "Test Loss: 0.0108 Acc: 0.4398\n",
      "F1 Score: 0.4347\n",
      "Epoch: 7/30 Train Loss: 0.0112 Acc: 0.4189\n",
      "Begin test......\n",
      "Test Loss: 0.0105 Acc: 0.4652\n",
      "F1 Score: 0.4522\n",
      "Epoch: 8/30 Train Loss: 0.0111 Acc: 0.4274\n",
      "Begin test......\n",
      "Test Loss: 0.0104 Acc: 0.4712\n",
      "F1 Score: 0.4653\n",
      "Epoch: 9/30 Train Loss: 0.0110 Acc: 0.4304\n",
      "Begin test......\n",
      "Test Loss: 0.0110 Acc: 0.4302\n",
      "F1 Score: 0.4083\n",
      "Epoch: 10/30 Train Loss: 0.0111 Acc: 0.4304\n",
      "Begin test......\n",
      "Test Loss: 0.0108 Acc: 0.4489\n",
      "F1 Score: 0.4444\n",
      "Epoch: 11/30 Train Loss: 0.0105 Acc: 0.4583\n",
      "Begin test......\n",
      "Test Loss: 0.0098 Acc: 0.4953\n",
      "F1 Score: 0.4834\n",
      "Epoch: 12/30 Train Loss: 0.0103 Acc: 0.4648\n",
      "Begin test......\n",
      "Test Loss: 0.0099 Acc: 0.4963\n",
      "F1 Score: 0.4815\n",
      "Epoch: 13/30 Train Loss: 0.0103 Acc: 0.4657\n",
      "Begin test......\n",
      "Test Loss: 0.0096 Acc: 0.5061\n",
      "F1 Score: 0.5001\n",
      "Epoch: 14/30 Train Loss: 0.0102 Acc: 0.4685\n",
      "Begin test......\n",
      "Test Loss: 0.0096 Acc: 0.5076\n",
      "F1 Score: 0.4967\n",
      "Epoch: 15/30 Train Loss: 0.0102 Acc: 0.4715\n",
      "Begin test......\n",
      "Test Loss: 0.0096 Acc: 0.5110\n",
      "F1 Score: 0.5075\n",
      "Epoch: 16/30 Train Loss: 0.0098 Acc: 0.4884\n",
      "Begin test......\n",
      "Test Loss: 0.0093 Acc: 0.5249\n",
      "F1 Score: 0.5187\n",
      "Epoch: 17/30 Train Loss: 0.0098 Acc: 0.4918\n",
      "Begin test......\n",
      "Test Loss: 0.0092 Acc: 0.5237\n",
      "F1 Score: 0.5154\n",
      "Epoch: 18/30 Train Loss: 0.0097 Acc: 0.4967\n",
      "Begin test......\n",
      "Test Loss: 0.0091 Acc: 0.5365\n",
      "F1 Score: 0.5315\n",
      "Epoch: 19/30 Train Loss: 0.0096 Acc: 0.4984\n",
      "Begin test......\n",
      "Test Loss: 0.0091 Acc: 0.5283\n",
      "F1 Score: 0.5253\n",
      "Epoch: 20/30 Train Loss: 0.0097 Acc: 0.4991\n",
      "Begin test......\n",
      "Test Loss: 0.0091 Acc: 0.5306\n",
      "F1 Score: 0.5258\n",
      "Epoch: 21/30 Train Loss: 0.0094 Acc: 0.5092\n",
      "Begin test......\n",
      "Test Loss: 0.0089 Acc: 0.5402\n",
      "F1 Score: 0.5389\n",
      "Epoch: 22/30 Train Loss: 0.0094 Acc: 0.5061\n",
      "Begin test......\n",
      "Test Loss: 0.0088 Acc: 0.5459\n",
      "F1 Score: 0.5393\n",
      "Epoch: 23/30 Train Loss: 0.0094 Acc: 0.5121\n",
      "Begin test......\n",
      "Test Loss: 0.0089 Acc: 0.5415\n",
      "F1 Score: 0.5361\n",
      "Epoch: 24/30 Train Loss: 0.0094 Acc: 0.5116\n",
      "Begin test......\n",
      "Test Loss: 0.0088 Acc: 0.5484\n",
      "F1 Score: 0.5403\n",
      "Epoch: 25/30 Train Loss: 0.0093 Acc: 0.5154\n",
      "Begin test......\n",
      "Test Loss: 0.0088 Acc: 0.5471\n",
      "F1 Score: 0.5453\n",
      "Epoch: 26/30 Train Loss: 0.0092 Acc: 0.5218\n",
      "Begin test......\n",
      "Test Loss: 0.0086 Acc: 0.5575\n",
      "F1 Score: 0.5535\n",
      "Epoch: 27/30 Train Loss: 0.0092 Acc: 0.5208\n",
      "Begin test......\n",
      "Test Loss: 0.0086 Acc: 0.5555\n",
      "F1 Score: 0.5516\n",
      "Epoch: 28/30 Train Loss: 0.0092 Acc: 0.5210\n",
      "Begin test......\n",
      "Test Loss: 0.0087 Acc: 0.5540\n",
      "F1 Score: 0.5489\n",
      "Epoch: 29/30 Train Loss: 0.0092 Acc: 0.5193\n",
      "Begin test......\n",
      "Test Loss: 0.0086 Acc: 0.5543\n",
      "F1 Score: 0.5507\n",
      "Epoch: 30/30 Train Loss: 0.0091 Acc: 0.5205\n",
      "Begin test......\n",
      "Test Loss: 0.0086 Acc: 0.5559\n",
      "F1 Score: 0.5524\n"
     ]
    }
   ],
   "source": [
    "import os\n",
    "import os.path as osp\n",
    "import torch\n",
    "import numpy as np\n",
    "from sklearn.metrics import f1_score\n",
    "import pandas as pd\n",
    "\n",
    "# Define your constants here\n",
    "NUM_EPOCHS = 30\n",
    "EVAL_INTERVAL = 1\n",
    "SAVE_DIR = 'models'  # Change this to your desired directory\n",
    "\n",
    "# Initialize a DataFrame to store results\n",
    "results_df = pd.DataFrame(columns=['Epoch', 'Train Loss', 'Train Acc', 'Test Loss', 'Test Acc', 'F1 Score'])\n",
    "\n",
    "for epoch in range(NUM_EPOCHS):\n",
    "    model.train()\n",
    "    torch.cuda.empty_cache()\n",
    "\n",
    "    ##########################\n",
    "    ### Training\n",
    "    ##########################\n",
    "\n",
    "    running_cls_loss = 0.0\n",
    "    running_cls_corrects = 0\n",
    "\n",
    "    for batch_idx, (image, target) in enumerate(train_dataloader):\n",
    "\n",
    "        image = image.to(device)\n",
    "        target = target.to(device)\n",
    "\n",
    "        # train model 这里是修改train_batch1234的地方\n",
    "        outputs, loss = train_batch(model, image, target, criterion2)\n",
    "        _, preds = torch.max(outputs, 1)\n",
    "\n",
    "        loss_data = loss.data.item()\n",
    "        if np.isnan(loss_data):\n",
    "            raise ValueError('loss is nan while training')\n",
    "        running_cls_loss += loss.item()\n",
    "        running_cls_corrects += torch.sum(preds == target.data)\n",
    "\n",
    "        loss.backward()\n",
    "        optimizer.step()\n",
    "        optimizer.zero_grad()\n",
    "\n",
    "    epoch_loss = running_cls_loss / len(train_set)\n",
    "    epoch_acc = running_cls_corrects.double() / len(train_set)\n",
    "\n",
    "    print(f'Epoch: {epoch+1}/{NUM_EPOCHS} Train Loss: {epoch_loss:.4f} Acc: {epoch_acc:.4f}')\n",
    "\n",
    "    # change learning rate\n",
    "    scheduler.step()\n",
    "\n",
    "    ##########################\n",
    "    ### Testing\n",
    "    ##########################\n",
    "    if (epoch + 1) % EVAL_INTERVAL == 0 or (epoch + 1) == NUM_EPOCHS:\n",
    "        print('Begin test......')\n",
    "        model.eval()\n",
    "\n",
    "        val_loss = 0.0\n",
    "        val_corrects = 0\n",
    "        all_preds = []\n",
    "        all_targets = []\n",
    "\n",
    "        with torch.no_grad():\n",
    "            for batch_idx, (image, target) in enumerate(test_dataloader):\n",
    "\n",
    "                image = image.to(device)\n",
    "                target = target.to(device)\n",
    "\n",
    "                # test model\n",
    "                outputs, loss = test_batch(model, image, target, criterion2)\n",
    "                _, preds = torch.max(outputs, 1)\n",
    "\n",
    "                all_preds.extend(preds.cpu().numpy())\n",
    "                all_targets.extend(target.cpu().numpy())\n",
    "\n",
    "                val_loss += loss.item()\n",
    "                val_corrects += torch.sum(preds == target.data)\n",
    "\n",
    "        val_loss = val_loss / len(test_set)\n",
    "        val_acc = val_corrects.double() / len(test_set)\n",
    "        print(f'Test Loss: {val_loss:.4f} Acc: {val_acc:.4f}')\n",
    "\n",
    "        # Calculate F1 Score\n",
    "        f1 = f1_score(all_targets, all_preds, average='weighted')\n",
    "        print(f'F1 Score: {f1:.4f}')\n",
    "\n",
    "        results_df = pd.concat([\n",
    "            results_df,\n",
    "            pd.DataFrame({\n",
    "                'Epoch': [epoch + 1],\n",
    "                'Train Loss': [epoch_loss],\n",
    "                'Train Acc': [epoch_acc.item()],\n",
    "                'Test Loss': [val_loss],\n",
    "                'Test Acc': [val_acc.item()],\n",
    "                'F1 Score': [f1]\n",
    "            })\n",
    "        ], ignore_index=True)\n",
    "\n",
    "        # save the model in the last epoch\n",
    "        if (epoch + 1) == NUM_EPOCHS:\n",
    "            state = {\n",
    "                'state_dict': model.state_dict(),\n",
    "                'acc': epoch_acc.item(),\n",
    "                'epoch': (epoch + 1),\n",
    "            }\n",
    "\n",
    "            # check the dir\n",
    "            if not os.path.exists(SAVE_DIR):\n",
    "                os.makedirs(SAVE_DIR)\n",
    "\n",
    "            # save the state\n",
    "            torch.save(state, osp.join(SAVE_DIR, 'checkpoint_%s.pth' % (str(epoch + 1))))\n",
    "\n",
    "# Save the results DataFrame to a CSV file\n",
    "results_df.to_csv('Focal05_results.csv', index=False)\n"
   ]
  },
  {
   "cell_type": "code",
   "execution_count": 13,
   "metadata": {},
   "outputs": [
    {
     "data": {
      "image/png": "[encoded data removed]",
      "text/plain": [
       "<Figure size 640x480 with 1 Axes>"
      ]
     },
     "metadata": {},
     "output_type": "display_data"
    }
   ],
   "source": [
    "plt.plot(results_df['Epoch'], results_df['Test Loss'], label='Test Loss')\n",
    "plt.title('Test Loss over Epochs')\n",
    "plt.xlabel('Epoch')\n",
    "plt.ylabel('Test Loss')\n",
    "plt.legend()\n",
    "plt.show()"
   ]
  },
  {
   "cell_type": "markdown",
   "metadata": {},
   "source": [
    "### Task 2: Instance inference\n",
    "---\n",
    "The task is to visualizes an image along with model prediction and class probabilities.\n",
    "\n",
    "**To do**: \n",
    "1. Calculate the prediction and the probabilities for each class.\n",
    "         "
   ]
  },
  {
   "cell_type": "code",
   "execution_count": 14,
   "metadata": {},
   "outputs": [],
   "source": [
    "inputs, classes = next(iter(test_dataloader))\n",
    "input = inputs[0]"
   ]
  },
  {
   "cell_type": "code",
   "execution_count": 15,
   "metadata": {},
   "outputs": [],
   "source": [
    "##################### Write your answer here ##################\n",
    "# input: image, model\n",
    "# outputs: predict_label, probabilities\n",
    "# predict_label is the index (or label) of the class with the highest probability from the probabilities.\n",
    "###############################################################\n",
    "device = torch.device(\"cuda:0\" if torch.cuda.is_available() else \"cpu\")\n",
    "model.to(device)\n",
    "input = input.to(device)\n",
    "probabilities = F.softmax(model(input)[0],dim=0)\n",
    "predict_label = torch.argmax(probabilities, dim=0)"
   ]
  },
  {
   "cell_type": "code",
   "execution_count": 16,
   "metadata": {},
   "outputs": [
    {
     "name": "stderr",
     "output_type": "stream",
     "text": [
      "Clipping input data to the valid range for imshow with RGB data ([0..1] for floats or [0..255] for integers).\n"
     ]
    },
    {
     "data": {
      "image/png": "[encoded data removed]",
      "text/plain": [
       "<Figure size 640x480 with 1 Axes>"
      ]
     },
     "metadata": {},
     "output_type": "display_data"
    },
    {
     "name": "stdout",
     "output_type": "stream",
     "text": [
      "Print probabilities for each class:\n",
      "airplane: 0.0027\n",
      "automobile: 0.0006\n",
      "bird: 0.0228\n",
      "cat: 0.3372\n",
      "deer: 0.0382\n",
      "dog: 0.5211\n",
      "frog: 0.0264\n",
      "horse: 0.0467\n",
      "ship: 0.0032\n",
      "truck: 0.0011\n"
     ]
    }
   ],
   "source": [
    "\n",
    "\n",
    "predicted_class = class_names[predict_label.item()]\n",
    "predicted_probability = probabilities[predict_label].item()\n",
    "image = input.cpu().numpy().transpose((1, 2, 0))\n",
    "plt.imshow(image)\n",
    "plt.text(17, 30, f'Predicted Class: {predicted_class}\\nProbability: {predicted_probability:.2f}', \n",
    "            color='white', backgroundcolor='black', fontsize=8)\n",
    "plt.show()\n",
    "\n",
    "# Print probabilities for each class\n",
    "print('Print probabilities for each class:')\n",
    "for i in range(len(class_names)):\n",
    "    print(f'{class_names[i]}: {probabilities[i].item():.4f}')"
   ]
  },
  {
   "cell_type": "code",
   "execution_count": null,
   "metadata": {},
   "outputs": [],
   "source": []
  },
  {
   "cell_type": "code",
   "execution_count": null,
   "metadata": {},
   "outputs": [],
   "source": []
  },
  {
   "cell_type": "code",
   "execution_count": null,
   "metadata": {},
   "outputs": [],
   "source": []
  },
  {
   "cell_type": "code",
   "execution_count": null,
   "metadata": {},
   "outputs": [],
   "source": []
  },
  {
   "cell_type": "code",
   "execution_count": null,
   "metadata": {},
   "outputs": [],
   "source": []
  },
  {
   "cell_type": "code",
   "execution_count": null,
   "metadata": {},
   "outputs": [],
   "source": []
  },
  {
   "cell_type": "code",
   "execution_count": null,
   "metadata": {},
   "outputs": [],
   "source": []
  }
 ],
 "metadata": {
  "kernelspec": {
   "display_name": "Python 3 (ipykernel)",
   "language": "python",
   "name": "python3"
  },
  "language_info": {
   "codemirror_mode": {
    "name": "ipython",
    "version": 3
   },
   "file_extension": ".py",
   "mimetype": "text/x-python",
   "name": "python",
   "nbconvert_exporter": "python",
   "pygments_lexer": "ipython3",
   "version": "3.10.12"
  }
 },
 "nbformat": 4,
 "nbformat_minor": 4
}

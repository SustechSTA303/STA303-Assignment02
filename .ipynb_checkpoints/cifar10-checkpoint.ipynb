{
 "cells": [
  {
   "cell_type": "code",
   "execution_count": 1,
   "id": "4c15a344",
   "metadata": {},
   "outputs": [
    {
     "name": "stderr",
     "output_type": "stream",
     "text": [
      "/usr/local/lib/python3.10/dist-packages/tqdm/auto.py:21: TqdmWarning: IProgress not found. Please update jupyter and ipywidgets. See https://ipywidgets.readthedocs.io/en/stable/user_install.html\n",
      "  from .autonotebook import tqdm as notebook_tqdm\n"
     ]
    }
   ],
   "source": [
    "import os\n",
    "import time\n",
    "import os.path as osp\n",
    "\n",
    "import numpy as np\n",
    "import pandas as pd\n",
    "\n",
    "import torch\n",
    "import torch.nn as nn\n",
    "import torch.nn.functional as F\n",
    "import torch.optim as optim\n",
    "from torch.utils.data import DataLoader\n",
    "\n",
    "from torchvision.datasets import CIFAR10\n",
    "from torchvision import datasets\n",
    "from torchvision import transforms\n",
    "import torchvision\n",
    "\n",
    "from PIL import Image, ImageFilter\n",
    "import matplotlib.pyplot as plt\n",
    "from PIL import Image\n",
    "from clip import clip\n",
    "\n",
    "import torchvision.transforms as transforms\n",
    "from torch.utils.data import DataLoader\n",
    "from transformers import CLIPProcessor, CLIPTokenizer, CLIPModel\n",
    "from sklearn.metrics import accuracy_score\n",
    "\n",
    "from transformers import CLIPModel, CLIPTextModel, CLIPTokenizer\n",
    "\n",
    "import time\n",
    "import psutil"
   ]
  },
  {
   "cell_type": "code",
   "execution_count": 2,
   "id": "21350a32",
   "metadata": {},
   "outputs": [],
   "source": [
    "BATCH_SIZE = 128\n",
    "device = torch.device(\"cuda:0\" if torch.cuda.is_available() else \"cpu\")"
   ]
  },
  {
   "cell_type": "code",
   "execution_count": 4,
   "id": "c904dd0e",
   "metadata": {},
   "outputs": [
    {
     "name": "stdout",
     "output_type": "stream",
     "text": [
      "Files already downloaded and verified\n"
     ]
    }
   ],
   "source": [
    "# 准备数据集\n",
    "transform_cifar10_test = transforms.Compose([\n",
    "    transforms.Resize(size=224),\n",
    "    transforms.CenterCrop(size=(224, 224)),\n",
    "    transforms.ToTensor(),\n",
    "    transforms.Normalize((0.4914, 0.4822, 0.4465), (0.2023, 0.1994, 0.2010)),\n",
    "])\n",
    "\n",
    "test_set = torchvision.datasets.CIFAR10(root='../data', train=False,\n",
    "                                       download=True, transform=transform_cifar10_test)\n",
    "test_dataloader = torch.utils.data.DataLoader(test_set, batch_size=BATCH_SIZE,\n",
    "                                         shuffle=False, num_workers=2)\n",
    "\n",
    "class_names = ['automobile', 'airplane', 'bird', 'cat', 'deer', 'dog', 'frog', 'horse', 'ship', 'truck']\n",
    "dataset_name = 'CIFAR10'"
   ]
  },
  {
   "cell_type": "code",
   "execution_count": 5,
   "id": "ccd2a92f",
   "metadata": {},
   "outputs": [],
   "source": [
    "# 准备text\n",
    "prompt = \"This is a\"\n",
    "text_inputs = torch.cat([clip.tokenize(f\"{prompt} {c}\") for c in class_names]).to(device)"
   ]
  },
  {
   "cell_type": "code",
   "execution_count": 6,
   "id": "7283ce0f",
   "metadata": {},
   "outputs": [],
   "source": [
    "def model_inference(model, image):\n",
    "    \"\"\"\n",
    "    Perform one testing batch iteration.\n",
    "    Args:\n",
    "        model (torch.nn.Module): The machine learning model to evaluate.\n",
    "        image (torch.Tensor): Batch of input data (images).\n",
    "        target (torch.Tensor): Batch of target labels.\n",
    "    Returns:\n",
    "        torch.Tensor: Model output (predictions) for the batch.\n",
    "        torch.Tensor: Loss value calculated for the batch.\n",
    "    \"\"\"\n",
    "    ##################### Write your answer here ##################\n",
    "    image_features = model.encode_image(image)\n",
    "    text_features = model.encode_text(text_inputs)\n",
    "\n",
    "    image_features /= image_features.norm(dim=-1, keepdim=True)\n",
    "    text_features /= text_features.norm(dim=-1, keepdim=True)\n",
    "\n",
    "    logit_scale = model.logit_scale.exp()\n",
    "\n",
    "    logits = logit_scale * image_features @ text_features.t()\n",
    "    ###############################################################\n",
    "    return logits"
   ]
  },
  {
   "cell_type": "code",
   "execution_count": null,
   "id": "d8f4c0f9",
   "metadata": {},
   "outputs": [],
   "source": [
    "# 直接使用clip进行zero-shot"
   ]
  },
  {
   "cell_type": "code",
   "execution_count": 7,
   "id": "cc74c256",
   "metadata": {},
   "outputs": [
    {
     "name": "stdout",
     "output_type": "stream",
     "text": [
      "the zero-shot performance on CIFAR10 is 42.97%, visual encoder is RN50.\n"
     ]
    }
   ],
   "source": [
    "# Load the model\n",
    "VISUAL_BACKBONE = 'RN50' # RN50, ViT-B/32, ViT-B/16\n",
    "model, preprocess = clip.load(name=VISUAL_BACKBONE, device=device)\n",
    "model.to(device)\n",
    "# zero-shot\n",
    "testing_loss = []\n",
    "testing_acc = []\n",
    "\n",
    "with torch.no_grad():\n",
    "    model.eval()\n",
    "\n",
    "    val_loss = 0.0\n",
    "    val_corrects = 0\n",
    "\n",
    "    \n",
    "    for batch_idx, (image, target) in enumerate(test_dataloader):\n",
    "\n",
    "        image = image.to(device)\n",
    "        target = target.to(device)\n",
    "\n",
    "        # test model\n",
    "        logits = model_inference(model, image)\n",
    "        _, preds = torch.max(logits, 1)\n",
    "        \n",
    "        val_corrects += torch.sum(preds == target.data)\n",
    "\n",
    "    val_acc = val_corrects.double() / len(test_set)\n",
    "\n",
    "    print(f\"the zero-shot performance on {dataset_name} is {val_acc*100:.2f}%, visual encoder is {VISUAL_BACKBONE}.\")"
   ]
  },
  {
   "cell_type": "code",
   "execution_count": 8,
   "id": "1903377b",
   "metadata": {},
   "outputs": [
    {
     "name": "stdout",
     "output_type": "stream",
     "text": [
      "the zero-shot performance on CIFAR10 is 68.45%, visual encoder is ViT-B/32.\n"
     ]
    }
   ],
   "source": [
    "# Load the model\n",
    "VISUAL_BACKBONE = 'ViT-B/32' # RN50, ViT-B/32, ViT-B/16\n",
    "model, preprocess = clip.load(name=VISUAL_BACKBONE, device=device)\n",
    "model.to(device)\n",
    "# zero-shot\n",
    "testing_loss = []\n",
    "testing_acc = []\n",
    "\n",
    "with torch.no_grad():\n",
    "    model.eval()\n",
    "\n",
    "    val_loss = 0.0\n",
    "    val_corrects = 0\n",
    "\n",
    "    \n",
    "    for batch_idx, (image, target) in enumerate(test_dataloader):\n",
    "\n",
    "        image = image.to(device)\n",
    "        target = target.to(device)\n",
    "\n",
    "        # test model\n",
    "        logits = model_inference(model, image)\n",
    "        _, preds = torch.max(logits, 1)\n",
    "        \n",
    "        val_corrects += torch.sum(preds == target.data)\n",
    "\n",
    "    val_acc = val_corrects.double() / len(test_set)\n",
    "\n",
    "    print(f\"the zero-shot performance on {dataset_name} is {val_acc*100:.2f}%, visual encoder is {VISUAL_BACKBONE}.\")"
   ]
  },
  {
   "cell_type": "code",
   "execution_count": 9,
   "id": "d69e34ee",
   "metadata": {},
   "outputs": [
    {
     "name": "stdout",
     "output_type": "stream",
     "text": [
      "the zero-shot performance on CIFAR10 is 69.59%, visual encoder is ViT-B/16.\n"
     ]
    }
   ],
   "source": [
    "# Load the model\n",
    "VISUAL_BACKBONE = 'ViT-B/16' # RN50, ViT-B/32, ViT-B/16\n",
    "model, preprocess = clip.load(name=VISUAL_BACKBONE, device=device)\n",
    "model.to(device)\n",
    "# zero-shot\n",
    "testing_loss = []\n",
    "testing_acc = []\n",
    "\n",
    "with torch.no_grad():\n",
    "    model.eval()\n",
    "\n",
    "    val_loss = 0.0\n",
    "    val_corrects = 0\n",
    "\n",
    "    \n",
    "    for batch_idx, (image, target) in enumerate(test_dataloader):\n",
    "\n",
    "        image = image.to(device)\n",
    "        target = target.to(device)\n",
    "\n",
    "        # test model\n",
    "        logits = model_inference(model, image)\n",
    "        _, preds = torch.max(logits, 1)\n",
    "        \n",
    "        val_corrects += torch.sum(preds == target.data)\n",
    "\n",
    "    val_acc = val_corrects.double() / len(test_set)\n",
    "\n",
    "    print(f\"the zero-shot performance on {dataset_name} is {val_acc*100:.2f}%, visual encoder is {VISUAL_BACKBONE}.\")"
   ]
  },
  {
   "cell_type": "code",
   "execution_count": null,
   "id": "c66ecd0d",
   "metadata": {},
   "outputs": [],
   "source": [
    "开始使用ResNet50，不处理最后一层，直接使用"
   ]
  },
  {
   "cell_type": "code",
   "execution_count": null,
   "id": "16668304",
   "metadata": {},
   "outputs": [],
   "source": [
    "# 加载RN50在预训练过程中的1000个类别，判断与cifar10中的类别是否存在重合\n",
    "# 加载预训练的 ResNet-50 模型\n",
    "import torchvision.models as models\n",
    "import requests\n",
    "\n",
    "model = models.resnet50(pretrained=True)\n",
    "\n",
    "# 获取 ImageNet 类别名称的 URL\n",
    "imagenet_classes_url = \"https://raw.githubusercontent.com/anishathalye/imagenet-simple-labels/master/imagenet-simple-labels.json\"\n",
    "\n",
    "# 下载并加载类别名称\n",
    "response = requests.get(imagenet_classes_url)\n",
    "RN50_class_names = response.json()\n",
    "\n",
    "cifar10_class_names = ['airplane', 'automobile', 'bird', 'cat', 'deer', 'dog', 'frog', 'horse', 'ship', 'truck']\n",
    "\n",
    "for name in cifar10_class_names:\n",
    "    if name in RN50_class_names:\n",
    "        print(name, \"in cifar10,\", \"is also in RN50_class_names\")\n",
    "    else:\n",
    "        print(name, \"in cifar10,\", \"is not in RN50_class_names\")\n",
    "        \n",
    "if set(RN50_class_names) & set(cifar10_class_names):\n",
    "    print(\"存在重合\")\n",
    "else:\n",
    "    print(\"不存在重合\")"
   ]
  },
  {
   "cell_type": "code",
   "execution_count": null,
   "id": "1cba1126",
   "metadata": {},
   "outputs": [],
   "source": [
    "没有直接预测的必要"
   ]
  },
  {
   "cell_type": "code",
   "execution_count": null,
   "id": "9dd4c124",
   "metadata": {},
   "outputs": [],
   "source": [
    "训练ResNet50，对ResNet50最后一层进行处理1000——10"
   ]
  },
  {
   "cell_type": "code",
   "execution_count": 18,
   "id": "383a69a0",
   "metadata": {},
   "outputs": [
    {
     "name": "stdout",
     "output_type": "stream",
     "text": [
      "Files already downloaded and verified\n",
      "Files already downloaded and verified\n"
     ]
    }
   ],
   "source": [
    "import torch\n",
    "import torchvision\n",
    "import torchvision.transforms as transforms\n",
    "from torchvision import models\n",
    "from torch.utils.data import DataLoader\n",
    "import torch.nn as nn\n",
    "import torch.optim as optim\n",
    "\n",
    "# 设定设备\n",
    "device = \"cuda\" if torch.cuda.is_available() else \"cpu\"\n",
    "\n",
    "# 数据预处理\n",
    "transform_cifar10_train = transforms.Compose([\n",
    "    transforms.RandomCrop(32, padding=4),\n",
    "    transforms.RandomHorizontalFlip(),\n",
    "    transforms.ToTensor(),\n",
    "    transforms.Normalize((0.4914, 0.4822, 0.4465), (0.2023, 0.1994, 0.2010)),\n",
    "])\n",
    "\n",
    "transform_cifar10_test = transforms.Compose([\n",
    "    transforms.ToTensor(),\n",
    "    transforms.Normalize((0.4914, 0.4822, 0.4465), (0.2023, 0.1994, 0.2010)),\n",
    "])\n",
    "\n",
    "# 加载 CIFAR-10 数据集\n",
    "batch_size = 128\n",
    "train_set = torchvision.datasets.CIFAR10(root='../data', train=True,\n",
    "                                        download=True, transform=transform_cifar10_train)\n",
    "train_dataloader = torch.utils.data.DataLoader(train_set, batch_size=BATCH_SIZE,\n",
    "                                          shuffle=True, num_workers=2)\n",
    "\n",
    "test_set = torchvision.datasets.CIFAR10(root='../data', train=False,\n",
    "                                       download=True, transform=transform_cifar10_test)\n",
    "test_dataloader = torch.utils.data.DataLoader(test_set, batch_size=BATCH_SIZE,\n",
    "                                         shuffle=False, num_workers=2)\n",
    "\n",
    "\n",
    "# 加载预训练的 ResNet-50 模型\n",
    "model = models.resnet50(pretrained=True)\n",
    "\n",
    "# 替换最后的全连接层以匹配 CIFAR-10 的类别数 (10)\n",
    "model.fc = nn.Linear(model.fc.in_features, 10)\n",
    "\n",
    "# 将模型发送到设备\n",
    "model.to(device)\n",
    "\n",
    "# 定义损失函数和优化器\n",
    "criterion = nn.CrossEntropyLoss()\n",
    "optimizer = optim.SGD(model.parameters(), lr=0.001, momentum=0.9)"
   ]
  },
  {
   "cell_type": "code",
   "execution_count": 19,
   "id": "bfd643f8",
   "metadata": {},
   "outputs": [
    {
     "name": "stdout",
     "output_type": "stream",
     "text": [
      "Epoch 1, Training Loss: 1.263, Training Accuracy: 55.52%\n",
      "Training time: 20.83 seconds\n",
      "GPU memory used: 200301568 bytes\n",
      "GPU memory cache: 50331648 bytes\n",
      "Epoch 1, Testing Loss: 0.850, Accuracy: 70.32%\n",
      "Epoch 2, Training Loss: 0.765, Training Accuracy: 73.30%\n",
      "Training time: 20.55 seconds\n",
      "GPU memory used: 3584 bytes\n",
      "GPU memory cache: 0 bytes\n",
      "Epoch 2, Testing Loss: 0.699, Accuracy: 76.03%\n",
      "Epoch 3, Training Loss: 0.637, Training Accuracy: 77.91%\n",
      "Training time: 20.46 seconds\n",
      "GPU memory used: 3584 bytes\n",
      "GPU memory cache: 0 bytes\n",
      "Epoch 3, Testing Loss: 0.633, Accuracy: 78.66%\n",
      "Epoch 4, Training Loss: 0.559, Training Accuracy: 80.50%\n",
      "Training time: 20.43 seconds\n",
      "GPU memory used: 3584 bytes\n",
      "GPU memory cache: 0 bytes\n",
      "Epoch 4, Testing Loss: 0.586, Accuracy: 80.09%\n",
      "Epoch 5, Training Loss: 0.502, Training Accuracy: 82.55%\n",
      "Training time: 20.42 seconds\n",
      "GPU memory used: 3584 bytes\n",
      "GPU memory cache: 0 bytes\n",
      "Epoch 5, Testing Loss: 0.549, Accuracy: 81.51%\n",
      "Epoch 6, Training Loss: 0.458, Training Accuracy: 84.16%\n",
      "Training time: 20.39 seconds\n",
      "GPU memory used: 3584 bytes\n",
      "GPU memory cache: 0 bytes\n",
      "Epoch 6, Testing Loss: 0.530, Accuracy: 82.08%\n",
      "Epoch 7, Training Loss: 0.422, Training Accuracy: 85.23%\n",
      "Training time: 20.45 seconds\n",
      "GPU memory used: 3584 bytes\n",
      "GPU memory cache: 0 bytes\n",
      "Epoch 7, Testing Loss: 0.521, Accuracy: 82.29%\n",
      "Epoch 8, Training Loss: 0.385, Training Accuracy: 86.52%\n",
      "Training time: 20.35 seconds\n",
      "GPU memory used: 3584 bytes\n",
      "GPU memory cache: 0 bytes\n",
      "Epoch 8, Testing Loss: 0.514, Accuracy: 82.97%\n",
      "Epoch 9, Training Loss: 0.366, Training Accuracy: 87.22%\n",
      "Training time: 20.44 seconds\n",
      "GPU memory used: 3584 bytes\n",
      "GPU memory cache: 0 bytes\n",
      "Epoch 9, Testing Loss: 0.503, Accuracy: 83.21%\n",
      "Epoch 10, Training Loss: 0.334, Training Accuracy: 88.41%\n",
      "Training time: 20.46 seconds\n",
      "GPU memory used: 3584 bytes\n",
      "GPU memory cache: 0 bytes\n",
      "Epoch 10, Testing Loss: 0.512, Accuracy: 83.25%\n",
      "Finished training and testing!\n"
     ]
    }
   ],
   "source": [
    "# 每个epoch记录一下train和test的acc和loss\n",
    "\n",
    "# 记录每个 epoch 的准确度和损失\n",
    "train_losses = []  # 训练集上的loss\n",
    "train_accuracies = []    # 训练集上的acc\n",
    "test_losses = []   # 测试集上的loss\n",
    "test_accuracies = [] # 测试集上的acc\n",
    "\n",
    "# 训练模型\n",
    "num_epochs = 10\n",
    "\n",
    "for epoch in range(num_epochs):\n",
    "    \n",
    "    ######################################################################\n",
    "    start_time = time.time()\n",
    "\n",
    "    initial_gpu_memory = torch.cuda.memory_allocated()\n",
    "    initial_gpu_memory_cache = torch.cuda.memory_reserved()\n",
    "    ########################################################\n",
    "    \n",
    "    running_loss = 0.0\n",
    "    correct_train = 0\n",
    "    total_train = 0\n",
    "    for i, data in enumerate(train_dataloader, 0):\n",
    "        inputs, labels = data\n",
    "        inputs, labels = inputs.to(device), labels.to(device)\n",
    "\n",
    "        optimizer.zero_grad()\n",
    "\n",
    "        outputs = model(inputs)\n",
    "        \n",
    "        _, predicted = torch.max(outputs.data, 1)\n",
    "        \n",
    "        loss = criterion(outputs, labels)\n",
    "        loss.backward()\n",
    "        optimizer.step()\n",
    "\n",
    "        running_loss += loss.item()\n",
    "        if i % 2000 == 1999:    # 每 2000 批次打印一次\n",
    "            print('[%d, %5d] loss: %.3f' % (epoch + 1, i + 1, running_loss / 2000))\n",
    "            running_loss = 0.0\n",
    "            \n",
    "        total_train += labels.size(0)\n",
    "        correct_train += (predicted == labels).sum().item()\n",
    "        \n",
    "    # 计算并记录每个 epoch 的训练损失和训练准确度\n",
    "    train_loss = running_loss / len(train_dataloader)\n",
    "    train_accuracy = 100 * correct_train / total_train\n",
    "    train_losses.append(train_loss)\n",
    "    train_accuracies.append(train_accuracy)\n",
    "\n",
    "    print(f'Epoch {epoch + 1}, Training Loss: {train_loss:.3f}, Training Accuracy: {train_accuracy:.2f}%')\n",
    "\n",
    "    ##########################################################\n",
    "    end_time = time.time()\n",
    "    total_time = end_time - start_time\n",
    "    print(f\"Training time: {total_time:.2f} seconds\")\n",
    "    \n",
    "    final_gpu_memory = torch.cuda.memory_allocated()\n",
    "    final_gpu_memory_cache = torch.cuda.memory_reserved()\n",
    "    print(f\"GPU memory used: {final_gpu_memory - initial_gpu_memory} bytes\")\n",
    "    print(f\"GPU memory cache: {final_gpu_memory_cache - initial_gpu_memory_cache} bytes\")\n",
    "    ##############################################################################\n",
    "\n",
    "    # 在测试集上测试模型\n",
    "    correct_test = 0\n",
    "    total_test = 0\n",
    "    test_loss = 0.0\n",
    "    with torch.no_grad():\n",
    "        for data in test_dataloader:\n",
    "            images, labels = data\n",
    "            images, labels = images.to(device), labels.to(device)\n",
    "            outputs = model(images)\n",
    "            _, predicted = torch.max(outputs.data, 1)\n",
    "            total_test += labels.size(0)\n",
    "            correct_test += (predicted == labels).sum().item()\n",
    "            \n",
    "            loss = criterion(outputs, labels)\n",
    "            test_loss += loss.item()\n",
    "\n",
    "    # 计算并记录每个 epoch 的测试损失和准确度\n",
    "    test_loss = test_loss / len(test_dataloader)\n",
    "    test_losses.append(test_loss)\n",
    "    accuracy = 100 * correct_test / total_test\n",
    "    test_accuracies.append(accuracy)\n",
    "\n",
    "    print(f'Epoch {epoch + 1}, Testing Loss: {test_loss:.3f}, Accuracy: {accuracy:.2f}%')\n",
    "\n",
    "#     print('Accuracy of the network on the 10000 test images: %d %%' % (100 * correct / total))\n",
    "\n",
    "print('Finished training and testing!')"
   ]
  },
  {
   "cell_type": "code",
   "execution_count": 20,
   "id": "9cf7f1b6",
   "metadata": {},
   "outputs": [
    {
     "name": "stdout",
     "output_type": "stream",
     "text": [
      "This is the losses during the training [1.2629457576500485, 0.7647699090221044, 0.6374699798081537, 0.5594700205966335, 0.5020830824856868, 0.4579552922712263, 0.4218782549700164, 0.38457601576509987, 0.3655237842475057, 0.33381875187082366] \n",
      "\n",
      "This is the accuracies during the training [55.52, 73.304, 77.908, 80.5, 82.546, 84.164, 85.232, 86.52, 87.224, 88.406] \n",
      "\n",
      "This is the losses during the testing [0.8503681926787654, 0.6985623447955409, 0.6334442541569094, 0.5855103734927841, 0.5490107909788059, 0.5304075558728809, 0.5212985941126377, 0.5138863989069492, 0.5030311968507646, 0.5120128046108198] \n",
      "\n",
      "This is the accuracies during the testing [70.32, 76.03, 78.66, 80.09, 81.51, 82.08, 82.29, 82.97, 83.21, 83.25] \n",
      "\n"
     ]
    }
   ],
   "source": [
    "print(\"This is the losses during the training\", train_losses, \"\\n\")\n",
    "print(\"This is the accuracies during the training\", train_accuracies, \"\\n\")\n",
    "print(\"This is the losses during the testing\", test_losses, \"\\n\")\n",
    "print(\"This is the accuracies during the testing\", test_accuracies, \"\\n\")"
   ]
  },
  {
   "cell_type": "code",
   "execution_count": 21,
   "id": "353511b2",
   "metadata": {},
   "outputs": [
    {
     "data": {
      "image/png": "[encoded data removed]",
      "text/plain": [
       "<Figure size 800x600 with 1 Axes>"
      ]
     },
     "metadata": {},
     "output_type": "display_data"
    }
   ],
   "source": [
    "plt.figure(figsize=(8, 6))\n",
    "\n",
    "x = torch.arange(1, 11)\n",
    "\n",
    "plt.scatter(x, train_losses, color='red', label='train_losses')\n",
    "plt.scatter(x, train_accuracies, color='blue', label='train_accuracies')\n",
    "plt.scatter(x, test_losses, color='green', label='test_losses')\n",
    "plt.scatter(x, test_accuracies, color='yellow', label='test_accuracies')\n",
    "\n",
    "plt.title(\"Scatter Plot\")\n",
    "plt.xlabel(\"Epoch\")\n",
    "plt.ylabel(\"Acuracy AND Loss\")\n",
    "\n",
    "plt.yticks(np.arange(0, 1, 0.05))\n",
    "\n",
    "plt.legend()\n",
    "\n",
    "plt.show()"
   ]
  },
  {
   "cell_type": "code",
   "execution_count": null,
   "id": "5774a55c",
   "metadata": {},
   "outputs": [],
   "source": [
    "训练clip"
   ]
  },
  {
   "cell_type": "code",
   "execution_count": null,
   "id": "9e93fc71",
   "metadata": {},
   "outputs": [],
   "source": [
    "!pip install torch torchvision transformers # 运行过了"
   ]
  },
  {
   "cell_type": "code",
   "execution_count": 6,
   "id": "57d366ab",
   "metadata": {},
   "outputs": [
    {
     "name": "stdout",
     "output_type": "stream",
     "text": [
      "Files already downloaded and verified\n"
     ]
    }
   ],
   "source": [
    "# 设置随机种子以保证结果的可重复性\n",
    "torch.manual_seed(100)\n",
    "\n",
    "# 初始化CLIP模型和处理器，并指定视觉骨干为ResNet-50\n",
    "VISUAL_BACKBONE = 'RN50' # RN50, ViT-B/32, ViT-B/16\n",
    "device = torch.device(\"cuda:0\" if torch.cuda.is_available() else \"cpu\")\n",
    "# Load the model\n",
    "model, processor = clip.load(name=VISUAL_BACKBONE, device=device)\n",
    "model.to(device)\n",
    "\n",
    "# 数据预处理\n",
    "transform_cifar10_train = transforms.Compose([\n",
    "    transforms.Resize(size=224),\n",
    "    transforms.CenterCrop(size=(224, 224)),\n",
    "    transforms.ToTensor(),\n",
    "    transforms.Normalize((0.4914, 0.4822, 0.4465), (0.2023, 0.1994, 0.2010)),\n",
    "])\n",
    "\n",
    "# 加载 CIFAR-10 数据集\n",
    "BATCH_SIZE = 32\n",
    "train_set = torchvision.datasets.CIFAR10(root='../data', train=True,\n",
    "                                        download=True, transform=transform_cifar10_train)\n",
    "train_dataloader = torch.utils.data.DataLoader(train_set, batch_size=BATCH_SIZE,\n",
    "                                          shuffle=True, num_workers=2)\n",
    "\n",
    "# 定义损失函数和优化器\n",
    "criterion = nn.CrossEntropyLoss()\n",
    "optimizer = optim.Adam(model.parameters(), lr=1e-4)"
   ]
  },
  {
   "cell_type": "code",
   "execution_count": 7,
   "id": "2b058228",
   "metadata": {},
   "outputs": [
    {
     "name": "stdout",
     "output_type": "stream",
     "text": [
      "Epoch [1/3] Loss: nan Accuracy: 0.1000\n",
      "Training time: 457.18 seconds\n",
      "GPU memory used: 811683328 bytes\n",
      "GPU memory cache: 3248488448 bytes\n",
      "Epoch [2/3] Loss: nan Accuracy: 0.1000\n",
      "Training time: 450.12 seconds\n",
      "GPU memory used: 0 bytes\n",
      "GPU memory cache: 0 bytes\n",
      "Epoch [3/3] Loss: nan Accuracy: 0.1000\n",
      "Training time: 448.74 seconds\n",
      "GPU memory used: 0 bytes\n",
      "GPU memory cache: 0 bytes\n"
     ]
    },
    {
     "ename": "AttributeError",
     "evalue": "'CLIP' object has no attribute 'save_pretrained'",
     "output_type": "error",
     "traceback": [
      "\u001b[0;31m---------------------------------------------------------------------------\u001b[0m",
      "\u001b[0;31mAttributeError\u001b[0m                            Traceback (most recent call last)",
      "Cell \u001b[0;32mIn[7], line 60\u001b[0m\n\u001b[1;32m     56\u001b[0m     \u001b[38;5;28mprint\u001b[39m(\u001b[38;5;124mf\u001b[39m\u001b[38;5;124m\"\u001b[39m\u001b[38;5;124mGPU memory cache: \u001b[39m\u001b[38;5;132;01m{\u001b[39;00mfinal_gpu_memory_cache\u001b[38;5;250m \u001b[39m\u001b[38;5;241m-\u001b[39m\u001b[38;5;250m \u001b[39minitial_gpu_memory_cache\u001b[38;5;132;01m}\u001b[39;00m\u001b[38;5;124m bytes\u001b[39m\u001b[38;5;124m\"\u001b[39m)\n\u001b[1;32m     57\u001b[0m     \u001b[38;5;66;03m##############################################################################\u001b[39;00m\n\u001b[1;32m     58\u001b[0m     \n\u001b[1;32m     59\u001b[0m \u001b[38;5;66;03m# 保存训练后的模型权重\u001b[39;00m\n\u001b[0;32m---> 60\u001b[0m \u001b[43mmodel\u001b[49m\u001b[38;5;241;43m.\u001b[39;49m\u001b[43msave_pretrained\u001b[49m(\u001b[38;5;124m\"\u001b[39m\u001b[38;5;124mclip_cifar10_finetuned\u001b[39m\u001b[38;5;124m\"\u001b[39m)\n\u001b[1;32m     61\u001b[0m tokenizer\u001b[38;5;241m.\u001b[39msave_pretrained(\u001b[38;5;124m\"\u001b[39m\u001b[38;5;124mclip_cifar10_finetuned\u001b[39m\u001b[38;5;124m\"\u001b[39m)\n",
      "File \u001b[0;32m/usr/local/lib/python3.10/dist-packages/torch/nn/modules/module.py:1695\u001b[0m, in \u001b[0;36mModule.__getattr__\u001b[0;34m(self, name)\u001b[0m\n\u001b[1;32m   1693\u001b[0m     \u001b[38;5;28;01mif\u001b[39;00m name \u001b[38;5;129;01min\u001b[39;00m modules:\n\u001b[1;32m   1694\u001b[0m         \u001b[38;5;28;01mreturn\u001b[39;00m modules[name]\n\u001b[0;32m-> 1695\u001b[0m \u001b[38;5;28;01mraise\u001b[39;00m \u001b[38;5;167;01mAttributeError\u001b[39;00m(\u001b[38;5;124mf\u001b[39m\u001b[38;5;124m\"\u001b[39m\u001b[38;5;124m'\u001b[39m\u001b[38;5;132;01m{\u001b[39;00m\u001b[38;5;28mtype\u001b[39m(\u001b[38;5;28mself\u001b[39m)\u001b[38;5;241m.\u001b[39m\u001b[38;5;18m__name__\u001b[39m\u001b[38;5;132;01m}\u001b[39;00m\u001b[38;5;124m'\u001b[39m\u001b[38;5;124m object has no attribute \u001b[39m\u001b[38;5;124m'\u001b[39m\u001b[38;5;132;01m{\u001b[39;00mname\u001b[38;5;132;01m}\u001b[39;00m\u001b[38;5;124m'\u001b[39m\u001b[38;5;124m\"\u001b[39m)\n",
      "\u001b[0;31mAttributeError\u001b[0m: 'CLIP' object has no attribute 'save_pretrained'"
     ]
    }
   ],
   "source": [
    "# 训练参数\n",
    "num_epochs = 3\n",
    "\n",
    "# 训练循环\n",
    "for epoch in range(num_epochs):\n",
    "    model.train()\n",
    "    total_loss = 0.0\n",
    "    predictions = []\n",
    "    ground_truths = []\n",
    "    \n",
    "    ###############################################################################\n",
    "    start_time = time.time()\n",
    "\n",
    "    initial_gpu_memory = torch.cuda.memory_allocated()\n",
    "    initial_gpu_memory_cache = torch.cuda.memory_reserved()\n",
    "    #####################################################################################################################\n",
    "    \n",
    "    for images, labels in train_dataloader:\n",
    "        images = images.to(device)\n",
    "        labels = labels.to(device)\n",
    "        \n",
    "        # 文本预处理\n",
    "        text_descriptions = [\"a photo of a \" + str(label) for label in labels.tolist()]\n",
    "        text_inputs = clip.tokenize(text_descriptions).to(device)\n",
    "        # 图像预处理-注意：图像已经通过 DataLoader 和 transform_cifar10_train 进行了预处理-因此，这里不需要额外的图像处理代码\n",
    "        \n",
    "        # 训练过程\n",
    "        optimizer.zero_grad()\n",
    "        # 将处理后的图像和文本输入传递给模型\n",
    "        image_features = model.encode_image(images)\n",
    "        text_features = model.encode_text(text_inputs)\n",
    "        # 计算损失\n",
    "        logits_per_image = model.logit_scale.exp() * image_features @ text_features.t()\n",
    "        loss = criterion(logits_per_image, labels)\n",
    "        loss.backward()\n",
    "        optimizer.step()\n",
    "        total_loss += loss.item()        \n",
    "        # 记录预测和真实标签\n",
    "        predictions.extend(logits_per_image.argmax(1).cpu().tolist())\n",
    "        ground_truths.extend(labels.cpu().tolist())\n",
    "\n",
    "    # 计算准确度\n",
    "    accuracy = accuracy_score(ground_truths, predictions)\n",
    "\n",
    "    # 打印每个epoch的损失和准确度\n",
    "    print(f\"Epoch [{epoch + 1}/{num_epochs}] Loss: {total_loss / len(train_dataloader):.4f} Accuracy: {accuracy:.4f}\")\n",
    "\n",
    "    ##########################################################\n",
    "    end_time = time.time()\n",
    "    total_time = end_time - start_time\n",
    "    print(f\"Training time: {total_time:.2f} seconds\")\n",
    "    \n",
    "    final_gpu_memory = torch.cuda.memory_allocated()\n",
    "    final_gpu_memory_cache = torch.cuda.memory_reserved()\n",
    "    print(f\"GPU memory used: {final_gpu_memory - initial_gpu_memory} bytes\")\n",
    "    print(f\"GPU memory cache: {final_gpu_memory_cache - initial_gpu_memory_cache} bytes\")\n",
    "    ##############################################################################\n",
    "    \n",
    "# 保存训练后的模型权重\n",
    "model.save_pretrained(\"clip_cifar10_finetuned\")\n",
    "tokenizer.save_pretrained(\"clip_cifar10_finetuned\")"
   ]
  }
 ],
 "metadata": {
  "kernelspec": {
   "display_name": "Python 3 (ipykernel)",
   "language": "python",
   "name": "python3"
  },
  "language_info": {
   "codemirror_mode": {
    "name": "ipython",
    "version": 3
   },
   "file_extension": ".py",
   "mimetype": "text/x-python",
   "name": "python",
   "nbconvert_exporter": "python",
   "pygments_lexer": "ipython3",
   "version": "3.10.12"
  }
 },
 "nbformat": 4,
 "nbformat_minor": 5
}

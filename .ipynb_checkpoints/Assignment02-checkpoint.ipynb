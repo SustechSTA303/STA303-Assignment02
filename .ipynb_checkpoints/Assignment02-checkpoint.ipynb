{
 "cells": [
  {
   "cell_type": "markdown",
   "metadata": {},
   "source": [
    "# Exercise 03: CLIP zero-shot prediction\n",
    "In this exercise, you will perform zero-shot prediction using CLIP."
   ]
  },
  {
   "cell_type": "markdown",
   "metadata": {},
   "source": [
    "### Basic Imports"
   ]
  },
  {
   "cell_type": "markdown",
   "metadata": {},
   "source": [
    "pip install torch torchvision"
   ]
  },
  {
   "cell_type": "code",
   "execution_count": 3,
   "metadata": {},
   "outputs": [
    {
     "name": "stdout",
     "output_type": "stream",
     "text": [
      "Looking in indexes: https://pypi.org/simple, https://pypi.ngc.nvidia.com\n",
      "Requirement already satisfied: transformers in /usr/local/lib/python3.10/dist-packages (4.35.0)\n",
      "Requirement already satisfied: filelock in /usr/local/lib/python3.10/dist-packages (from transformers) (3.12.4)\n",
      "Requirement already satisfied: huggingface-hub<1.0,>=0.16.4 in /usr/local/lib/python3.10/dist-packages (from transformers) (0.17.3)\n",
      "Requirement already satisfied: numpy>=1.17 in /usr/local/lib/python3.10/dist-packages (from transformers) (1.22.2)\n",
      "Requirement already satisfied: packaging>=20.0 in /usr/local/lib/python3.10/dist-packages (from transformers) (23.1)\n",
      "Requirement already satisfied: pyyaml>=5.1 in /usr/local/lib/python3.10/dist-packages (from transformers) (6.0.1)\n",
      "Requirement already satisfied: regex!=2019.12.17 in /usr/local/lib/python3.10/dist-packages (from transformers) (2023.8.8)\n",
      "Requirement already satisfied: requests in /usr/local/lib/python3.10/dist-packages (from transformers) (2.31.0)\n",
      "Requirement already satisfied: tokenizers<0.15,>=0.14 in /usr/local/lib/python3.10/dist-packages (from transformers) (0.14.1)\n",
      "Requirement already satisfied: safetensors>=0.3.1 in /usr/local/lib/python3.10/dist-packages (from transformers) (0.4.0)\n",
      "Requirement already satisfied: tqdm>=4.27 in /usr/local/lib/python3.10/dist-packages (from transformers) (4.66.1)\n",
      "Requirement already satisfied: fsspec in /usr/local/lib/python3.10/dist-packages (from huggingface-hub<1.0,>=0.16.4->transformers) (2023.6.0)\n",
      "Requirement already satisfied: typing-extensions>=3.7.4.3 in /usr/local/lib/python3.10/dist-packages (from huggingface-hub<1.0,>=0.16.4->transformers) (4.7.1)\n",
      "Requirement already satisfied: charset-normalizer<4,>=2 in /usr/local/lib/python3.10/dist-packages (from requests->transformers) (3.2.0)\n",
      "Requirement already satisfied: idna<4,>=2.5 in /usr/local/lib/python3.10/dist-packages (from requests->transformers) (3.4)\n",
      "Requirement already satisfied: urllib3<3,>=1.21.1 in /usr/local/lib/python3.10/dist-packages (from requests->transformers) (1.26.16)\n",
      "Requirement already satisfied: certifi>=2017.4.17 in /usr/local/lib/python3.10/dist-packages (from requests->transformers) (2023.7.22)\n",
      "\u001b[33mWARNING: Running pip as the 'root' user can result in broken permissions and conflicting behaviour with the system package manager. It is recommended to use a virtual environment instead: https://pip.pypa.io/warnings/venv\u001b[0m\u001b[33m\n",
      "\u001b[0m\n",
      "\u001b[1m[\u001b[0m\u001b[34;49mnotice\u001b[0m\u001b[1;39;49m]\u001b[0m\u001b[39;49m A new release of pip is available: \u001b[0m\u001b[31;49m23.2.1\u001b[0m\u001b[39;49m -> \u001b[0m\u001b[32;49m23.3.1\u001b[0m\n",
      "\u001b[1m[\u001b[0m\u001b[34;49mnotice\u001b[0m\u001b[1;39;49m]\u001b[0m\u001b[39;49m To update, run: \u001b[0m\u001b[32;49mpython -m pip install --upgrade pip\u001b[0m\n",
      "Note: you may need to restart the kernel to use updated packages.\n"
     ]
    }
   ],
   "source": [
    "pip install transformers"
   ]
  },
  {
   "cell_type": "code",
   "execution_count": 93,
   "metadata": {},
   "outputs": [],
   "source": [
    "import os\n",
    "import cv2\n",
    "import time\n",
    "import os.path as osp\n",
    "\n",
    "import numpy as np\n",
    "import pandas as pd\n",
    "\n",
    "import torch\n",
    "import torch.nn as nn\n",
    "import torch.nn.functional as F\n",
    "import torch.optim as optim\n",
    "from torch.utils.data import DataLoader, Dataset\n",
    "\n",
    "from torchvision.datasets import CIFAR10\n",
    "from torchvision import datasets\n",
    "from torchvision import transforms\n",
    "import torchvision\n",
    "\n",
    "from PIL import Image, ImageFilter\n",
    "import matplotlib.pyplot as plt\n",
    "from PIL import Image\n",
    "from sklearn.model_selection import train_test_split\n",
    "\n",
    "from clip import clip"
   ]
  },
  {
   "cell_type": "markdown",
   "metadata": {},
   "source": [
    "### Hyperparameters"
   ]
  },
  {
   "cell_type": "code",
   "execution_count": 94,
   "metadata": {},
   "outputs": [],
   "source": [
    "# # random seed\n",
    "# SEED = 1 \n",
    "# NUM_CLASS = 10\n",
    "\n",
    "# Training\n",
    "BATCH_SIZE = 128\n",
    "# NUM_EPOCHS = 30\n",
    "# EVAL_INTERVAL=1\n",
    "# SAVE_DIR = './log'\n",
    "\n",
    "# # Optimizer\n",
    "# LEARNING_RATE = 1e-1\n",
    "# MOMENTUM = 0.9\n",
    "# STEP=5\n",
    "# GAMMA=0.5\n",
    "\n",
    "# CLIP\n",
    "VISUAL_BACKBONE = ['RN50', 'ViT-B/32', 'ViT-B/16'] # RN50, ViT-B/32, ViT-B/16\n"
   ]
  },
  {
   "cell_type": "markdown",
   "metadata": {},
   "source": [
    "### Device"
   ]
  },
  {
   "cell_type": "code",
   "execution_count": 95,
   "metadata": {},
   "outputs": [],
   "source": [
    "device = torch.device(\"cuda:0\" if torch.cuda.is_available() else \"cpu\")"
   ]
  },
  {
   "cell_type": "markdown",
   "metadata": {},
   "source": [
    "\n",
    "### Dataset\n"
   ]
  },
  {
   "cell_type": "code",
   "execution_count": 13,
   "metadata": {},
   "outputs": [],
   "source": [
    "# 定义Cats vs. Dogs数据集路径\n",
    "train_data_path = \"/data/lab/STA303-Exercise03/Cats/train\"\n",
    "test_data_path = \"/data/lab/STA303-Exercise03/Cats/test\"\n",
    "\n",
    "# 数据集预处理\n",
    "class CatsDogsDataset(Dataset):\n",
    "    def __init__(self, images, labels, transform=None):\n",
    "        self.images = images\n",
    "        self.labels = labels\n",
    "        self.transform = transform\n",
    "\n",
    "    def __len__(self):\n",
    "        return len(self.images)\n",
    "\n",
    "    def __getitem__(self, idx):\n",
    "        image_path = self.images[idx]\n",
    "        label = self.labels[idx]\n",
    "\n",
    "        # 读取图像\n",
    "        image = Image.open(image_path).convert(\"RGB\")\n",
    "\n",
    "        # 应用变换\n",
    "        if self.transform:\n",
    "            image = self.transform(image)\n",
    "\n",
    "        return image, label\n",
    "\n",
    "def read_data(data_path):\n",
    "    images = [os.path.join(data_path, filename) for filename in os.listdir(data_path)\n",
    "              if os.path.isfile(os.path.join(data_path, filename))]  # 过滤掉目录\n",
    "    labels = [0 if \"cat\" in image_path else 1 for image_path in images]\n",
    "\n",
    "    return images, labels\n",
    "\n",
    "\n",
    "# 数据集划分\n",
    "train_images, train_labels = read_data(train_data_path)\n",
    "test_images, test_labels = read_data(test_data_path)\n",
    "\n",
    "# 定义图像变换\n",
    "image_transform = transforms.Compose([\n",
    "    transforms.Resize((224, 224)),\n",
    "    transforms.ToTensor(),\n",
    "    transforms.Normalize(mean=[0.485, 0.456, 0.406], std=[0.229, 0.224, 0.225]),\n",
    "])\n",
    "\n",
    "# 创建训练和测试数据集\n",
    "train_set = CatsDogsDataset(train_images, train_labels, transform=image_transform)\n",
    "test_set = CatsDogsDataset(test_images, test_labels, transform=image_transform)\n",
    "\n",
    "# 创建数据加载器\n",
    "train_loader = DataLoader(train_set, batch_size=32, shuffle=True)\n",
    "test_loader = DataLoader(test_set, batch_size=32, shuffle=False)\n",
    "\n",
    "# Class names for Cats and Dogs\n",
    "class_names = ['cat', 'dog']\n",
    "\n",
    "# Dataset name\n",
    "dataset_name = 'Cats vs. Dogs'"
   ]
  },
  {
   "cell_type": "code",
   "execution_count": 20,
   "metadata": {},
   "outputs": [],
   "source": [
    "from torchvision.datasets import FashionMNIST\n",
    "\n",
    "# 定义图像变换\n",
    "transform_fashionmnist = transforms.Compose([\n",
    "    transforms.Resize((224, 224)),\n",
    "    transforms.Grayscale(num_output_channels=3),  # 将单通道图像扩展为3通道\n",
    "    transforms.ToTensor(),\n",
    "    transforms.Normalize(mean=[0.5], std=[0.5]),\n",
    "])\n",
    "\n",
    "# 2. 创建FashionMNIST数据集\n",
    "train_set = FashionMNIST(root='./data', train=True, download=True, transform=transform_fashionmnist)\n",
    "test_set = FashionMNIST(root='./data', train=False, download=True, transform=transform_fashionmnist)\n",
    "\n",
    "# 3. 创建FashionMNIST数据加载器，\n",
    "train_loader = DataLoader(dataset=train_set, batch_size=32, shuffle=True)\n",
    "test_loader = DataLoader(dataset=test_set, batch_size=32, shuffle=False)\n",
    "\n",
    "# 4. 输出FashionMNIST类别\n",
    "class_names = ['T-shirt/top', 'Trouser', 'Pullover', 'Dress', 'Coat', 'Sandal', 'Shirt', 'Sneaker', 'Bag', 'Ankle boot']\n",
    "dataset_name = 'FashionMNIST'"
   ]
  },
  {
   "cell_type": "code",
   "execution_count": 131,
   "metadata": {},
   "outputs": [
    {
     "name": "stdout",
     "output_type": "stream",
     "text": [
      "Files already downloaded and verified\n",
      "Files already downloaded and verified\n"
     ]
    }
   ],
   "source": [
    "transform_cifar10_test = transforms.Compose([\n",
    "    transforms.Resize(size=224),\n",
    "    transforms.CenterCrop(size=(224, 224)),\n",
    "    transforms.ToTensor(),\n",
    "    transforms.Normalize((0.4914, 0.4822, 0.4465), (0.2023, 0.1994, 0.2010)),\n",
    "])\n",
    "train_set = torchvision.datasets.CIFAR10(root='./CIFAR10', train=True, download=True, transform=transform_cifar10_test)\n",
    "test_set = torchvision.datasets.CIFAR10(root='/shareddata', train=False,download=True, transform=transform_cifar10_test)\n",
    "\n",
    "train_loader = torch.utils.data.DataLoader(dataset=train_set, batch_size=BATCH_SIZE, shuffle=True)\n",
    "test_loader = torch.utils.data.DataLoader(test_set, batch_size=BATCH_SIZE,shuffle=False, num_workers=2)\n",
    "\n",
    "class_names = ['airplane', 'automobile', 'bird', 'cat', 'deer', 'dog', 'frog', 'horse', 'ship', 'truck']\n",
    "dataset_name = 'CIFAR10'"
   ]
  },
  {
   "cell_type": "markdown",
   "metadata": {},
   "source": [
    "### Model"
   ]
  },
  {
   "cell_type": "markdown",
   "metadata": {},
   "source": [
    "### Task 1: Prompt Gereration\n",
    "---\n",
    "\n",
    "Please denfine a function named ``prompt_encode`` to encode the text using CLIP text encoder.\n"
   ]
  },
  {
   "cell_type": "code",
   "execution_count": 138,
   "metadata": {},
   "outputs": [],
   "source": [
    "prompt = 'a photo of a' # you can try different prompt\n",
    "\n",
    "from transformers import CLIPProcessor, CLIPModel\n",
    "\n",
    "def prompt_encode(prompt):\n",
    "    \"\"\"\n",
    "    Args:\n",
    "        prompt (str): the text prefix before the class\n",
    "\n",
    "    Returns:\n",
    "        text_inputs(torch.Tensor)\n",
    "\n",
    "    \"\"\"\n",
    "    ##################### Write your answer here ##################\n",
    "    text_inputs = torch.cat([clip.tokenize(f\"{prompt} {name}\")for name in class_names]).to(device)\n",
    "                                           \n",
    "    ###############################################################\n",
    "    \n",
    "    return text_inputs\n"
   ]
  },
  {
   "cell_type": "code",
   "execution_count": 139,
   "metadata": {},
   "outputs": [
    {
     "name": "stdout",
     "output_type": "stream",
     "text": [
      "tensor([[49406,   320,  1125,  ...,     0,     0,     0],\n",
      "        [49406,   320,  1125,  ...,     0,     0,     0],\n",
      "        [49406,   320,  1125,  ...,     0,     0,     0],\n",
      "        ...,\n",
      "        [49406,   320,  1125,  ...,     0,     0,     0],\n",
      "        [49406,   320,  1125,  ...,     0,     0,     0],\n",
      "        [49406,   320,  1125,  ...,     0,     0,     0]], device='cuda:0',\n",
      "       dtype=torch.int32)\n"
     ]
    }
   ],
   "source": [
    "text_inputs = prompt_encode(prompt)\n",
    "print(text_inputs)"
   ]
  },
  {
   "cell_type": "markdown",
   "metadata": {},
   "source": [
    "### Task 2: Zero-shot inference\n",
    "---\n",
    "\n",
    "Please denfine a function named ``model_inference``. The function is essential for training and evaluating machine learning models using batched data from dataloaders.\n",
    "\n",
    "**To do**: \n",
    "1. Encode the image.\n",
    "2. Encode the text.\n",
    "3. Calculate the logits."
   ]
  },
  {
   "cell_type": "code",
   "execution_count": 140,
   "metadata": {},
   "outputs": [],
   "source": [
    "def model_inference(model, image, text_inputs):\n",
    "\n",
    "    ##################### Write your answer here ##################\n",
    "    with torch.no_grad():\n",
    "        image_features = model.encode_image(image)\n",
    "        text_features = model.encode_text(text_inputs)\n",
    "  \n",
    "    \n",
    "    logits_per_image, logits_per_text = model(image, text_inputs)\n",
    "    probs = logits_per_image.softmax(dim=-1).cpu().numpy()\n",
    "    logits = logits_per_image\n",
    "    \n",
    "    ###############################################################\n",
    "\n",
    "    return logits"
   ]
  },
  {
   "cell_type": "markdown",
   "metadata": {},
   "source": [
    "### Task 3: Zero-shot accuracy calculation\n",
    "---"
   ]
  },
  {
   "cell_type": "code",
   "execution_count": 136,
   "metadata": {},
   "outputs": [
    {
     "name": "stdout",
     "output_type": "stream",
     "text": [
      "the zero-shot performance on CIFAR10 is 55.84%, visual encoder is RN50.\n",
      "the zero-shot performance on CIFAR10 is 85.47%, visual encoder is ViT-B/32.\n",
      "the zero-shot performance on CIFAR10 is 88.03%, visual encoder is ViT-B/16.\n"
     ]
    }
   ],
   "source": [
    "testing_loss = []\n",
    "testing_acc = []\n",
    "\n",
    "for VISUAL_BACKBONE in ['RN50', 'ViT-B/32', 'ViT-B/16']:\n",
    "    \n",
    "    model, preprocess = clip.load(name=VISUAL_BACKBONE, device=device, download_root='/shareddata/clip/')\n",
    "    model.to(device)\n",
    "    \n",
    "    with torch.no_grad():\n",
    "        model.eval()\n",
    " \n",
    "    ##################### Write your answer here ##################\n",
    "        correct_predictions=0\n",
    "    \n",
    "        for image, class_id in test_loader:\n",
    "            image = image.to(device)\n",
    "            class_id = class_id.to(device).long()\n",
    "        \n",
    "            logits = model_inference(model,image,text_inputs)\n",
    "            #print(image)\n",
    "            #print(text_inputs)\n",
    "            \n",
    "            predictions = logits.argmax(dim=-1)\n",
    "            correct_predictions += (predictions == class_id).sum().item()\n",
    "\n",
    "    \n",
    "        val_acc = correct_predictions / len(test_set)\n",
    "\n",
    "     ###############################################################\n",
    "    print(f\"the zero-shot performance on {dataset_name} is {val_acc*100:.2f}%, visual encoder is {VISUAL_BACKBONE}.\")\n"
   ]
  },
  {
   "cell_type": "code",
   "execution_count": 48,
   "metadata": {},
   "outputs": [
    {
     "name": "stdout",
     "output_type": "stream",
     "text": [
      "Baseline Model Accuracy on CIFAR10 Dataset: 23.98%\n"
     ]
    }
   ],
   "source": [
    "# 定义基准模型\n",
    "class BaselineModel(nn.Module):\n",
    "    def __init__(self, num_classes=10):\n",
    "        super(BaselineModel, self).__init__()\n",
    "        self.flatten = nn.Flatten()\n",
    "        self.fc1 = nn.Linear(3 * 224 * 224, num_classes)\n",
    "\n",
    "    def forward(self, x):\n",
    "        x = self.flatten(x)\n",
    "        x = self.fc1(x)\n",
    "        return x\n",
    "\n",
    "# 实例化模型和定义损失函数、优化器\n",
    "baseline_model = BaselineModel()\n",
    "criterion = nn.CrossEntropyLoss()\n",
    "optimizer = optim.SGD(baseline_model.parameters(), lr=0.001, momentum=0.9)\n",
    "\n",
    "# 训练模型\n",
    "for epoch in range(5):  # 假设进行5个Epoch的训练\n",
    "    baseline_model.train()\n",
    "    for images, labels in train_loader:\n",
    "        optimizer.zero_grad()\n",
    "        outputs = baseline_model(images)\n",
    "        loss = criterion(outputs, labels)\n",
    "        loss.backward()\n",
    "        optimizer.step()\n",
    "\n",
    "# 在测试集上计算准确率\n",
    "baseline_model.eval()\n",
    "correct = 0\n",
    "total = 0\n",
    "with torch.no_grad():\n",
    "    for images, labels in test_loader:\n",
    "        outputs = baseline_model(images)\n",
    "        _, predicted = torch.max(outputs.data, 1)\n",
    "        total += labels.size(0)\n",
    "        correct += (predicted == labels).sum().item()\n",
    "\n",
    "accuracy = correct / total\n",
    "print(f'Baseline Model Accuracy on CIFAR10 Dataset: {accuracy * 100:.2f}%')"
   ]
  },
  {
   "cell_type": "code",
   "execution_count": 158,
   "metadata": {},
   "outputs": [
    {
     "data": {
      "image/png": "[encoded data removed]",
      "text/plain": [
       "<Figure size 500x300 with 1 Axes>"
      ]
     },
     "metadata": {},
     "output_type": "display_data"
    }
   ],
   "source": [
    "# 模拟数据\n",
    "visual_backbones = ['RN50', 'ViT-B/32', 'ViT-B/16']\n",
    "zero_shot_acc = [55.84,85.47,88.03]  # 使用实际的准确率数据\n",
    "baseline_acc = 23.98  # 使用实际的准确率数据\n",
    "\n",
    "# 绘制柱状图\n",
    "plt.figure(figsize=(5, 3))\n",
    "plt.bar(visual_backbones + ['Baseline'], zero_shot_acc + [baseline_acc], color=['blue', 'green', 'orange', 'red'])\n",
    "plt.ylabel('Accuracy (%)')\n",
    "plt.title('Performance Comparison')\n",
    "plt.ylim(0, 100)  # 设置y轴范围为0到100，以适应准确率百分比\n",
    "plt.show()"
   ]
  },
  {
   "cell_type": "code",
   "execution_count": 14,
   "metadata": {},
   "outputs": [
    {
     "name": "stdout",
     "output_type": "stream",
     "text": [
      "the zero-shot performance on Cats vs. Dogs is 12.14%, visual encoder is RN50.\n",
      "the zero-shot performance on Cats vs. Dogs is 6.35%, visual encoder is ViT-B/32.\n",
      "the zero-shot performance on Cats vs. Dogs is 6.70%, visual encoder is ViT-B/16.\n"
     ]
    }
   ],
   "source": [
    "testing_loss = []\n",
    "testing_acc = []\n",
    "\n",
    "for VISUAL_BACKBONE in ['RN50', 'ViT-B/32', 'ViT-B/16']:\n",
    "    \n",
    "    model, preprocess = clip.load(name=VISUAL_BACKBONE, device=device, download_root='/shareddata/clip/')\n",
    "    model.to(device)\n",
    "    \n",
    "    with torch.no_grad():\n",
    "        model.eval()\n",
    " \n",
    "    ##################### Write your answer here ##################\n",
    "        correct_predictions=0\n",
    "    \n",
    "        for image, class_id in test_loader:\n",
    "      \n",
    "            image = image.to(device)\n",
    "            class_id = class_id.to(device).long()\n",
    "        \n",
    "            logits = model_inference(model,image,text_inputs)\n",
    "   \n",
    "            predictions = logits.argmax(dim=-1)\n",
    "            correct_predictions += (predictions == class_id).sum().item()\n",
    "\n",
    "    \n",
    "        val_acc = correct_predictions / len(test_set)\n",
    "\n",
    "     ###############################################################\n",
    "    print(f\"the zero-shot performance on {dataset_name} is {val_acc*100:.2f}%, visual encoder is {VISUAL_BACKBONE}.\")\n"
   ]
  },
  {
   "cell_type": "code",
   "execution_count": 15,
   "metadata": {},
   "outputs": [
    {
     "name": "stdout",
     "output_type": "stream",
     "text": [
      "Baseline Model Accuracy on Cats Dataset: 31.47%\n"
     ]
    }
   ],
   "source": [
    "# 定义基准模型\n",
    "class BaselineModel(nn.Module):\n",
    "    def __init__(self, num_classes=2):\n",
    "        super(BaselineModel, self).__init__()\n",
    "        self.flatten = nn.Flatten()\n",
    "        self.fc1 = nn.Linear(3 * 224 * 224, num_classes)\n",
    "\n",
    "    def forward(self, x):\n",
    "        x = self.flatten(x)\n",
    "        x = self.fc1(x)\n",
    "        return x\n",
    "\n",
    "# 实例化模型和定义损失函数、优化器\n",
    "baseline_model = BaselineModel()\n",
    "criterion = nn.CrossEntropyLoss()\n",
    "optimizer = optim.SGD(baseline_model.parameters(), lr=0.001, momentum=0.9)\n",
    "\n",
    "# 训练模型\n",
    "for epoch in range(5):  # 假设进行5个Epoch的训练\n",
    "    baseline_model.train()\n",
    "    for images, labels in train_loader:\n",
    "        optimizer.zero_grad()\n",
    "        outputs = baseline_model(images)\n",
    "        loss = criterion(outputs, labels)\n",
    "        loss.backward()\n",
    "        optimizer.step()\n",
    "\n",
    "# 在测试集上计算准确率\n",
    "baseline_model.eval()\n",
    "correct = 0\n",
    "total = 0\n",
    "with torch.no_grad():\n",
    "    for images, labels in test_loader:\n",
    "        outputs = baseline_model(images)\n",
    "        _, predicted = torch.max(outputs.data, 1)\n",
    "        total += labels.size(0)\n",
    "        correct += (predicted == labels).sum().item()\n",
    "\n",
    "accuracy = correct / total\n",
    "print(f'Baseline Model Accuracy on Cats Dataset: {accuracy * 100:.2f}%')"
   ]
  },
  {
   "cell_type": "code",
   "execution_count": 159,
   "metadata": {},
   "outputs": [
    {
     "data": {
      "image/png": "[encoded data removed]",
      "text/plain": [
       "<Figure size 500x300 with 1 Axes>"
      ]
     },
     "metadata": {},
     "output_type": "display_data"
    }
   ],
   "source": [
    "# 模拟数据\n",
    "visual_backbones = ['RN50', 'ViT-B/32', 'ViT-B/16']\n",
    "zero_shot_acc = [12.14,6.35,6.70]  # 使用实际的准确率数据\n",
    "baseline_acc = 31.47  # 使用实际的准确率数据\n",
    "\n",
    "# 绘制柱状图\n",
    "plt.figure(figsize=(5, 3))\n",
    "plt.bar(visual_backbones + ['Baseline'], zero_shot_acc + [baseline_acc], color=['blue', 'green', 'orange', 'red'])\n",
    "plt.ylabel('Accuracy (%)')\n",
    "plt.title('Performance Comparison')\n",
    "plt.ylim(0, 100)  # 设置y轴范围为0到100，以适应准确率百分比\n",
    "plt.show()"
   ]
  },
  {
   "cell_type": "code",
   "execution_count": 8,
   "metadata": {},
   "outputs": [
    {
     "name": "stdout",
     "output_type": "stream",
     "text": [
      "the zero-shot performance on FashionMNIST is 49.90%, visual encoder is RN50.\n",
      "the zero-shot performance on FashionMNIST is 62.88%, visual encoder is ViT-B/32.\n",
      "the zero-shot performance on FashionMNIST is 64.07%, visual encoder is ViT-B/16.\n"
     ]
    }
   ],
   "source": [
    "testing_loss = []\n",
    "testing_acc = []\n",
    "\n",
    "for VISUAL_BACKBONE in ['RN50', 'ViT-B/32', 'ViT-B/16']:\n",
    "    \n",
    "    model, preprocess = clip.load(name=VISUAL_BACKBONE, device=device, download_root='/shareddata/clip/')\n",
    "    model.to(device)\n",
    "    \n",
    "    with torch.no_grad():\n",
    "        model.eval()\n",
    " \n",
    "    ##################### Write your answer here ##################\n",
    "        correct_predictions=0\n",
    "    \n",
    "        for image, class_id in test_loader:\n",
    "      \n",
    "            image = image.to(device)\n",
    "            class_id = class_id.to(device).long()\n",
    "        \n",
    "            logits = model_inference(model,image,text_inputs)\n",
    "   \n",
    "            predictions = logits.argmax(dim=-1)\n",
    "            correct_predictions += (predictions == class_id).sum().item()\n",
    "\n",
    "    \n",
    "        val_acc = correct_predictions / len(test_set)\n",
    "\n",
    "     ###############################################################\n",
    "    print(f\"the zero-shot performance on {dataset_name} is {val_acc*100:.2f}%, visual encoder is {VISUAL_BACKBONE}.\")\n"
   ]
  },
  {
   "cell_type": "code",
   "execution_count": 11,
   "metadata": {},
   "outputs": [
    {
     "name": "stdout",
     "output_type": "stream",
     "text": [
      "Updated Baseline Model Accuracy on Fashion Dataset: 78.92%\n"
     ]
    }
   ],
   "source": [
    "import torch.optim as optim\n",
    "\n",
    "class UpdatedBaselineModel(nn.Module):\n",
    "    def __init__(self, num_classes=10):  # 更新为10个类别\n",
    "        super(UpdatedBaselineModel, self).__init__()\n",
    "        self.flatten = nn.Flatten()\n",
    "        self.fc1 = nn.Linear(3 * 224 * 224, num_classes)\n",
    "\n",
    "    def forward(self, x):\n",
    "        x = self.flatten(x)\n",
    "        x = self.fc1(x)\n",
    "        return x\n",
    "\n",
    "# 实例化模型和定义损失函数、优化器\n",
    "updated_baseline_model = UpdatedBaselineModel()\n",
    "criterion = nn.CrossEntropyLoss()\n",
    "optimizer = optim.SGD(updated_baseline_model.parameters(), lr=0.001, momentum=0.9)\n",
    "\n",
    "# 实例化模型和定义损失函数、优化器\n",
    "updated_baseline_model = UpdatedBaselineModel()\n",
    "criterion = nn.CrossEntropyLoss()\n",
    "optimizer = optim.SGD(updated_baseline_model.parameters(), lr=0.001, momentum=0.9)\n",
    "\n",
    "# 训练模型\n",
    "for epoch in range(5):  # 假设进行5个Epoch的训练\n",
    "    updated_baseline_model.train()\n",
    "    for images, labels in train_loader:\n",
    "        optimizer.zero_grad()\n",
    "        outputs = updated_baseline_model(images)\n",
    "        loss = criterion(outputs, labels)\n",
    "        loss.backward()\n",
    "        optimizer.step()\n",
    "\n",
    "# 在测试集上计算准确率\n",
    "updated_baseline_model.eval()\n",
    "correct = 0\n",
    "total = 0\n",
    "with torch.no_grad():\n",
    "    for images, labels in test_loader:\n",
    "        outputs = updated_baseline_model(images)\n",
    "        _, predicted = torch.max(outputs.data, 1)\n",
    "        total += labels.size(0)\n",
    "        correct += (predicted == labels).sum().item()\n",
    "\n",
    "accuracy = correct / total\n",
    "print(f'Updated Baseline Model Accuracy on Fashion Dataset: {accuracy * 100:.2f}%')"
   ]
  },
  {
   "cell_type": "code",
   "execution_count": 160,
   "metadata": {},
   "outputs": [
    {
     "data": {
      "image/png": "[encoded data removed]",
      "text/plain": [
       "<Figure size 500x300 with 1 Axes>"
      ]
     },
     "metadata": {},
     "output_type": "display_data"
    }
   ],
   "source": [
    "# 模拟数据\n",
    "visual_backbones = ['RN50', 'ViT-B/32', 'ViT-B/16']\n",
    "zero_shot_acc = [49.90,62.88,64.07]  # 使用实际的准确率数据\n",
    "baseline_acc = 78.92  # 使用实际的准确率数据\n",
    "\n",
    "# 绘制柱状图\n",
    "plt.figure(figsize=(5, 3))\n",
    "plt.bar(visual_backbones + ['Baseline'], zero_shot_acc + [baseline_acc], color=['blue', 'green', 'orange', 'red'])\n",
    "plt.ylabel('Accuracy (%)')\n",
    "plt.title('Performance Comparison')\n",
    "plt.ylim(0, 100)  # 设置y轴范围为0到100，以适应准确率百分比\n",
    "plt.show()"
   ]
  },
  {
   "cell_type": "code",
   "execution_count": null,
   "metadata": {},
   "outputs": [],
   "source": []
  }
 ],
 "metadata": {
  "kernelspec": {
   "display_name": "Python 3 (ipykernel)",
   "language": "python",
   "name": "python3"
  },
  "language_info": {
   "codemirror_mode": {
    "name": "ipython",
    "version": 3
   },
   "file_extension": ".py",
   "mimetype": "text/x-python",
   "name": "python",
   "nbconvert_exporter": "python",
   "pygments_lexer": "ipython3",
   "version": "3.10.12"
  }
 },
 "nbformat": 4,
 "nbformat_minor": 4
}

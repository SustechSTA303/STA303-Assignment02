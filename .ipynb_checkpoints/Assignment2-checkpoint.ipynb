{
 "cells": [
  {
   "cell_type": "code",
   "execution_count": 1,
   "id": "ff0d2973",
   "metadata": {},
   "outputs": [],
   "source": [
    "import torch\n",
    "import clip\n",
    "import os\n",
    "from torchvision.datasets import  MNIST, FGVCAircraft\n",
    "import numpy as np\n",
    "from PIL import Image\n",
    "import torch\n",
    "import torch.nn as nn\n",
    "import torch.optim as optim\n",
    "import torchvision\n",
    "from torchvision import transforms\n",
    "from torch.utils.data import DataLoader, random_split\n",
    "from torchvision.models import resnet50\n",
    "from torchvision.datasets import CIFAR100, StanfordCars\n",
    "from torch.utils.data import DataLoader"
   ]
  },
  {
   "cell_type": "code",
   "execution_count": 5,
   "id": "4800b1aa",
   "metadata": {},
   "outputs": [
    {
     "name": "stdout",
     "output_type": "stream",
     "text": [
      "top-1 accuracy for MNIST dataset: 49.360\n"
     ]
    }
   ],
   "source": [
    "#Test on datasets of CLIP\n",
    "device = \"cuda\" if torch.cuda.is_available() else \"cpu\"\n",
    "model, preprocess = clip.load('RN50', device, download_root='/shareddata/clip/')\n",
    "\n",
    "@torch.no_grad()\n",
    "def accuracy(output, target, topk=(1,)):\n",
    "    maxk = max(topk)\n",
    "    batch_size = target.size(0)\n",
    "\n",
    "    _, pred = output.topk(maxk, 1, True, True)\n",
    "    pred = pred.t()\n",
    "    correct = pred.eq(target.reshape(1, -1).expand_as(pred))\n",
    "\n",
    "    res = []\n",
    "    for k in topk:\n",
    "        correct_k = correct[:k].reshape(-1).float().sum(0, keepdim=True)\n",
    "        res.append(correct_k.mul_(100.0 / batch_size).item())\n",
    "    return res\n",
    "\n",
    "\n",
    "@torch.no_grad()\n",
    "def extract_text_features(dataset_name):\n",
    "    # code borrowed from: https://github.com/openai/CLIP/blob/fcab8b6eb92af684e7ff0a904464be7b99b49b88/notebooks/Prompt_Engineering_for_ImageNet.ipynb\n",
    "    class_names = class_map[dataset_name]\n",
    "    templates = template_map[dataset_name]\n",
    "    model.to(device)\n",
    "    model.eval()\n",
    "\n",
    "    zeroshot_weights = []\n",
    "    for classname in class_names:\n",
    "        texts = [template.format(classname) for template in templates]\n",
    "        texts = clip.tokenize(texts).to(device)\n",
    "        class_embeddings = model.encode_text(texts)\n",
    "        class_embeddings /= class_embeddings.norm(dim=-1, keepdim=True)\n",
    "        class_embedding = class_embeddings.mean(dim=0)\n",
    "        class_embedding /= class_embedding.norm()\n",
    "        zeroshot_weights.append(class_embedding)\n",
    "    zeroshot_weights = torch.stack(zeroshot_weights, dim=1).to(device)\n",
    "    return zeroshot_weights\n",
    "\n",
    "mnist = MNIST(root=os.path.expanduser(\"~/.cache\"), train=False)\n",
    "# cifar100 = CIFAR100(root='./data', train=False)\n",
    "\n",
    "objectnet_classes = ['bed', 'bench', 'book', 'bottle', 'bowl', 'cellphone', 'chair', 'clock', 'couch', 'remote']\n",
    "\n",
    "# from https://github.com/openai/CLIP/blob/main/data/prompts.md\n",
    "mnist_classes = ['0','1','2','3','4','5','6','7','8','9',]\n",
    "mnist_classes = mnist.classes\n",
    "mnist_templates = ['a photo of the number: \"{}\".',]\n",
    "# cifar100_templates = [\n",
    "#     'a photo of a {}.',\n",
    "#     'a blurry photo of a {}.',\n",
    "#     'a black and white photo of a {}.',\n",
    "#     'a low contrast photo of a {}.',\n",
    "#     'a high contrast photo of a {}.',\n",
    "#     'a bad photo of a {}.',\n",
    "#     'a good photo of a {}.',\n",
    "#     'a photo of a small {}.',\n",
    "#     'a photo of a big {}.',\n",
    "#     'a photo of the {}.',\n",
    "#     'a blurry photo of the {}.',\n",
    "#     'a black and white photo of the {}.',\n",
    "#     'a low contrast photo of the {}.',\n",
    "#     'a high contrast photo of the {}.',\n",
    "#     'a bad photo of the {}.',\n",
    "#     'a good photo of the {}.',\n",
    "#     'a photo of the small {}.',\n",
    "#     'a photo of the big {}.',\n",
    "# ]\n",
    "\n",
    "\n",
    "class_map = {'MNIST': mnist_classes}\n",
    "# class_map = {'CIFAR100':cifar100_classes}\n",
    "template_map = {'MNIST': mnist_templates}\n",
    "# template_map = {'CIFAR100':cifar100_templates}\n",
    "\n",
    "for dataset in [mnist]:\n",
    "# for dataset in [cifar100]:\n",
    "    # extract image feature, code borrowed from: https://github.com/openai/CLIP#zero-shot-prediction\n",
    "    image_features = []\n",
    "    image_labels = []\n",
    "    for image, class_id in dataset:\n",
    "        image_input = preprocess(image).unsqueeze(0).to(device)\n",
    "        with torch.no_grad():\n",
    "            image_feature = model.encode_image(image_input)\n",
    "        image_feature /= image_feature.norm()\n",
    "        image_features.append(image_feature)\n",
    "        image_labels.append(class_id)\n",
    "    image_features = torch.stack(image_features, dim=1).to(device)\n",
    "    image_features = image_features.squeeze()\n",
    "    \n",
    "    # extract text feature\n",
    "#     dataset_name = 'MNIST' if dataset == mnist else 'CIFAR10'\n",
    "    dataset_name = 'MNIST'\n",
    "    text_features = extract_text_features(dataset_name)\n",
    "    \n",
    "    # compute top-1 accuracy\n",
    "    logits = (100. * image_features @ text_features).softmax(dim=-1)\n",
    "    image_labels = torch.tensor(image_labels).unsqueeze(dim=1).to(device)\n",
    "    top1_acc = accuracy(logits, image_labels, (1,))\n",
    "    print(f'top-1 accuracy for {dataset_name} dataset: {top1_acc[0]:.3f}')"
   ]
  },
  {
   "cell_type": "code",
   "execution_count": 5,
   "id": "3a5fd698",
   "metadata": {},
   "outputs": [
    {
     "name": "stdout",
     "output_type": "stream",
     "text": [
      "top-1 accuracy for FGVCAircraft dataset: 1.230\n"
     ]
    }
   ],
   "source": [
    "#test on the FGVCAircraft\n",
    "#The form of the dataset is different from the dataset above\n",
    "import os\n",
    "import torch\n",
    "from torchvision.datasets import FGVCAircraft\n",
    "import clip\n",
    "\n",
    "# Load CLIP model and preprocessing function\n",
    "device = \"cuda\" if torch.cuda.is_available() else \"cpu\"\n",
    "model, preprocess = clip.load('RN50', device, download_root='/shareddata/clip/')\n",
    "\n",
    "@torch.no_grad()\n",
    "def accuracy(output, target, topk=(1,)):\n",
    "    maxk = max(topk)\n",
    "    batch_size = target.size(0)\n",
    "\n",
    "    _, pred = output.topk(maxk, 1, True, True)\n",
    "    pred = pred.t()\n",
    "    correct = pred.eq(target.reshape(1, -1).expand_as(pred))\n",
    "\n",
    "    res = []\n",
    "    for k in topk:\n",
    "        correct_k = correct[:k].reshape(-1).float().sum(0, keepdim=True)\n",
    "        res.append(correct_k.mul_(100.0 / batch_size).item())\n",
    "    return res\n",
    "\n",
    "@torch.no_grad()\n",
    "def extract_text_features(dataset_name):\n",
    "    # code borrowed from: https://github.com/openai/CLIP/blob/fcab8b6eb92af684e7ff0a904464be7b99b49b88/notebooks/Prompt_Engineering_for_ImageNet.ipynb\n",
    "    class_names = class_map[dataset_name]\n",
    "    templates = template_map[dataset_name]\n",
    "    model.to(device)\n",
    "    model.eval()\n",
    "\n",
    "    zeroshot_weights = []\n",
    "    for classname in class_names:\n",
    "        texts = [template.format(classname) for template in templates]\n",
    "        texts = clip.tokenize(texts).to(device)\n",
    "        class_embeddings = model.encode_text(texts)\n",
    "        class_embeddings /= class_embeddings.norm(dim=-1, keepdim=True)\n",
    "        class_embedding = class_embeddings.mean(dim=0)\n",
    "        class_embedding /= class_embedding.norm()\n",
    "        zeroshot_weights.append(class_embedding)\n",
    "    zeroshot_weights = torch.stack(zeroshot_weights, dim=1).to(device)\n",
    "    return zeroshot_weights\n",
    "\n",
    "# FGVC-Aircraft dataset\n",
    "aircraft_dataset = FGVCAircraft(root='./data', download=True,transform=preprocess)\n",
    "aircraft_classes = [f'{i:03d}' for i in range(len(aircraft_dataset.classes))]\n",
    "\n",
    "# from https://github.com/openai/CLIP/blob/main/data/prompts.md\n",
    "aircraft_templates = [\n",
    "    'a photo of a {}.',\n",
    "    'a blurry photo of a {}.',\n",
    "    'a black and white photo of a {}.',\n",
    "    'a low contrast photo of a {}.',\n",
    "    'a high contrast photo of a {}.',\n",
    "    'a bad photo of a {}.',\n",
    "    'a good photo of a {}.',\n",
    "    'a photo of a small {}.',\n",
    "    'a photo of a big {}.',\n",
    "    'a photo of the {}.',\n",
    "    'a blurry photo of the {}.',\n",
    "    'a black and white photo of the {}.',\n",
    "    'a low contrast photo of the {}.',\n",
    "    'a high contrast photo of the {}.',\n",
    "    'a bad photo of the {}.',\n",
    "    'a good photo of the {}.',\n",
    "    'a photo of the small {}.',\n",
    "    'a photo of the big {}.',\n",
    "]\n",
    "\n",
    "class_map = {'FGVCAircraft': aircraft_classes}\n",
    "template_map = {'FGVCAircraft': aircraft_templates}\n",
    "\n",
    "# Create a DataLoader to iterate over the dataset\n",
    "data_loader = torch.utils.data.DataLoader(aircraft_dataset, batch_size=1, shuffle=False)\n",
    "\n",
    "# Iterate over the dataset\n",
    "image_features = []\n",
    "image_labels = []\n",
    "\n",
    "for image, class_id in data_loader:\n",
    "    image=image.to(device)  # Convert PIL.Image.Image to torch.Tensor\n",
    "    with torch.no_grad():\n",
    "        image_feature = model.encode_image(image)\n",
    "    image_feature /= image_feature.norm()\n",
    "    image_features.append(image_feature)\n",
    "    image_labels.append(class_id.item())  # Assuming class_id is a tensor\n",
    "\n",
    "image_features = torch.stack(image_features, dim=1).to(device)\n",
    "image_features = image_features.squeeze()\n",
    "\n",
    "# Extract text features\n",
    "dataset_name = 'FGVCAircraft'\n",
    "text_features = extract_text_features(dataset_name)\n",
    "\n",
    "# Compute top-1 accuracy\n",
    "logits = (100. * image_features @ text_features).softmax(dim=-1)\n",
    "image_labels = torch.tensor(image_labels).unsqueeze(dim=1).to(device)\n",
    "top1_acc = accuracy(logits, image_labels, (1,))\n",
    "print(f'top-1 accuracy for {dataset_name} dataset: {top1_acc[0]:.3f}')\n"
   ]
  },
  {
   "cell_type": "code",
   "execution_count": 6,
   "id": "71251e1f",
   "metadata": {},
   "outputs": [
    {
     "name": "stdout",
     "output_type": "stream",
     "text": [
      "Label probs: [[0.03102 0.01881 0.95   ]]\n"
     ]
    }
   ],
   "source": [
    "device = \"cuda\" if torch.cuda.is_available() else \"cpu\"\n",
    "model, preprocess = clip.load('RN50', device, download_root='/shareddata/clip/')\n",
    "image = preprocess(Image.open(\"course.jpeg\")).unsqueeze(0).to(device)\n",
    "# text = clip.tokenize([\"library\", \"coffee shop\", \"museum\"]).to(device)\n",
    "# text = clip.tokenize([\"windows computer\", \"apple computer\", \"mobile phone\"]).to(device)\n",
    "# text = clip.tokenize([\"maths course\", \"cs course\", \"Englishcourse\"]).to(device)\n",
    "text = clip.tokenize([\"china course\", \"japan course\", \"koreacourse\"]).to(device)\n",
    "with torch.no_grad():\n",
    "    image_features = model.encode_image(image)\n",
    "    text_features = model.encode_text(text)\n",
    "    \n",
    "    logits_per_image, logits_per_text = model(image, text)\n",
    "    probs = logits_per_image.softmax(dim=-1).cpu().numpy()\n",
    "\n",
    "print(\"Label probs:\", probs)"
   ]
  },
  {
   "cell_type": "code",
   "execution_count": 8,
   "id": "90eea5b1",
   "metadata": {},
   "outputs": [
    {
     "name": "stdout",
     "output_type": "stream",
     "text": [
      "\n",
      "Top predictions:\n",
      "\n",
      "        elephant: 79.10%\n",
      "           camel: 9.01%\n",
      "        kangaroo: 1.36%\n",
      "        dinosaur: 0.71%\n",
      "    pickup_truck: 0.54%\n"
     ]
    }
   ],
   "source": [
    "import os\n",
    "import clip\n",
    "import torch\n",
    "from torchvision.datasets import CIFAR100\n",
    "\n",
    "# Load the model\n",
    "device = \"cuda\" if torch.cuda.is_available() else \"cpu\"\n",
    "model, preprocess = clip.load('ViT-L/14@336px', device, download_root='/shareddata/clip/')\n",
    "\n",
    "# Download the dataset\n",
    "cifar100 = CIFAR100(root='./data', train=False)\n",
    "\n",
    "# Prepare the inputs\n",
    "image, class_id = cifar100[500]\n",
    "image_input = preprocess(image).unsqueeze(0).to(device)\n",
    "text_inputs = torch.cat([clip.tokenize(f\"a photo of a {c}\") for c in cifar100.classes]).to(device)\n",
    "\n",
    "# Calculate features\n",
    "with torch.no_grad():\n",
    "    image_features = model.encode_image(image_input)\n",
    "    text_features = model.encode_text(text_inputs)\n",
    "\n",
    "# Pick the top 5 most similar labels for the image\n",
    "image_features /= image_features.norm(dim=-1, keepdim=True)\n",
    "text_features /= text_features.norm(dim=-1, keepdim=True)\n",
    "similarity = (100.0 * image_features @ text_features.T).softmax(dim=-1)\n",
    "values, indices = similarity[0].topk(5)\n",
    "\n",
    "# Print the result\n",
    "print(\"\\nTop predictions:\\n\")\n",
    "for value, index in zip(values, indices):\n",
    "    print(f\"{cifar100.classes[index]:>16s}: {100 * value.item():.2f}%\")"
   ]
  },
  {
   "cell_type": "code",
   "execution_count": 6,
   "id": "594c6258",
   "metadata": {},
   "outputs": [
    {
     "data": {
      "text/plain": [
       "'elephant'"
      ]
     },
     "execution_count": 6,
     "metadata": {},
     "output_type": "execute_result"
    }
   ],
   "source": [
    "cifar100.classes[class_id]"
   ]
  },
  {
   "cell_type": "code",
   "execution_count": 7,
   "id": "5617e724",
   "metadata": {},
   "outputs": [
    {
     "data": {
      "image/png": "[encoded data removed]",
      "text/plain": [
       "<PIL.Image.Image image mode=RGB size=32x32>"
      ]
     },
     "execution_count": 7,
     "metadata": {},
     "output_type": "execute_result"
    }
   ],
   "source": [
    "image"
   ]
  },
  {
   "cell_type": "code",
   "execution_count": 5,
   "id": "1974bb37",
   "metadata": {},
   "outputs": [
    {
     "name": "stderr",
     "output_type": "stream",
     "text": [
      "100%|██████████| 100/100 [00:18<00:00,  5.35it/s]\n",
      "100%|██████████| 600/600 [01:50<00:00,  5.43it/s]\n"
     ]
    },
    {
     "name": "stdout",
     "output_type": "stream",
     "text": [
      "RUNNING THE L-BFGS-B CODE\n",
      "\n",
      "           * * *\n",
      "\n",
      "Machine precision = 2.220D-16\n",
      " N =        10250     M =           10\n",
      "\n",
      "At X0         0 variables are exactly at the bounds\n",
      "\n",
      "At iterate    0    f=  2.30259D+04    |proj g|=  2.19927D+02\n"
     ]
    },
    {
     "name": "stderr",
     "output_type": "stream",
     "text": [
      " This problem is unconstrained.\n"
     ]
    },
    {
     "name": "stdout",
     "output_type": "stream",
     "text": [
      "\n",
      "At iterate   50    f=  8.81384D+03    |proj g|=  3.32679D+01\n",
      "\n",
      "At iterate  100    f=  8.78793D+03    |proj g|=  1.95125D+01\n",
      "\n",
      "At iterate  150    f=  8.78575D+03    |proj g|=  4.77433D-01\n",
      "\n",
      "           * * *\n",
      "\n",
      "Tit   = total number of iterations\n",
      "Tnf   = total number of function evaluations\n",
      "Tnint = total number of segments explored during Cauchy searches\n",
      "Skip  = number of BFGS updates skipped\n",
      "Nact  = number of active bounds at final generalized Cauchy point\n",
      "Projg = norm of the final projected gradient\n",
      "F     = final function value\n",
      "\n",
      "           * * *\n",
      "\n",
      "   N    Tit     Tnf  Tnint  Skip  Nact     Projg        F\n",
      "10250    160    170      1     0     0   8.598D-02   8.786D+03\n",
      "  F =   8785.7417279542806     \n",
      "\n",
      "CONVERGENCE: REL_REDUCTION_OF_F_<=_FACTR*EPSMCH             \n",
      "Accuracy = 91.872\n"
     ]
    }
   ],
   "source": [
    "import os\n",
    "import clip\n",
    "import torch\n",
    "\n",
    "import numpy as np\n",
    "from sklearn.linear_model import LogisticRegression\n",
    "from torch.utils.data import DataLoader\n",
    "from torchvision.datasets import CIFAR100\n",
    "from tqdm import tqdm\n",
    "\n",
    "# Load the model\n",
    "device = \"cuda\" if torch.cuda.is_available() else \"cpu\"\n",
    "model, preprocess = clip.load('RN50', device, download_root='/shareddata/clip/')\n",
    "\n",
    "# Load the dataset\n",
    "root='./data'\n",
    "# train = CIFAR100(root, download=True, train=True, transform=preprocess)\n",
    "# test = CIFAR100(root, download=True, train=False, transform=preprocess)\n",
    "train = MNIST(root=os.path.expanduser(\"~/.cache\"), train=False,transform=preprocess)\n",
    "test = MNIST(root=os.path.expanduser(\"~/.cache\"), train=True,transform=preprocess)\n",
    "\n",
    "\n",
    "def get_features(dataset):\n",
    "    all_features = []\n",
    "    all_labels = []\n",
    "    \n",
    "    with torch.no_grad():\n",
    "        for images, labels in tqdm(DataLoader(dataset, batch_size=100)):\n",
    "            features = model.encode_image(images.to(device))\n",
    "\n",
    "            all_features.append(features)\n",
    "            all_labels.append(labels)\n",
    "\n",
    "    return torch.cat(all_features).cpu().numpy(), torch.cat(all_labels).cpu().numpy()\n",
    "\n",
    "# Calculate the image features\n",
    "train_features, train_labels = get_features(train)\n",
    "test_features, test_labels = get_features(test)\n",
    "\n",
    "# Perform logistic regression\n",
    "classifier = LogisticRegression(random_state=0, C=0.316, max_iter=1000, verbose=1)\n",
    "classifier.fit(train_features, train_labels)\n",
    "\n",
    "# Evaluate using the logistic regression classifier\n",
    "predictions = classifier.predict(test_features)\n",
    "accuracy = np.mean((test_labels == predictions).astype(float)) * 100.\n",
    "print(f\"Accuracy = {accuracy:.3f}\")"
   ]
  },
  {
   "cell_type": "code",
   "execution_count": 1,
   "id": "ba47c157",
   "metadata": {},
   "outputs": [
    {
     "data": {
      "image/png": "[encoded data removed]",
      "text/plain": [
       "<Figure size 640x480 with 1 Axes>"
      ]
     },
     "metadata": {},
     "output_type": "display_data"
    }
   ],
   "source": [
    "import seaborn as sns\n",
    "import matplotlib.pyplot as plt\n",
    "\n",
    "# Sample data\n",
    "# categories = ['shrew', 'flatfish', 'rabbit', 'porcupine','mouse']\n",
    "# values = [13.50, 11.37, 3.58, 3.47,3.01]\n",
    "categories = ['kangaroo', 'elephant', 'otter', 'rabbit','girl']\n",
    "values = [79.10, 9.01, 1.36, 0.71,0.54]\n",
    "\n",
    "# Create a bar plot using Seaborn\n",
    "sns.barplot(x=categories, y=values)\n",
    "\n",
    "# Add labels and title\n",
    "plt.xlabel('Predicted label')\n",
    "plt.ylabel('probability(%)')\n",
    "plt.title('Top5 of the 500th sample')\n",
    "\n",
    "# Show the plot\n",
    "plt.show()"
   ]
  },
  {
   "cell_type": "code",
   "execution_count": null,
   "id": "bd4053c7",
   "metadata": {},
   "outputs": [],
   "source": []
  }
 ],
 "metadata": {
  "kernelspec": {
   "display_name": "Python 3 (ipykernel)",
   "language": "python",
   "name": "python3"
  },
  "language_info": {
   "codemirror_mode": {
    "name": "ipython",
    "version": 3
   },
   "file_extension": ".py",
   "mimetype": "text/x-python",
   "name": "python",
   "nbconvert_exporter": "python",
   "pygments_lexer": "ipython3",
   "version": "3.10.12"
  }
 },
 "nbformat": 4,
 "nbformat_minor": 5
}

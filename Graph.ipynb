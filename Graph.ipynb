{
 "cells": [
  {
   "cell_type": "code",
   "execution_count": 1,
   "id": "1bc2b446",
   "metadata": {},
   "outputs": [],
   "source": [
    "import matplotlib.pyplot as plt\n",
    "import seaborn as sns\n",
    "\n",
    "# 数据集和模型\n",
    "cifar10_accuracies = [75.72, 72.40, 43.37, 76.15]\n",
    "cifar100_accuracies = [40.71, 15.66, 11.63, 15.19]\n",
    "fashion_mnist_accuracies = [45.75, 48.68, 27.76, 92.15]\n",
    "yfcc100_accuracies = [76.19, 58.46, 59.80,86.70]\n",
    "models = [\"ViT-B/16\", \"ViT-B/32\", \"RN50\", \"baseline_model\"]\n",
    "\n",
    "# 设置Seaborn的颜色风格\n",
    "sns.set_theme()\n",
    "colors = sns.color_palette('pastel')[0:4]\n",
    "\n",
    "# 添加标签的函数\n",
    "def add_labels(ax, bars, data):\n",
    "    for bar in bars:\n",
    "        yval = bar.get_height()\n",
    "        xval = bar.get_x() + bar.get_width() / 2.15\n",
    "        ax.text(xval, yval, round(data[bars.index(bar)], 2), va='bottom', ha='center')  # 水平居中对齐\n",
    "\n",
    "# 绘制每个数据集的图表并保存\n",
    "datasets = {\n",
    "    'CIFAR10': cifar10_accuracies,\n",
    "    'CIFAR100': cifar100_accuracies,\n",
    "    'Fashion_MNIST': fashion_mnist_accuracies,\n",
    "    'YFCC100': yfcc100_accuracies\n",
    "}\n",
    "\n",
    "for dataset_name, accuracies in datasets.items():\n",
    "    fig, ax = plt.subplots(figsize=(6, 4))\n",
    "    bars = ax.bar(models[:len(accuracies)], accuracies, color=colors[:len(accuracies)])\n",
    "    ax.set_title(f'Accuracy on {dataset_name}')\n",
    "    ax.set_ylabel('Accuracy %')\n",
    "    add_labels(ax, bars, accuracies)\n",
    "    plt.tight_layout()\n",
    "    plt.savefig(f'/data/lab/STA303-Exercise03/my_figure_{dataset_name}.png')  # 保存图表\n",
    "    plt.close(fig)  # 关闭图表以释放资源\n"
   ]
  },
  {
   "cell_type": "code",
   "execution_count": null,
   "id": "2e2d22b0",
   "metadata": {},
   "outputs": [],
   "source": []
  },
  {
   "cell_type": "code",
   "execution_count": null,
   "id": "f318532f",
   "metadata": {},
   "outputs": [],
   "source": []
  }
 ],
 "metadata": {
  "kernelspec": {
   "display_name": "Python 3 (ipykernel)",
   "language": "python",
   "name": "python3"
  },
  "language_info": {
   "codemirror_mode": {
    "name": "ipython",
    "version": 3
   },
   "file_extension": ".py",
   "mimetype": "text/x-python",
   "name": "python",
   "nbconvert_exporter": "python",
   "pygments_lexer": "ipython3",
   "version": "3.10.12"
  }
 },
 "nbformat": 4,
 "nbformat_minor": 5
}

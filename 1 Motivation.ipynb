{
 "cells": [
  {
   "cell_type": "code",
   "execution_count": 1,
   "id": "4ad084bd",
   "metadata": {},
   "outputs": [],
   "source": [
    "import torch\n",
    "import clip\n",
    "from PIL import Image\n",
    "import requests"
   ]
  },
  {
   "cell_type": "code",
   "execution_count": 2,
   "id": "48045b9f",
   "metadata": {},
   "outputs": [],
   "source": [
    "# 加载预训练的 CLIP 模型\n",
    "device = \"cuda\" if torch.cuda.is_available() else \"cpu\"\n",
    "model, preprocess = clip.load(\"ViT-B/32\", device=device)"
   ]
  },
  {
   "cell_type": "code",
   "execution_count": 3,
   "id": "d8670423",
   "metadata": {},
   "outputs": [],
   "source": [
    "# 定义一个简单的任务：比较文本和图片\n",
    "text = clip.tokenize([\"a photo of a dog\", \"a photo of a cat\"]).to(device)\n",
    "\n",
    "# 假设我们有两张图片：一张猫的，一张狗的\n",
    "image_urls = [\n",
    "    \"https://www.alleycat.org/wp-content/uploads/2019/03/FELV-cat.jpg\",  #\n",
    "    \"https://kb.rspca.org.au/wp-content/uploads/2018/11/golder-retriever-puppy.jpeg\"   # \n",
    "]\n",
    "images = [preprocess(Image.open(requests.get(url, stream=True).raw)).unsqueeze(0).to(device) for url in image_urls]"
   ]
  },
  {
   "cell_type": "code",
   "execution_count": 4,
   "id": "eb8c0e93",
   "metadata": {},
   "outputs": [
    {
     "name": "stdout",
     "output_type": "stream",
     "text": [
      "Text to image probabilities:\n",
      "https://www.alleycat.org/wp-content/uploads/2019/03/FELV-cat.jpg: Cat: 0.0024, Dog: 0.9976\n",
      "https://kb.rspca.org.au/wp-content/uploads/2018/11/golder-retriever-puppy.jpeg: Cat: 1.0000, Dog: 0.0002\n"
     ]
    }
   ],
   "source": [
    "# 使用 CLIP 模型\n",
    "with torch.no_grad():\n",
    "    image_features = torch.cat([model.encode_image(image) for image in images])\n",
    "    text_features = model.encode_text(text)\n",
    "\n",
    "    # 计算图片和文本之间的相似度\n",
    "    logits_per_image = (image_features @ text_features.T).softmax(dim=-1)\n",
    "    probs = logits_per_image.cpu().numpy()\n",
    "\n",
    "print(\"Text to image probabilities:\")\n",
    "for i, url in enumerate(image_urls):\n",
    "    print(f\"{url}: Cat: {probs[i][0]:.4f}, Dog: {probs[i][1]:.4f}\")"
   ]
  },
  {
   "cell_type": "code",
   "execution_count": 5,
   "id": "38b8fd5a",
   "metadata": {},
   "outputs": [
    {
     "name": "stdout",
     "output_type": "stream",
     "text": [
      "Text to image probabilities:\n",
      "https://www.alleycat.org/wp-content/uploads/2019/03/FELV-cat.jpg: Cat: 0.0002, Dog: 1.0000\n",
      "https://kb.rspca.org.au/wp-content/uploads/2018/11/golder-retriever-puppy.jpeg: Cat: 0.9844, Dog: 0.0154\n"
     ]
    }
   ],
   "source": [
    "device = \"cuda\" if torch.cuda.is_available() else \"cpu\"\n",
    "model, preprocess = clip.load(\"ViT-B/32\", device=device)\n",
    "# 定义一个简单的任务：比较文本和图片\n",
    "text = clip.tokenize([\"a photo without a dog\", \"a photo of a cat\"]).to(device)\n",
    "# 假设我们有两张图片：一张猫的，一张狗的\n",
    "image_urls = [\n",
    "    \"https://www.alleycat.org/wp-content/uploads/2019/03/FELV-cat.jpg\",  #  \n",
    "    \"https://kb.rspca.org.au/wp-content/uploads/2018/11/golder-retriever-puppy.jpeg\"   #  \n",
    "]\n",
    "images = [preprocess(Image.open(requests.get(url, stream=True).raw)).unsqueeze(0).to(device) for url in image_urls]\n",
    "\n",
    "with torch.no_grad():\n",
    "    image_features = torch.cat([model.encode_image(image) for image in images])\n",
    "    text_features = model.encode_text(text)\n",
    "\n",
    "    # 计算图片和文本之间的相似度\n",
    "    logits_per_image = (image_features @ text_features.T).softmax(dim=-1)\n",
    "    probs = logits_per_image.cpu().numpy()\n",
    "\n",
    "print(\"Text to image probabilities:\")\n",
    "for i, url in enumerate(image_urls):\n",
    "    print(f\"{url}: Cat: {probs[i][0]:.4f}, Dog: {probs[i][1]:.4f}\")"
   ]
  },
  {
   "cell_type": "code",
   "execution_count": 6,
   "id": "5a7cbca6",
   "metadata": {},
   "outputs": [
    {
     "name": "stdout",
     "output_type": "stream",
     "text": [
      "Text to image probabilities:\n",
      "https://www.alleycat.org/wp-content/uploads/2019/03/FELV-cat.jpg: Cat: 0.0013, Dog: 0.9985\n",
      "https://kb.rspca.org.au/wp-content/uploads/2018/11/golder-retriever-puppy.jpeg: Cat: 0.9990, Dog: 0.0010\n"
     ]
    }
   ],
   "source": [
    "device = \"cuda\" if torch.cuda.is_available() else \"cpu\"\n",
    "model, preprocess = clip.load(\"ViT-B/32\", device=device)\n",
    "# 定义一个简单的任务：比较文本和图片\n",
    "text = clip.tokenize([\"a photo of no dog\", \"a photo of a cat\"]).to(device)\n",
    "# 假设我们有两张图片：一张猫的，一张狗的\n",
    "image_urls = [\n",
    "    \"https://www.alleycat.org/wp-content/uploads/2019/03/FELV-cat.jpg\",  #  \n",
    "    \"https://kb.rspca.org.au/wp-content/uploads/2018/11/golder-retriever-puppy.jpeg\"   #  \n",
    "]\n",
    "images = [preprocess(Image.open(requests.get(url, stream=True).raw)).unsqueeze(0).to(device) for url in image_urls]\n",
    "\n",
    "with torch.no_grad():\n",
    "    image_features = torch.cat([model.encode_image(image) for image in images])\n",
    "    text_features = model.encode_text(text)\n",
    "\n",
    "    # 计算图片和文本之间的相似度\n",
    "    logits_per_image = (image_features @ text_features.T).softmax(dim=-1)\n",
    "    probs = logits_per_image.cpu().numpy()\n",
    "\n",
    "print(\"Text to image probabilities:\")\n",
    "for i, url in enumerate(image_urls):\n",
    "    print(f\"{url}: Cat: {probs[i][0]:.4f}, Dog: {probs[i][1]:.4f}\")"
   ]
  },
  {
   "cell_type": "code",
   "execution_count": 7,
   "id": "9c43aecd",
   "metadata": {},
   "outputs": [
    {
     "name": "stdout",
     "output_type": "stream",
     "text": [
      "Text to image probabilities:\n",
      "https://www.alleycat.org/wp-content/uploads/2019/03/FELV-cat.jpg: Cat: 0.0016, Dog: 0.9985\n",
      "https://kb.rspca.org.au/wp-content/uploads/2018/11/golder-retriever-puppy.jpeg: Cat: 1.0000, Dog: 0.0001\n"
     ]
    }
   ],
   "source": [
    "device = \"cuda\" if torch.cuda.is_available() else \"cpu\"\n",
    "model, preprocess = clip.load(\"ViT-B/32\", device=device)\n",
    "# 定义一个简单的任务：比较文本和图片\n",
    "text = clip.tokenize([\"dog a of photo a\", \"a photo of a cat\"]).to(device)\n",
    "# 假设我们有两张图片：一张猫的，一张狗的\n",
    "image_urls = [\n",
    "    \"https://www.alleycat.org/wp-content/uploads/2019/03/FELV-cat.jpg\",  #  \n",
    "    \"https://kb.rspca.org.au/wp-content/uploads/2018/11/golder-retriever-puppy.jpeg\"   #  \n",
    "]\n",
    "images = [preprocess(Image.open(requests.get(url, stream=True).raw)).unsqueeze(0).to(device) for url in image_urls]\n",
    "\n",
    "with torch.no_grad():\n",
    "    image_features = torch.cat([model.encode_image(image) for image in images])\n",
    "    text_features = model.encode_text(text)\n",
    "\n",
    "    # 计算图片和文本之间的相似度\n",
    "    logits_per_image = (image_features @ text_features.T).softmax(dim=-1)\n",
    "    probs = logits_per_image.cpu().numpy()\n",
    "\n",
    "print(\"Text to image probabilities:\")\n",
    "for i, url in enumerate(image_urls):\n",
    "    print(f\"{url}: Cat: {probs[i][0]:.4f}, Dog: {probs[i][1]:.4f}\")"
   ]
  },
  {
   "cell_type": "code",
   "execution_count": 8,
   "id": "a79db091",
   "metadata": {},
   "outputs": [
    {
     "name": "stdout",
     "output_type": "stream",
     "text": [
      "Text to image probabilities:\n",
      "https://www.alleycat.org/wp-content/uploads/2019/03/FELV-cat.jpg: Cat: 0.1348, Dog: 0.8652\n",
      "https://kb.rspca.org.au/wp-content/uploads/2018/11/golder-retriever-puppy.jpeg: Cat: 0.9995, Dog: 0.0004\n"
     ]
    }
   ],
   "source": [
    "device = \"cuda\" if torch.cuda.is_available() else \"cpu\"\n",
    "model, preprocess = clip.load(\"ViT-B/32\", device=device)\n",
    "# 定义一个简单的任务：比较文本和图片\n",
    "text = clip.tokenize([\"a photo of a dog, but no cat\", \"a photo of a cat\"]).to(device)\n",
    "# 假设我们有两张图片：一张猫的，一张狗的\n",
    "image_urls = [\n",
    "    \"https://www.alleycat.org/wp-content/uploads/2019/03/FELV-cat.jpg\",  #  \n",
    "    \"https://kb.rspca.org.au/wp-content/uploads/2018/11/golder-retriever-puppy.jpeg\"   #  \n",
    "]\n",
    "images = [preprocess(Image.open(requests.get(url, stream=True).raw)).unsqueeze(0).to(device) for url in image_urls]\n",
    "\n",
    "with torch.no_grad():\n",
    "    image_features = torch.cat([model.encode_image(image) for image in images])\n",
    "    text_features = model.encode_text(text)\n",
    "\n",
    "    # 计算图片和文本之间的相似度\n",
    "    logits_per_image = (image_features @ text_features.T).softmax(dim=-1)\n",
    "    probs = logits_per_image.cpu().numpy()\n",
    "\n",
    "print(\"Text to image probabilities:\")\n",
    "for i, url in enumerate(image_urls):\n",
    "    print(f\"{url}: Cat: {probs[i][0]:.4f}, Dog: {probs[i][1]:.4f}\")"
   ]
  },
  {
   "cell_type": "code",
   "execution_count": 9,
   "id": "9560864f",
   "metadata": {},
   "outputs": [
    {
     "name": "stdout",
     "output_type": "stream",
     "text": [
      "Text to image probabilities:\n",
      "https://www.alleycat.org/wp-content/uploads/2019/03/FELV-cat.jpg: Cat: 0.0706, Dog: 0.9292\n",
      "https://kb.rspca.org.au/wp-content/uploads/2018/11/golder-retriever-puppy.jpeg: Cat: 0.9995, Dog: 0.0007\n"
     ]
    }
   ],
   "source": [
    "device = \"cuda\" if torch.cuda.is_available() else \"cpu\"\n",
    "model, preprocess = clip.load(\"ViT-B/32\", device=device)\n",
    "# 定义一个简单的任务：比较文本和图片\n",
    "text = clip.tokenize([\"a photo of a dog, but no cats\", \"a photo of a cat\"]).to(device)\n",
    "# 假设我们有两张图片：一张猫的，一张狗的\n",
    "image_urls = [\n",
    "    \"https://www.alleycat.org/wp-content/uploads/2019/03/FELV-cat.jpg\",  #  \n",
    "    \"https://kb.rspca.org.au/wp-content/uploads/2018/11/golder-retriever-puppy.jpeg\"   #  \n",
    "]\n",
    "images = [preprocess(Image.open(requests.get(url, stream=True).raw)).unsqueeze(0).to(device) for url in image_urls]\n",
    "\n",
    "with torch.no_grad():\n",
    "    image_features = torch.cat([model.encode_image(image) for image in images])\n",
    "    text_features = model.encode_text(text)\n",
    "\n",
    "    # 计算图片和文本之间的相似度\n",
    "    logits_per_image = (image_features @ text_features.T).softmax(dim=-1)\n",
    "    probs = logits_per_image.cpu().numpy()\n",
    "\n",
    "print(\"Text to image probabilities:\")\n",
    "for i, url in enumerate(image_urls):\n",
    "    print(f\"{url}: Cat: {probs[i][0]:.4f}, Dog: {probs[i][1]:.4f}\")"
   ]
  },
  {
   "cell_type": "code",
   "execution_count": 10,
   "id": "305b925e",
   "metadata": {},
   "outputs": [
    {
     "name": "stdout",
     "output_type": "stream",
     "text": [
      "Text to image probabilities:\n",
      "https://www.alleycat.org/wp-content/uploads/2019/03/FELV-cat.jpg: Cat: 0.0001, Dog: 1.0000\n",
      "https://kb.rspca.org.au/wp-content/uploads/2018/11/golder-retriever-puppy.jpeg: Cat: 0.9946, Dog: 0.0053\n"
     ]
    }
   ],
   "source": [
    "device = \"cuda\" if torch.cuda.is_available() else \"cpu\"\n",
    "model, preprocess = clip.load(\"ViT-B/32\", device=device)\n",
    "# 定义一个简单的任务：比较文本和图片\n",
    "text = clip.tokenize([\"a photo of dogs\", \"a photo of a cat\"]).to(device)\n",
    "# 假设我们有两张图片：一张猫的，一张狗的\n",
    "image_urls = [\n",
    "    \"https://www.alleycat.org/wp-content/uploads/2019/03/FELV-cat.jpg\",  #  \n",
    "    \"https://kb.rspca.org.au/wp-content/uploads/2018/11/golder-retriever-puppy.jpeg\"   #  \n",
    "]\n",
    "images = [preprocess(Image.open(requests.get(url, stream=True).raw)).unsqueeze(0).to(device) for url in image_urls]\n",
    "\n",
    "with torch.no_grad():\n",
    "    image_features = torch.cat([model.encode_image(image) for image in images])\n",
    "    text_features = model.encode_text(text)\n",
    "\n",
    "    # 计算图片和文本之间的相似度\n",
    "    logits_per_image = (image_features @ text_features.T).softmax(dim=-1)\n",
    "    probs = logits_per_image.cpu().numpy()\n",
    "\n",
    "print(\"Text to image probabilities:\")\n",
    "for i, url in enumerate(image_urls):\n",
    "    print(f\"{url}: Cat: {probs[i][0]:.4f}, Dog: {probs[i][1]:.4f}\")"
   ]
  },
  {
   "cell_type": "code",
   "execution_count": 11,
   "id": "dcea7c24",
   "metadata": {},
   "outputs": [
    {
     "name": "stdout",
     "output_type": "stream",
     "text": [
      "Text to image probabilities:\n",
      "https://www.alleycat.org/wp-content/uploads/2019/03/FELV-cat.jpg: Cat: 0.0331, Dog: 0.9668\n",
      "https://kb.rspca.org.au/wp-content/uploads/2018/11/golder-retriever-puppy.jpeg: Cat: 0.9990, Dog: 0.0011\n"
     ]
    }
   ],
   "source": [
    "device = \"cuda\" if torch.cuda.is_available() else \"cpu\"\n",
    "model, preprocess = clip.load(\"ViT-B/32\", device=device)\n",
    "# 定义一个简单的任务：比较文本和图片\n",
    "text = clip.tokenize([\"a photo of a dog, but no cats, no horses, no wolves\", \"a photo of a cat\"]).to(device)\n",
    "# 假设我们有两张图片：一张猫的，一张狗的\n",
    "image_urls = [\n",
    "    \"https://www.alleycat.org/wp-content/uploads/2019/03/FELV-cat.jpg\",  #  \n",
    "    \"https://kb.rspca.org.au/wp-content/uploads/2018/11/golder-retriever-puppy.jpeg\"   #  \n",
    "]\n",
    "images = [preprocess(Image.open(requests.get(url, stream=True).raw)).unsqueeze(0).to(device) for url in image_urls]\n",
    "\n",
    "with torch.no_grad():\n",
    "    image_features = torch.cat([model.encode_image(image) for image in images])\n",
    "    text_features = model.encode_text(text)\n",
    "\n",
    "    # 计算图片和文本之间的相似度\n",
    "    logits_per_image = (image_features @ text_features.T).softmax(dim=-1)\n",
    "    probs = logits_per_image.cpu().numpy()\n",
    "\n",
    "print(\"Text to image probabilities:\")\n",
    "for i, url in enumerate(image_urls):\n",
    "    print(f\"{url}: Cat: {probs[i][0]:.4f}, Dog: {probs[i][1]:.4f}\")"
   ]
  },
  {
   "cell_type": "code",
   "execution_count": 2,
   "id": "000ffbbd",
   "metadata": {},
   "outputs": [
    {
     "name": "stdout",
     "output_type": "stream",
     "text": [
      "Text to image probabilities:\n",
      "https://www.alleycat.org/wp-content/uploads/2019/03/FELV-cat.jpg: Cat: 0.0057, Dog: 0.9941\n",
      "https://kb.rspca.org.au/wp-content/uploads/2018/11/golder-retriever-puppy.jpeg: Cat: 0.9980, Dog: 0.0021\n"
     ]
    }
   ],
   "source": [
    "device = \"cuda\" if torch.cuda.is_available() else \"cpu\"\n",
    "model, preprocess = clip.load(\"ViT-B/32\", device=device)\n",
    "# 定义一个简单的任务：比较文本和图片\n",
    "text = clip.tokenize([\"a photo of a dog, no cat, no horses, no wolves\", \"a photo of a cat\"]).to(device)\n",
    "# 假设我们有两张图片：一张猫的，一张狗的\n",
    "image_urls = [\n",
    "    \"https://www.alleycat.org/wp-content/uploads/2019/03/FELV-cat.jpg\",  #  \n",
    "    \"https://kb.rspca.org.au/wp-content/uploads/2018/11/golder-retriever-puppy.jpeg\"   #  \n",
    "]\n",
    "images = [preprocess(Image.open(requests.get(url, stream=True).raw)).unsqueeze(0).to(device) for url in image_urls]\n",
    "\n",
    "with torch.no_grad():\n",
    "    image_features = torch.cat([model.encode_image(image) for image in images])\n",
    "    text_features = model.encode_text(text)\n",
    "\n",
    "    # 计算图片和文本之间的相似度\n",
    "    logits_per_image = (image_features @ text_features.T).softmax(dim=-1)\n",
    "    probs = logits_per_image.cpu().numpy()\n",
    "\n",
    "print(\"Text to image probabilities:\")\n",
    "for i, url in enumerate(image_urls):\n",
    "    print(f\"{url}: Cat: {probs[i][0]:.4f}, Dog: {probs[i][1]:.4f}\")"
   ]
  },
  {
   "cell_type": "code",
   "execution_count": 13,
   "id": "5d6619b8",
   "metadata": {},
   "outputs": [
    {
     "name": "stdout",
     "output_type": "stream",
     "text": [
      "Text to image probabilities:\n",
      "https://www.alleycat.org/wp-content/uploads/2019/03/FELV-cat.jpg: Cat: 0.0002, Dog: 1.0000\n",
      "https://kb.rspca.org.au/wp-content/uploads/2018/11/golder-retriever-puppy.jpeg: Cat: 0.9966, Dog: 0.0034\n"
     ]
    }
   ],
   "source": [
    "device = \"cuda\" if torch.cuda.is_available() else \"cpu\"\n",
    "model, preprocess = clip.load(\"ViT-B/32\", device=device)\n",
    "# 定义一个简单的任务：比较文本和图片\n",
    "text = clip.tokenize([\"a photo of a dog, but no taixs, no trucks, no airplanes\", \"a photo of a cat\"]).to(device)\n",
    "# 假设我们有两张图片：一张猫的，一张狗的\n",
    "image_urls = [\n",
    "    \"https://www.alleycat.org/wp-content/uploads/2019/03/FELV-cat.jpg\",  #  \n",
    "    \"https://kb.rspca.org.au/wp-content/uploads/2018/11/golder-retriever-puppy.jpeg\"   #  \n",
    "]\n",
    "images = [preprocess(Image.open(requests.get(url, stream=True).raw)).unsqueeze(0).to(device) for url in image_urls]\n",
    "\n",
    "with torch.no_grad():\n",
    "    image_features = torch.cat([model.encode_image(image) for image in images])\n",
    "    text_features = model.encode_text(text)\n",
    "\n",
    "    # 计算图片和文本之间的相似度\n",
    "    logits_per_image = (image_features @ text_features.T).softmax(dim=-1)\n",
    "    probs = logits_per_image.cpu().numpy()\n",
    "\n",
    "print(\"Text to image probabilities:\")\n",
    "for i, url in enumerate(image_urls):\n",
    "    print(f\"{url}: Cat: {probs[i][0]:.4f}, Dog: {probs[i][1]:.4f}\")"
   ]
  },
  {
   "cell_type": "code",
   "execution_count": 14,
   "id": "09f5f5ba",
   "metadata": {},
   "outputs": [
    {
     "name": "stdout",
     "output_type": "stream",
     "text": [
      "Text to image probabilities:\n",
      "https://www.alleycat.org/wp-content/uploads/2019/03/FELV-cat.jpg: Cat: 0.0000, Dog: 1.0000\n",
      "https://kb.rspca.org.au/wp-content/uploads/2018/11/golder-retriever-puppy.jpeg: Cat: 0.8599, Dog: 0.1404\n"
     ]
    }
   ],
   "source": [
    "device = \"cuda\" if torch.cuda.is_available() else \"cpu\"\n",
    "model, preprocess = clip.load(\"ViT-B/32\", device=device)\n",
    "# 定义一个简单的任务：比较文本和图片\n",
    "text = clip.tokenize([\"a photo of a dog, but no cars, no trucks, no airplanes\", \"a photo of a cat\"]).to(device)\n",
    "# 假设我们有两张图片：一张猫的，一张狗的\n",
    "image_urls = [\n",
    "    \"https://www.alleycat.org/wp-content/uploads/2019/03/FELV-cat.jpg\",  #  \n",
    "    \"https://kb.rspca.org.au/wp-content/uploads/2018/11/golder-retriever-puppy.jpeg\"   #  \n",
    "]\n",
    "images = [preprocess(Image.open(requests.get(url, stream=True).raw)).unsqueeze(0).to(device) for url in image_urls]\n",
    "\n",
    "with torch.no_grad():\n",
    "    image_features = torch.cat([model.encode_image(image) for image in images])\n",
    "    text_features = model.encode_text(text)\n",
    "\n",
    "    # 计算图片和文本之间的相似度\n",
    "    logits_per_image = (image_features @ text_features.T).softmax(dim=-1)\n",
    "    probs = logits_per_image.cpu().numpy()\n",
    "\n",
    "print(\"Text to image probabilities:\")\n",
    "for i, url in enumerate(image_urls):\n",
    "    print(f\"{url}: Cat: {probs[i][0]:.4f}, Dog: {probs[i][1]:.4f}\")"
   ]
  },
  {
   "cell_type": "code",
   "execution_count": 15,
   "id": "69a5324b",
   "metadata": {},
   "outputs": [
    {
     "name": "stdout",
     "output_type": "stream",
     "text": [
      "Text to image probabilities:\n",
      "https://www.alleycat.org/wp-content/uploads/2019/03/FELV-cat.jpg: Cat: 0.0415, Dog: 0.9585\n",
      "https://kb.rspca.org.au/wp-content/uploads/2018/11/golder-retriever-puppy.jpeg: Cat: 1.0000, Dog: 0.0001\n"
     ]
    }
   ],
   "source": [
    "device = \"cuda\" if torch.cuda.is_available() else \"cpu\"\n",
    "model, preprocess = clip.load(\"ViT-B/32\", device=device)\n",
    "# 定义一个简单的任务：比较文本和图片\n",
    "text = clip.tokenize([\"a photo of a dog, no cats, no cats, no cats, no cats\", \"a photo of a cat\"]).to(device)\n",
    "# 假设我们有两张图片：一张猫的，一张狗的\n",
    "image_urls = [\n",
    "    \"https://www.alleycat.org/wp-content/uploads/2019/03/FELV-cat.jpg\",  #  \n",
    "    \"https://kb.rspca.org.au/wp-content/uploads/2018/11/golder-retriever-puppy.jpeg\"   #  \n",
    "]\n",
    "images = [preprocess(Image.open(requests.get(url, stream=True).raw)).unsqueeze(0).to(device) for url in image_urls]\n",
    "\n",
    "with torch.no_grad():\n",
    "    image_features = torch.cat([model.encode_image(image) for image in images])\n",
    "    text_features = model.encode_text(text)\n",
    "\n",
    "    # 计算图片和文本之间的相似度\n",
    "    logits_per_image = (image_features @ text_features.T).softmax(dim=-1)\n",
    "    probs = logits_per_image.cpu().numpy()\n",
    "\n",
    "print(\"Text to image probabilities:\")\n",
    "for i, url in enumerate(image_urls):\n",
    "    print(f\"{url}: Cat: {probs[i][0]:.4f}, Dog: {probs[i][1]:.4f}\")"
   ]
  },
  {
   "cell_type": "code",
   "execution_count": 16,
   "id": "2289386f",
   "metadata": {},
   "outputs": [
    {
     "name": "stdout",
     "output_type": "stream",
     "text": [
      "Text to image probabilities:\n",
      "https://www.alleycat.org/wp-content/uploads/2019/03/FELV-cat.jpg: Cat: 0.0210, Dog: 0.9790\n",
      "https://kb.rspca.org.au/wp-content/uploads/2018/11/golder-retriever-puppy.jpeg: Cat: 1.0000, Dog: 0.0001\n"
     ]
    }
   ],
   "source": [
    "device = \"cuda\" if torch.cuda.is_available() else \"cpu\"\n",
    "model, preprocess = clip.load(\"ViT-B/32\", device=device)\n",
    "# 定义一个简单的任务：比较文本和图片\n",
    "text = clip.tokenize([\"a photo of a dog, dog! dog! dog! But no cats, no cats, no cats, no cats\", \"a photo of a cat\"]).to(device)\n",
    "# 假设我们有两张图片：一张猫的，一张狗的\n",
    "image_urls = [\n",
    "    \"https://www.alleycat.org/wp-content/uploads/2019/03/FELV-cat.jpg\",  #  \n",
    "    \"https://kb.rspca.org.au/wp-content/uploads/2018/11/golder-retriever-puppy.jpeg\"   #  \n",
    "]\n",
    "images = [preprocess(Image.open(requests.get(url, stream=True).raw)).unsqueeze(0).to(device) for url in image_urls]\n",
    "\n",
    "with torch.no_grad():\n",
    "    image_features = torch.cat([model.encode_image(image) for image in images])\n",
    "    text_features = model.encode_text(text)\n",
    "\n",
    "    # 计算图片和文本之间的相似度\n",
    "    logits_per_image = (image_features @ text_features.T).softmax(dim=-1)\n",
    "    probs = logits_per_image.cpu().numpy()\n",
    "\n",
    "print(\"Text to image probabilities:\")\n",
    "for i, url in enumerate(image_urls):\n",
    "    print(f\"{url}: Cat: {probs[i][0]:.4f}, Dog: {probs[i][1]:.4f}\")"
   ]
  },
  {
   "cell_type": "code",
   "execution_count": null,
   "id": "60b16593",
   "metadata": {},
   "outputs": [],
   "source": []
  }
 ],
 "metadata": {
  "kernelspec": {
   "display_name": "Python 3 (ipykernel)",
   "language": "python",
   "name": "python3"
  },
  "language_info": {
   "codemirror_mode": {
    "name": "ipython",
    "version": 3
   },
   "file_extension": ".py",
   "mimetype": "text/x-python",
   "name": "python",
   "nbconvert_exporter": "python",
   "pygments_lexer": "ipython3",
   "version": "3.10.12"
  }
 },
 "nbformat": 4,
 "nbformat_minor": 5
}

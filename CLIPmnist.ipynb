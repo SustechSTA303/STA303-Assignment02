{
 "cells": [
  {
   "cell_type": "code",
   "execution_count": 2,
   "metadata": {},
   "outputs": [
    {
     "name": "stderr",
     "output_type": "stream",
     "text": [
      "/usr/local/lib/python3.10/dist-packages/tqdm/auto.py:21: TqdmWarning: IProgress not found. Please update jupyter and ipywidgets. See https://ipywidgets.readthedocs.io/en/stable/user_install.html\n",
      "  from .autonotebook import tqdm as notebook_tqdm\n"
     ]
    }
   ],
   "source": [
    "from PIL import Image\n",
    "import torch\n",
    "import clip   # pip install openai-clip\n",
    "import struct\n",
    "import os\n",
    "import matplotlib.pyplot as plt\n",
    "import gzip\n",
    "import numpy as np"
   ]
  },
  {
   "cell_type": "code",
   "execution_count": 3,
   "metadata": {},
   "outputs": [],
   "source": [
    "# 下载模型\n",
    "# https://openaipublic.azureedge.net/clip/models/40d365715913c9da98579312b702a82c18be219cc2a73407c4526f58eba950af/ViT-B-32.pt\n",
    "# 下载数据\n",
    "# http://fashion-mnist.s3-website.eu-central-1.amazonaws.com/t10k-images-idx3-ubyte.gz\n",
    "# http://fashion-mnist.s3-website.eu-central-1.amazonaws.com/t10k-labels-idx1-ubyte.gz"
   ]
  },
  {
   "cell_type": "code",
   "execution_count": 4,
   "metadata": {},
   "outputs": [],
   "source": [
    "# 加载模型\n",
    "def load_model(model_path, text_label):\n",
    "    model, process = clip.load(model_path, device=device)\n",
    "    text = clip.tokenize(text_label).to(device)\n",
    "    return model, process, text\n",
    "\n",
    "\n",
    "# 预测\n",
    "def predict(model, process, image, text):\n",
    "    with torch.no_grad():\n",
    "        image = process(image).unsqueeze(0).to(device)\n",
    "        logits_per_image, logits_per_text = model(image, text)\n",
    "        probs = logits_per_image.softmax(dim=1).cpu().numpy()\n",
    "    label = \"\"\n",
    "    prob = 0.0\n",
    "    for i in range(len(text_label)):\n",
    "        # print(f\"Label='{text_label[i]}', prob={probs[0][i]}\")\n",
    "        if probs[0][i] > prob:\n",
    "            prob = probs[0][i]\n",
    "            label = text_label[i]\n",
    "    return label\n",
    "\n",
    "def un_gz(file_name):\n",
    "    \"\"\"ungz zip file\"\"\"\n",
    "    f_name = file_name.replace(\".gz\", \"\")\n",
    "    #获取文件的名称，去掉\n",
    "    g_file = gzip.GzipFile(file_name)\n",
    "    #创建gzip对象\n",
    "    open(f_name, \"wb+\").write(g_file.read())\n",
    "    #gzip对象用read()打开后，写入open()建立的文件里。\n",
    "    g_file.close() #关闭gzip对象\n",
    "    \n",
    "\n",
    "def load_data(data_path):\n",
    "    \"\"\"\n",
    "    http://fashion-mnist.s3-website.eu-central-1.amazonaws.com/t10k-images-idx3-ubyte.gz\n",
    "    http://fashion-mnist.s3-website.eu-central-1.amazonaws.com/t10k-labels-idx1-ubyte.gz\n",
    "    :param data_path:\n",
    "    :return:\n",
    "    \"\"\"\n",
    "    un_gz(data_path)\n",
    "    data_path = data_path.replace(\".gz\", \"\")\n",
    "    # 读取二进制数据\n",
    "    bin_data = open(data_path, 'rb').read()\n",
    "\n",
    "    # 解析文件头信息，依次为魔数、图片数量、每张图片高、每张图片宽\n",
    "    offset = 0\n",
    "    fmt_header = '>iiii'  # 因为数据结构中前4行的数据类型都是32位整型，所以采用i格式，但我们需要读取前4行数据，所以需要4个i。我们后面会看到标签集中，只使用2个ii。\n",
    "    magic_number, num_images, num_rows, num_cols = struct.unpack_from(fmt_header, bin_data, offset)\n",
    "\n",
    "    # 解析数据集\n",
    "    image_size = num_rows * num_cols\n",
    "    offset += struct.calcsize(fmt_header)  # 获得数据在缓存中的指针位置，从前面介绍的数据结构可以看出，读取了前4行之后，指针位置（即偏移位置offset）指向0016。\n",
    "    fmt_image = '>' + str(\n",
    "        image_size) + 'B'  # 图像数据像素值的类型为unsigned char型，对应的format格式为B。这里还有加上图像大小784，是为了读取784个B格式数据，如果没有则只会读取一个值（即一副图像中的一个像素值）\n",
    "    images = np.empty((num_images, num_rows, num_cols))\n",
    "    for i in range(num_images):\n",
    "        images[i] = np.array(struct.unpack_from(fmt_image, bin_data, offset)).reshape((num_rows, num_cols))\n",
    "        offset += struct.calcsize(fmt_image)\n",
    "    return images\n",
    "\n",
    "\n",
    "def load_label(data_path):\n",
    "    un_gz(data_path)\n",
    "    data_path = data_path.replace(\".gz\", \"\")\n",
    "    with open(data_path, 'rb') as lbpath:\n",
    "        magic, n = struct.unpack('>II', lbpath.read(8))\n",
    "        labels = np.fromfile(lbpath, dtype=np.uint8)\n",
    "    return labels\n",
    "\n",
    "\n",
    "def score(y, pre):\n",
    "    # 计算整体准确率\n",
    "    n = len(y)\n",
    "    if n == 0:\n",
    "        return 0\n",
    "    cnt = 0\n",
    "    for i in range(n):\n",
    "        if y[i] == pre[i]:\n",
    "            cnt += 1\n",
    "        else:\n",
    "            pass\n",
    "    return cnt/n\n",
    "\n",
    "\n",
    "def score_by_cls(y, pre):\n",
    "    # 分别计算每个类别的准确率\n",
    "    dic = dict()\n",
    "    n = len(y)\n",
    "    if n == 0:\n",
    "        return None\n",
    "\n",
    "    for i in range(n):\n",
    "        label = y[i]\n",
    "        pre_label = pre[i]\n",
    "        if label not in dic:\n",
    "            dic[label] = (0, 0)\n",
    "        if label == pre_label:\n",
    "            dic[label] = (dic[label][0] + 1, dic[label][1] + 1)\n",
    "        else:\n",
    "            dic[label] = (dic[label][0] + 1, dic[label][1])\n",
    "\n",
    "    for key in dic:\n",
    "        dic[key] = dic[key][1]/dic[key][0]\n",
    "\n",
    "    return dic"
   ]
  },
  {
   "cell_type": "code",
   "execution_count": 8,
   "metadata": {
    "scrolled": true
   },
   "outputs": [
    {
     "name": "stdout",
     "output_type": "stream",
     "text": [
      "accuracy: 0.6459\n",
      "accuracy by classes: {'an image of a ankle boot': 0.719, 'an image of a pullover': 0.912, 'an image of a trouser': 0.893, 'an image of a shirt': 0.04, 'an image of a coat': 0.193, 'an image of a sandal': 0.444, 'an image of a sneaker': 0.962, 'an image of a dress': 0.736, 'an image of a bag': 0.92, 'an image of a t-shirt': 0.64}\n"
     ]
    },
    {
     "data": {
      "image/png": "[encoded data removed]",
      "text/plain": [
       "<Figure size 1000x500 with 1 Axes>"
      ]
     },
     "metadata": {},
     "output_type": "display_data"
    }
   ],
   "source": [
    "if __name__ == '__main__':\n",
    "   \n",
    "    # https://openaipublic.azureedge.net/clip/models/40d365715913c9da98579312b702a82c18be219cc2a73407c4526f58eba950af/ViT-B-32.pt\n",
    "    model_path = \"/data/lab/ass2/ViT-B-32.pt\"\n",
    "    data_path = \"/data/lab/ass2/cifar-10-python.tar.gz\"\n",
    "    MAX_IMAGES = 10000 # 调整该参数可设定要测试多少张图片\n",
    "    mnist_classes = [\"t-shirt\", \"trouser\", \"pullover\", \"dress\", \"coat\", \"sandal\", \"shirt\", \"sneaker\", \"bag\", \"ankle boot\"]\n",
    "    # text_label = [\"a image of the handwritten digit: '%s'\"%item for item in mnist_classes]\n",
    "    text_label = [\"an image of a %s\" % item for item in mnist_classes]\n",
    "    device = \"cuda\" if torch.cuda.is_available() else \"cpu\"\n",
    "    model, process, text = load_model(model_path, text_label)\n",
    "    imgs = load_data(\"/data/lab/ass2/t10k-images-idx3-ubyte.gz\")\n",
    "    labels = load_label(\"/data/lab/ass2/t10k-labels-idx1-ubyte.gz\")\n",
    "    imgs = imgs.reshape(len(imgs), 28, 28)\n",
    "    imgs = np.array(imgs, dtype=np.uint8)\n",
    "    true_label_lst = []\n",
    "    predict_label_lst = []\n",
    "    \n",
    "    for i in range(len(imgs)):\n",
    "        img = imgs[i]\n",
    "        img = Image.fromarray(img)\n",
    "        label = text_label[labels[i]]\n",
    "        pre_label = predict(model, process, img, text)\n",
    "        true_label_lst.append(label)\n",
    "        predict_label_lst.append(pre_label)\n",
    "        #print(f\"{label}, {pre_label}\")\n",
    "        if i > 10000:\n",
    "            break\n",
    "    s = score(true_label_lst, predict_label_lst)\n",
    "    s_cls = score_by_cls(true_label_lst, predict_label_lst)\n",
    "    print(f\"accuracy: {s}\")\n",
    "    print(f\"accuracy by classes: {s_cls}\")\n",
    "    plt.figure(figsize=(10, 5))\n",
    "    plt.bar([item.split(\" \")[-1] for item in s_cls.keys()], s_cls.values())\n",
    "    plt.title(\"Accuracy by Classes\")\n",
    "    plt.xlabel(\"Class\")\n",
    "    plt.ylabel(\"Accuracy\")\n",
    "    plt.show()"
   ]
  },
  {
   "cell_type": "code",
   "execution_count": null,
   "metadata": {},
   "outputs": [],
   "source": []
  }
 ],
 "metadata": {
  "kernelspec": {
   "display_name": "Python 3 (ipykernel)",
   "language": "python",
   "name": "python3"
  },
  "language_info": {
   "codemirror_mode": {
    "name": "ipython",
    "version": 3
   },
   "file_extension": ".py",
   "mimetype": "text/x-python",
   "name": "python",
   "nbconvert_exporter": "python",
   "pygments_lexer": "ipython3",
   "version": "3.10.12"
  }
 },
 "nbformat": 4,
 "nbformat_minor": 4
}

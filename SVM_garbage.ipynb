{
 "cells": [
  {
   "cell_type": "code",
   "execution_count": 1,
   "id": "611ab1a8",
   "metadata": {},
   "outputs": [],
   "source": [
    "import torchvision.transforms as transforms\n",
    "from torchvision.datasets import ImageFolder\n",
    "from torch.utils.data import DataLoader\n",
    "\n",
    "import numpy as np\n",
    "\n",
    "from sklearn.svm import SVC\n",
    "from sklearn.model_selection import train_test_split\n",
    "\n",
    "from sklearn.metrics import accuracy_score\n",
    "\n",
    "import time\n",
    "import matplotlib.pyplot as plt"
   ]
  },
  {
   "cell_type": "code",
   "execution_count": 2,
   "id": "98378996",
   "metadata": {},
   "outputs": [],
   "source": [
    "# 图像预处理\n",
    "transform = transforms.Compose([\n",
    "    transforms.Resize((64, 64)),  # 调整图像大小\n",
    "    transforms.ToTensor(),        # 转换为Tensor\n",
    "])\n",
    "\n",
    "# 加载数据集\n",
    "dataset = ImageFolder(root='mydata', transform=transform)\n",
    "\n",
    "# 如果需要分割数据集，可以在这里执行\n",
    "# train_dataset, test_dataset = torch.utils.data.random_split(dataset, [train_size, test_size])\n",
    "\n",
    "# 创建DataLoader\n",
    "dataloader = DataLoader(dataset, batch_size=32, shuffle=True)\n"
   ]
  },
  {
   "cell_type": "code",
   "execution_count": 3,
   "id": "fff8cdae",
   "metadata": {},
   "outputs": [],
   "source": [
    "features = []\n",
    "labels = []\n",
    "\n",
    "for imgs, lbls in dataloader:\n",
    "    # 展平图像 Tensor\n",
    "    imgs = imgs.view(imgs.size(0), -1)\n",
    "    features.append(imgs)\n",
    "    labels.append(lbls)\n",
    "\n",
    "# 将特征和标签转换为 NumPy 数组\n",
    "\n",
    "features = np.concatenate([f.numpy() for f in features], axis=0)\n",
    "labels = np.concatenate([l.numpy() for l in labels], axis=0)\n"
   ]
  },
  {
   "cell_type": "code",
   "execution_count": 4,
   "id": "295c179b",
   "metadata": {},
   "outputs": [],
   "source": [
    "# 分割训练和测试数据\n",
    "X_train, X_test, y_train, y_test = train_test_split(features, labels, test_size=0.2, random_state=42)\n",
    "\n",
    "# 创建 SVM 分类器\n",
    "clf = SVC(kernel='rbf')  # 可以尝试不同的核函数"
   ]
  },
  {
   "cell_type": "code",
   "execution_count": null,
   "id": "ab596bb3",
   "metadata": {},
   "outputs": [],
   "source": [
    "start_time = time.time()\n",
    "clf.fit(X_train, y_train)\n",
    "y_pred = clf.predict(X_test)\n",
    "end_time = time.time()\n",
    "consume = end_time - start_time\n",
    "print(f'time:{consume:.4f}')\n",
    "\n",
    "\n",
    "accuracy = accuracy_score(y_test, y_pred)\n",
    "print(f\"Accuracy: {accuracy:.4f}\")"
   ]
  },
  {
   "cell_type": "code",
   "execution_count": null,
   "id": "91b82e5b",
   "metadata": {},
   "outputs": [],
   "source": [
    "names = ['clip','SVM','CNN']\n",
    "time = [ 20.1679,24.4664,109.5470]\n",
    "plt.bar(names, time)\n",
    "\n",
    "# 添加标题和标签\n",
    "plt.title('Time consume of different models')\n",
    "plt.xlabel('Categories')\n",
    "plt.ylabel('Time')\n",
    "\n",
    "# 显示图表\n",
    "plt.show()"
   ]
  },
  {
   "cell_type": "code",
   "execution_count": null,
   "id": "06f9cfc5",
   "metadata": {},
   "outputs": [],
   "source": [
    "acc = [77.85,59.70,41.14]\n",
    "plt.bar(names, acc)\n",
    "\n",
    "# 添加标题和标签\n",
    "plt.title('Accuracy of different models')\n",
    "plt.xlabel('Categories')\n",
    "plt.ylabel('Accuracy')\n",
    "\n",
    "# 显示图表\n",
    "plt.show()"
   ]
  },
  {
   "cell_type": "code",
   "execution_count": null,
   "id": "2e2b252d",
   "metadata": {},
   "outputs": [],
   "source": []
  }
 ],
 "metadata": {
  "kernelspec": {
   "display_name": "Python 3 (ipykernel)",
   "language": "python",
   "name": "python3"
  },
  "language_info": {
   "codemirror_mode": {
    "name": "ipython",
    "version": 3
   },
   "file_extension": ".py",
   "mimetype": "text/x-python",
   "name": "python",
   "nbconvert_exporter": "python",
   "pygments_lexer": "ipython3",
   "version": "3.10.12"
  }
 },
 "nbformat": 4,
 "nbformat_minor": 5
}

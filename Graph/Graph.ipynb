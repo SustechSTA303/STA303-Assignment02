{
 "cells": [
  {
   "cell_type": "code",
   "execution_count": 3,
   "id": "6083f454",
   "metadata": {},
   "outputs": [],
   "source": [
    "import matplotlib.pyplot as plt\n",
    "import seaborn as sns\n",
    "\n",
    "# 数据集和模型\n",
    "cifar10_accuracies = [82.21, 82.00, 55.21, 76.15]\n",
    "cifar100_accuracies = [57.12, 51.14, 22.88, 15.19]\n",
    "fashion_mnist_accuracies = [59.16, 65.69, 38.96, 92.15]\n",
    "\n",
    "yfcc100_accuracies = [87.90, 83.96, 67.69,86.70]\n",
    "\n",
    "models = [\"ViT-B/16\", \"ViT-B/32\", \"RN50\", \"baseline_model\"]\n",
    "# 设置Seaborn的颜色风格\n",
    "sns.set_theme()\n",
    "colors = sns.color_palette('pastel')[0:4]\n",
    "\n",
    "# 添加标签的函数\n",
    "def add_labels(ax, bars, data):\n",
    "    for bar in bars:\n",
    "        yval = bar.get_height()\n",
    "        xval = bar.get_x() + bar.get_width() / 2.15\n",
    "        ax.text(xval, yval, round(data[bars.index(bar)], 2), va='bottom', ha='center')  # 水平居中对齐\n",
    "\n",
    "# 绘制每个数据集的图表并保存\n",
    "datasets = {\n",
    "    'CIFAR10': cifar10_accuracies,\n",
    "    'CIFAR100': cifar100_accuracies,\n",
    "    'Fashion_MNIST': fashion_mnist_accuracies,\n",
    "    'YFCC100': yfcc100_accuracies\n",
    "}\n",
    "\n",
    "for dataset_name, accuracies in datasets.items():\n",
    "    fig, ax = plt.subplots(figsize=(6, 4))\n",
    "    bars = ax.bar(models[:len(accuracies)], accuracies, color=colors[:len(accuracies)])\n",
    "    ax.set_title(f'Accuracy on {dataset_name}')\n",
    "    ax.set_ylabel('Accuracy %')\n",
    "    add_labels(ax, bars, accuracies)\n",
    "    plt.tight_layout()\n",
    "    plt.savefig(f'/data/lab/STA303-Assignment02/my_figure_{dataset_name}_after_normalization.png')  # 保存图表\n",
    "    #plt.show()\n",
    "    \n",
    "    plt.close(fig)  # 关闭图表以释放资源\n"
   ]
  },
  {
   "cell_type": "code",
   "execution_count": null,
   "id": "cd59272b",
   "metadata": {},
   "outputs": [],
   "source": []
  },
  {
   "cell_type": "code",
   "execution_count": null,
   "id": "4dace3b0",
   "metadata": {},
   "outputs": [],
   "source": []
  }
 ],
 "metadata": {
  "kernelspec": {
   "display_name": "Python 3 (ipykernel)",
   "language": "python",
   "name": "python3"
  },
  "language_info": {
   "codemirror_mode": {
    "name": "ipython",
    "version": 3
   },
   "file_extension": ".py",
   "mimetype": "text/x-python",
   "name": "python",
   "nbconvert_exporter": "python",
   "pygments_lexer": "ipython3",
   "version": "3.10.12"
  }
 },
 "nbformat": 4,
 "nbformat_minor": 5
}

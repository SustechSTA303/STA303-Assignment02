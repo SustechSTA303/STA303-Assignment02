{
 "cells": [
  {
   "cell_type": "markdown",
   "id": "1d881d6c",
   "metadata": {},
   "source": [
    "# Assignment 02: Applications of CLIP model  \n",
    "📐 Assignmet description\n",
    "Design experiments to validate the test performance of CLIP model in a new dataset, which is selected by students. This task is to explore the potential applications of CLIP in the real world, so students are encouraged to apply CLIP to some new scenarios (new datasets/settings/tasks/…).\n",
    "\n",
    "📗 Recommended steps\n",
    "⏳ Scenario ➟ Results ➟ Discussion ➟ Conclusion ✔️\n",
    "\n",
    "- Select a dataset based on specific criteria, considering its size, diversity, and relevance to desired scenarios, to evaluate CLIP's performance.\n",
    "\n",
    "- Performance Evaluation: Quantitative and qualitative results will be presented, comparing CLIP's performance to baseline models, supported by visualizations and examples.\n",
    "\n",
    "- Discussion and Analysis: Results will be analyzed, identifying strengths, weaknesses, and potential real-world applications of CLIP in the chosen scenarios.\n",
    "\n",
    "- Conclusion: The experiment's findings will be summarized, emphasizing the importance of validating CLIP's performance on the new dataset and providing recommendations for further investigations."
   ]
  },
  {
   "cell_type": "markdown",
   "id": "bd588cf9",
   "metadata": {},
   "source": [
    "### Basic Imports"
   ]
  },
  {
   "cell_type": "code",
   "execution_count": 1,
   "id": "5fe9a588",
   "metadata": {},
   "outputs": [],
   "source": [
    "import os\n",
    "import time\n",
    "import os.path as osp\n",
    "\n",
    "import numpy as np\n",
    "import pandas as pd\n",
    "\n",
    "import torch\n",
    "import torch.nn as nn\n",
    "import torch.nn.functional as F\n",
    "import torch.optim as optim\n",
    "import torchvision.models as models\n",
    "from torch.utils.data import DataLoader\n",
    "\n",
    "from torchvision.datasets import CIFAR10\n",
    "from torchvision import datasets\n",
    "from torchvision import transforms\n",
    "import torchvision\n",
    "\n",
    "from PIL import Image, ImageFilter\n",
    "import matplotlib.pyplot as plt\n",
    "from PIL import Image\n",
    "from clip import clip\n",
    "from torch.optim import lr_scheduler\n",
    "\n",
    "import seaborn as sns\n",
    "import pandas as pd\n",
    "import matplotlib.pyplot as plt"
   ]
  },
  {
   "cell_type": "markdown",
   "id": "f0d54361",
   "metadata": {},
   "source": [
    "### Hypermeters"
   ]
  },
  {
   "cell_type": "code",
   "execution_count": 2,
   "id": "27896f1b",
   "metadata": {},
   "outputs": [],
   "source": [
    "# # random seed\n",
    "# SEED = 1 \n",
    "# NUM_CLASS = 10\n",
    "\n",
    "# Training\n",
    "BATCH_SIZE = 128\n",
    "NUM_EPOCHS = 1\n",
    "# EVAL_INTERVAL=1\n",
    "# SAVE_DIR = './log'\n",
    "\n",
    "# # Optimizer\n",
    "# LEARNING_RATE = 1e-1\n",
    "# MOMENTUM = 0.9\n",
    "# STEP=5\n",
    "# GAMMA=0.5\n",
    "\n",
    "# CLIP\n",
    "VISUAL_BACKBONEs = ['RN50', 'ViT-B/32', 'ViT-B/16']"
   ]
  },
  {
   "cell_type": "markdown",
   "id": "bc0788ca",
   "metadata": {},
   "source": [
    "### Device"
   ]
  },
  {
   "cell_type": "code",
   "execution_count": 3,
   "id": "4f345c36",
   "metadata": {},
   "outputs": [],
   "source": [
    "device = torch.device(\"cuda:0\" if torch.cuda.is_available() else \"cpu\")"
   ]
  },
  {
   "cell_type": "markdown",
   "id": "8566eb36",
   "metadata": {},
   "source": [
    "### Dataset: FashionMNIST"
   ]
  },
  {
   "cell_type": "code",
   "execution_count": 4,
   "id": "69bed47d",
   "metadata": {},
   "outputs": [],
   "source": [
    "transform_fmnist_train = transforms.Compose([\n",
    "    transforms.Resize(size=224),\n",
    "    transforms.Grayscale(num_output_channels=3),\n",
    "    transforms.ToTensor(),\n",
    "    transforms.Normalize((0.2860,), (0.3530,)),\n",
    "])\n",
    "\n",
    "transform_fmnist_test = transforms.Compose([\n",
    "    transforms.Resize(size=224),\n",
    "    transforms.Grayscale(num_output_channels=3),\n",
    "    transforms.ToTensor(),\n",
    "    transforms.Normalize((0.2868,), (0.3524,)),\n",
    "])\n",
    "\n",
    "train_set = torchvision.datasets.FashionMNIST(root='/shareddata', train=True,\n",
    "                                       download=True, transform=transform_fmnist_train)\n",
    "train_dataloader = torch.utils.data.DataLoader(train_set, batch_size=BATCH_SIZE, shuffle=True, num_workers=2)\n",
    "\n",
    "test_set = torchvision.datasets.FashionMNIST(root='/shareddata', train=False,\n",
    "                                       download=True, transform=transform_fmnist_test)\n",
    "test_dataloader = torch.utils.data.DataLoader(test_set, batch_size=BATCH_SIZE, shuffle=False, num_workers=2)\n",
    "\n",
    "class_names = ['T-shirt/top', 'Trouser', 'Pullover', 'Dress', 'Coat', 'Sandal', 'Shirt', 'Sneaker', 'Bag', 'Ankle boot']\n",
    "dataset_name = 'FashionMNIST'"
   ]
  },
  {
   "cell_type": "markdown",
   "id": "ecb3da96",
   "metadata": {},
   "source": [
    "### Evaluation Metric"
   ]
  },
  {
   "cell_type": "code",
   "execution_count": 5,
   "id": "3aeca702",
   "metadata": {},
   "outputs": [],
   "source": [
    "model_list = ['CLIP','ResNet-101 with Zero-shot','ResNet-101 with Fine-tuning','ViT-B/32 with Zero-shot','ViT-B/32 with Fine-tuning','MLP with Simple Structure']\n",
    "acc = []\n",
    "top3_acc = []"
   ]
  },
  {
   "cell_type": "markdown",
   "id": "d3c79d6e",
   "metadata": {},
   "source": [
    "## CLIP\n",
    "---"
   ]
  },
  {
   "cell_type": "markdown",
   "id": "c7276fbe",
   "metadata": {},
   "source": [
    "- **Prompt Generation**"
   ]
  },
  {
   "cell_type": "code",
   "execution_count": 10,
   "id": "2d75ed37",
   "metadata": {},
   "outputs": [],
   "source": [
    "prompts = ['This is a photo of a', 'a photo of a']\n",
    "\n",
    "def prompt_encode(prompt):\n",
    "   \n",
    "    text_inputs = torch.cat([clip.tokenize(f\"{prompt} {c}\") for c in class_names]).to(device)\n",
    "    \n",
    "    return text_inputs"
   ]
  },
  {
   "cell_type": "markdown",
   "id": "4fae9cf7",
   "metadata": {},
   "source": [
    "- **Zero-shot Inference**"
   ]
  },
  {
   "cell_type": "code",
   "execution_count": 11,
   "id": "ff9a1020",
   "metadata": {},
   "outputs": [],
   "source": [
    "def model_inference(model, image, text_inputs):\n",
    "\n",
    "    with torch.no_grad():\n",
    "        image_features = model.encode_image(image)\n",
    "        text_features = model.encode_text(text_inputs)\n",
    "        \n",
    "        logits,_ = model(image,text_inputs)\n",
    "\n",
    "    return logits"
   ]
  },
  {
   "cell_type": "markdown",
   "id": "c45c06a5",
   "metadata": {},
   "source": [
    "- **Zero-shot Accuracy Calculation**"
   ]
  },
  {
   "cell_type": "code",
   "execution_count": 18,
   "id": "a0b21804",
   "metadata": {},
   "outputs": [],
   "source": [
    "def clip_test(model, VISUAL_BACKBONE, prompt):\n",
    "    with torch.no_grad():\n",
    "        model.eval()\n",
    "\n",
    "    ##################### Write your answer here ##################\n",
    "    val_corrects = 0\n",
    "    top3_corrects = 0  \n",
    "    text_inputs = prompt_encode(prompt)\n",
    "    \n",
    "    for (image, target) in (test_dataloader):\n",
    "\n",
    "        image = image.to(device)\n",
    "        target = target.to(device)\n",
    "\n",
    "        # test model\n",
    "\n",
    "        logits = model_inference(model, image, text_inputs)\n",
    "        _, preds = torch.topk(logits, 3, dim=1)  # 取前三个最高概率的类别\n",
    "        \n",
    "        val_corrects += torch.sum(preds[:, 0] == target.data) \n",
    "        top3_corrects += torch.sum(preds == target.view(-1, 1).expand_as(preds))  \n",
    "\n",
    "    val_acc = val_corrects.double() / len(test_set)\n",
    "    top3_acc = top3_corrects.double() / len(test_set)\n",
    "     ###############################################################\n",
    "\n",
    "    print(f\"the zero-shot performance on {dataset_name} is {val_acc*100:.4f}%, visual encoder is {VISUAL_BACKBONE}, prompt is {prompt}\")\n",
    "    print(f\"Top-3 Accuracy: {top3_acc*100:.4f}%\")\n",
    "    \n",
    "    return val_acc, top3_acc"
   ]
  },
  {
   "cell_type": "markdown",
   "id": "9ba398d1",
   "metadata": {},
   "source": [
    "- **Model traning with different VISUAL_BACKBONEs and Prompts**  "
   ]
  },
  {
   "cell_type": "code",
   "execution_count": 19,
   "id": "569ce1c0",
   "metadata": {},
   "outputs": [
    {
     "name": "stdout",
     "output_type": "stream",
     "text": [
      "the zero-shot performance on FashionMNIST is 54.0600%, visual encoder is RN50, prompt is This is a photo of a\n",
      "Top-3 Accuracy: 78.1000%\n",
      "the zero-shot performance on FashionMNIST is 52.4500%, visual encoder is RN50, prompt is a photo of a\n",
      "Top-3 Accuracy: 74.9800%\n",
      "the zero-shot performance on FashionMNIST is 65.8500%, visual encoder is ViT-B/32, prompt is This is a photo of a\n",
      "Top-3 Accuracy: 88.4300%\n",
      "the zero-shot performance on FashionMNIST is 63.2700%, visual encoder is ViT-B/32, prompt is a photo of a\n",
      "Top-3 Accuracy: 88.0200%\n",
      "the zero-shot performance on FashionMNIST is 64.7700%, visual encoder is ViT-B/16, prompt is This is a photo of a\n",
      "Top-3 Accuracy: 89.3300%\n",
      "the zero-shot performance on FashionMNIST is 64.8400%, visual encoder is ViT-B/16, prompt is a photo of a\n",
      "Top-3 Accuracy: 89.9800%\n"
     ]
    }
   ],
   "source": [
    "for VISUAL_BACKBONE in VISUAL_BACKBONEs:\n",
    "    for prompt in prompts:\n",
    "        model, preprocess = clip.load(name=VISUAL_BACKBONE, device=device, download_root='/shareddata/clip/')\n",
    "        model.to(device)\n",
    "        clip_test(model, VISUAL_BACKBONE, prompt)"
   ]
  },
  {
   "cell_type": "markdown",
   "id": "dd7330ab",
   "metadata": {},
   "source": [
    "## Baseline Model\n",
    "---"
   ]
  },
  {
   "cell_type": "markdown",
   "id": "678c5e5d",
   "metadata": {},
   "source": [
    "### ResNet-101 with Zero-shot"
   ]
  },
  {
   "cell_type": "markdown",
   "id": "308c9fd7",
   "metadata": {},
   "source": [
    "- **Model**"
   ]
  },
  {
   "cell_type": "code",
   "execution_count": 18,
   "id": "0a8dd79d",
   "metadata": {},
   "outputs": [],
   "source": [
    "resnet50 = models.resnet50(pretrained=True)\n",
    "\n",
    "resnet50.fc = nn.Linear(resnet50.fc.in_features, 10)\n",
    "\n",
    "resnet50 = resnet50.to(device)"
   ]
  },
  {
   "cell_type": "code",
   "execution_count": 10,
   "id": "ac112eba",
   "metadata": {},
   "outputs": [
    {
     "name": "stdout",
     "output_type": "stream",
     "text": [
      "Accuracy on FashionMNIST: 9.5600%\n",
      "Top-3 Accuracy on FashionMNIST: 29.7600%\n"
     ]
    }
   ],
   "source": [
    "resnet50.eval()\n",
    "corrects = 0\n",
    "top3_corrects = 0\n",
    "total = 0\n",
    "\n",
    "with torch.no_grad():\n",
    "    for images, labels in test_dataloader:\n",
    "        images, labels = images.to(device), labels.to(device)\n",
    "        outputs = resnet50(images)\n",
    "        _, predicted = torch.max(outputs.data, 1)\n",
    "        _, top3_preds = torch.topk(outputs, 3, dim=1)\n",
    "        \n",
    "\n",
    "        total += labels.size(0)\n",
    "        corrects += (predicted == labels).sum().item()\n",
    "        top3_corrects += (labels.view(-1, 1) == top3_preds).any(dim=1).sum().item()\n",
    "\n",
    "acc =corrects / total\n",
    "print(f\"Accuracy on FashionMNIST: {acc * 100:.4f}%\")\n",
    "\n",
    "top3_acc = top3_corrects / total\n",
    "print(f\"Top-3 Accuracy on FashionMNIST: {top3_acc * 100:.4f}%\")"
   ]
  },
  {
   "cell_type": "markdown",
   "id": "b3c0038d",
   "metadata": {},
   "source": [
    "### ResNet-101 with Fine-tuning"
   ]
  },
  {
   "cell_type": "markdown",
   "id": "f874e0a2",
   "metadata": {},
   "source": [
    "- **Model**"
   ]
  },
  {
   "cell_type": "code",
   "execution_count": 19,
   "id": "417ad8c7",
   "metadata": {},
   "outputs": [],
   "source": [
    "resnet50 = models.resnet50(pretrained=True)\n",
    "\n",
    "for param in resnet50.parameters():\n",
    "    param.requires_grad = False\n",
    "\n",
    "resnet50.fc = nn.Linear(resnet50.fc.in_features, 10)\n",
    "\n",
    "resnet50 = resnet50.to(device)"
   ]
  },
  {
   "cell_type": "markdown",
   "id": "3c26bb51",
   "metadata": {},
   "source": [
    "- **Fine-tuning**"
   ]
  },
  {
   "cell_type": "code",
   "execution_count": 7,
   "id": "b47bab46",
   "metadata": {},
   "outputs": [
    {
     "name": "stdout",
     "output_type": "stream",
     "text": [
      "Accuracy on FashionMNIST: 79.0200%\n",
      "Top-3 Accuracy on FashionMNIST: 96.0600%\n"
     ]
    }
   ],
   "source": [
    "criterion = nn.CrossEntropyLoss()\n",
    "optimizer = torch.optim.SGD(resnet50.fc.parameters(), lr=0.001, momentum=0.9)\n",
    "\n",
    "#只训练最后一层\n",
    "resnet50.train()\n",
    "\n",
    "for epoch in range(NUM_EPOCHS):\n",
    "    for images, labels in train_dataloader:\n",
    "        images, labels = images.to(device), labels.to(device)\n",
    "        optimizer.zero_grad()\n",
    "        outputs = resnet50(images)\n",
    "        loss = criterion(outputs, labels)\n",
    "        loss.backward()\n",
    "        optimizer.step()\n",
    "\n",
    "resnet50.eval()\n",
    "corrects = 0\n",
    "top3_corrects = 0\n",
    "total = 0\n",
    "\n",
    "with torch.no_grad():\n",
    "    for images, labels in test_dataloader:\n",
    "        images, labels = images.to(device), labels.to(device)\n",
    "        outputs = resnet50(images)\n",
    "        _, predicted = torch.max(outputs.data, 1)\n",
    "        _, top3_preds = torch.topk(outputs, 3, dim=1)\n",
    "        \n",
    "\n",
    "        total += labels.size(0)\n",
    "        corrects += (predicted == labels).sum().item()\n",
    "        top3_corrects += (labels.view(-1, 1) == top3_preds).any(dim=1).sum().item()\n",
    "\n",
    "acc =corrects / total\n",
    "print(f\"Accuracy on FashionMNIST: {acc * 100:.4f}%\")\n",
    "\n",
    "top3_acc = top3_corrects / total\n",
    "print(f\"Top-3 Accuracy on FashionMNIST: {top3_acc * 100:.4f}%\")"
   ]
  },
  {
   "cell_type": "markdown",
   "id": "efdd4f23",
   "metadata": {},
   "source": [
    "### ViT-B/32 with Zero-shot"
   ]
  },
  {
   "cell_type": "markdown",
   "id": "75056a7c",
   "metadata": {},
   "source": [
    "- **Model**"
   ]
  },
  {
   "cell_type": "code",
   "execution_count": 22,
   "id": "9885df20",
   "metadata": {},
   "outputs": [],
   "source": [
    "vit_model = models.vision_transformer.vit_b_32(pretrained=True)\n",
    "\n",
    "vit_model.heads[0] = nn.Linear(vit_model.heads[0].in_features, 10)\n",
    "\n",
    "vit_model = vit_model.to(device)"
   ]
  },
  {
   "cell_type": "code",
   "execution_count": 8,
   "id": "ed077fb1",
   "metadata": {},
   "outputs": [
    {
     "name": "stdout",
     "output_type": "stream",
     "text": [
      "Accuracy on FashionMNIST: 14.0200%\n",
      "Top-3 Accuracy on FashionMNIST: 38.7700%\n"
     ]
    }
   ],
   "source": [
    "vit_model.eval()\n",
    "\n",
    "corrects = 0\n",
    "top3_corrects = 0\n",
    "total = 0\n",
    "\n",
    "with torch.no_grad():\n",
    "    for images, labels in test_dataloader:\n",
    "        images, labels = images.to(device), labels.to(device)\n",
    "        outputs = vit_model(images)\n",
    "        _, predicted = torch.max(outputs.data, 1)\n",
    "        _, top3_preds = torch.topk(outputs, 3, dim=1)\n",
    "        \n",
    "\n",
    "        total += labels.size(0)\n",
    "        corrects += (predicted == labels).sum().item()\n",
    "        top3_corrects += (labels.view(-1, 1) == top3_preds).any(dim=1).sum().item()\n",
    "\n",
    "acc =corrects / total\n",
    "print(f\"Accuracy on FashionMNIST: {acc * 100:.4f}%\")\n",
    "\n",
    "top3_acc = top3_corrects / total\n",
    "print(f\"Top-3 Accuracy on FashionMNIST: {top3_acc * 100:.4f}%\")"
   ]
  },
  {
   "cell_type": "markdown",
   "id": "0b12f9fe",
   "metadata": {},
   "source": [
    "### ViT-B/32 with Fine-tuning"
   ]
  },
  {
   "cell_type": "markdown",
   "id": "58804759",
   "metadata": {},
   "source": [
    "- **model**"
   ]
  },
  {
   "cell_type": "code",
   "execution_count": 23,
   "id": "ba9f75a2",
   "metadata": {},
   "outputs": [],
   "source": [
    "vit_model = models.vision_transformer.vit_b_32(pretrained=True)\n",
    "\n",
    "for param in vit_model.parameters():\n",
    "    param.requires_grad = False\n",
    "    \n",
    "vit_model.heads[0] = nn.Linear(vit_model.heads[0].in_features, 10)\n",
    "\n",
    "vit_model = vit_model.to(device)"
   ]
  },
  {
   "cell_type": "markdown",
   "id": "3d0a9345",
   "metadata": {},
   "source": [
    "- **fine-tuning**"
   ]
  },
  {
   "cell_type": "code",
   "execution_count": 10,
   "id": "e35a14af",
   "metadata": {},
   "outputs": [
    {
     "name": "stdout",
     "output_type": "stream",
     "text": [
      "Accuracy on FashionMNIST: 84.5500%\n",
      "Top-3 Accuracy on FashionMNIST: 98.4000%\n"
     ]
    }
   ],
   "source": [
    "criterion = nn.CrossEntropyLoss()\n",
    "optimizer = torch.optim.SGD(vit_model.heads[0].parameters(), lr=0.001, momentum=0.9)\n",
    "\n",
    "#只训练最后一层\n",
    "vit_model.train()\n",
    "\n",
    "for epoch in range(NUM_EPOCHS):\n",
    "    for images, labels in train_dataloader:\n",
    "        images, labels = images.to(device), labels.to(device)\n",
    "        optimizer.zero_grad()\n",
    "        outputs = vit_model(images)\n",
    "        loss = criterion(outputs, labels)\n",
    "        loss.backward()\n",
    "        optimizer.step()\n",
    "\n",
    "vit_model.eval()\n",
    "\n",
    "corrects = 0\n",
    "top3_corrects = 0\n",
    "total = 0\n",
    "\n",
    "with torch.no_grad():\n",
    "    for images, labels in test_dataloader:\n",
    "        images, labels = images.to(device), labels.to(device)\n",
    "        outputs = vit_model(images)\n",
    "        _, predicted = torch.max(outputs.data, 1)\n",
    "        _, top3_preds = torch.topk(outputs, 3, dim=1)\n",
    "        \n",
    "\n",
    "        total += labels.size(0)\n",
    "        corrects += (predicted == labels).sum().item()\n",
    "        top3_corrects += (labels.view(-1, 1) == top3_preds).any(dim=1).sum().item()\n",
    "\n",
    "acc =corrects / total\n",
    "print(f\"Accuracy on FashionMNIST: {acc * 100:.4f}%\")\n",
    "\n",
    "top3_acc = top3_corrects / total\n",
    "print(f\"Top-3 Accuracy on FashionMNIST: {top3_acc * 100:.4f}%\")"
   ]
  },
  {
   "cell_type": "markdown",
   "id": "4f575db1",
   "metadata": {},
   "source": [
    "### MLP with Simple Structure"
   ]
  },
  {
   "cell_type": "markdown",
   "id": "943fd102",
   "metadata": {},
   "source": [
    "- **Model**"
   ]
  },
  {
   "cell_type": "code",
   "execution_count": 6,
   "id": "dee57f86",
   "metadata": {},
   "outputs": [],
   "source": [
    "class MLP(nn.Module):\n",
    "    def __init__(self):\n",
    "        super(MLP, self).__init__()\n",
    "        self.flatten = nn.Flatten()\n",
    "        self.fc1 = nn.Linear(224*224*3, 128)\n",
    "        self.relu = nn.ReLU()\n",
    "        self.fc2 = nn.Linear(128, 10)\n",
    "\n",
    "    def forward(self, x):\n",
    "        x = self.flatten(x)\n",
    "        x = self.fc1(x)\n",
    "        x = self.relu(x)\n",
    "        x = self.fc2(x)\n",
    "        return x"
   ]
  },
  {
   "cell_type": "code",
   "execution_count": 7,
   "id": "55b425f9",
   "metadata": {},
   "outputs": [
    {
     "data": {
      "text/plain": [
       "MLP(\n",
       "  (flatten): Flatten(start_dim=1, end_dim=-1)\n",
       "  (fc1): Linear(in_features=150528, out_features=128, bias=True)\n",
       "  (relu): ReLU()\n",
       "  (fc2): Linear(in_features=128, out_features=10, bias=True)\n",
       ")"
      ]
     },
     "execution_count": 7,
     "metadata": {},
     "output_type": "execute_result"
    }
   ],
   "source": [
    "model = MLP()\n",
    "model.to(device)"
   ]
  },
  {
   "cell_type": "markdown",
   "id": "a1a1d193",
   "metadata": {},
   "source": [
    "- **train and test**"
   ]
  },
  {
   "cell_type": "code",
   "execution_count": 10,
   "id": "096cdbbb",
   "metadata": {},
   "outputs": [],
   "source": [
    "criterion = nn.CrossEntropyLoss()\n",
    "optimizer = optim.SGD(model.parameters(), lr=0.001, momentum=0.9)"
   ]
  },
  {
   "cell_type": "code",
   "execution_count": 11,
   "id": "e2b6bbda",
   "metadata": {},
   "outputs": [
    {
     "name": "stdout",
     "output_type": "stream",
     "text": [
      "Accuracy on FashionMNIST: 84.6900%\n",
      "Top-3 Accuracy on FashionMNIST: 98.3400%\n"
     ]
    }
   ],
   "source": [
    "model.train()\n",
    "\n",
    "for epoch in range(NUM_EPOCHS):\n",
    "    model.train()\n",
    "    for images, labels in train_dataloader:\n",
    "        images, labels = images.to(device), labels.to(device)\n",
    "\n",
    "        optimizer.zero_grad()\n",
    "        outputs = model(images)\n",
    "        loss = criterion(outputs, labels)\n",
    "        loss.backward()\n",
    "        optimizer.step()\n",
    "\n",
    "\n",
    "model.eval()\n",
    "\n",
    "corrects = 0\n",
    "top3_corrects = 0\n",
    "total = 0\n",
    "\n",
    "with torch.no_grad():\n",
    "    for images, labels in test_dataloader:\n",
    "        images, labels = images.to(device), labels.to(device)\n",
    "        outputs = model(images)\n",
    "        _, predicted = torch.max(outputs.data, 1)\n",
    "        _, top3_preds = torch.topk(outputs, 3, dim=1)\n",
    "        \n",
    "\n",
    "        total += labels.size(0)\n",
    "        corrects += (predicted == labels).sum().item()\n",
    "        top3_corrects += (labels.view(-1, 1) == top3_preds).any(dim=1).sum().item()\n",
    "\n",
    "acc =corrects / total\n",
    "print(f\"Accuracy on FashionMNIST: {acc * 100:.4f}%\")\n",
    "\n",
    "top3_acc = top3_corrects / total\n",
    "print(f\"Top-3 Accuracy on FashionMNIST: {top3_acc * 100:.4f}%\")"
   ]
  },
  {
   "cell_type": "markdown",
   "id": "a4a8bc84",
   "metadata": {},
   "source": [
    "## Visualization\n",
    "---"
   ]
  },
  {
   "cell_type": "markdown",
   "id": "6611a708",
   "metadata": {},
   "source": [
    "### CLIP with defferent VBs and prompts"
   ]
  },
  {
   "cell_type": "code",
   "execution_count": 12,
   "id": "9d8e3b25",
   "metadata": {},
   "outputs": [
    {
     "data": {
      "text/html": [
       "<div>\n",
       "<style scoped>\n",
       "    .dataframe tbody tr th:only-of-type {\n",
       "        vertical-align: middle;\n",
       "    }\n",
       "\n",
       "    .dataframe tbody tr th {\n",
       "        vertical-align: top;\n",
       "    }\n",
       "\n",
       "    .dataframe thead th {\n",
       "        text-align: right;\n",
       "    }\n",
       "</style>\n",
       "<table border=\"1\" class=\"dataframe\">\n",
       "  <thead>\n",
       "    <tr style=\"text-align: right;\">\n",
       "      <th></th>\n",
       "      <th>Model</th>\n",
       "      <th>Accuracy</th>\n",
       "      <th>Top-3 Accuracy</th>\n",
       "    </tr>\n",
       "  </thead>\n",
       "  <tbody>\n",
       "    <tr>\n",
       "      <th>0</th>\n",
       "      <td>RN50 w/ this</td>\n",
       "      <td>54.06</td>\n",
       "      <td>78.10</td>\n",
       "    </tr>\n",
       "    <tr>\n",
       "      <th>1</th>\n",
       "      <td>RN50 w/o this</td>\n",
       "      <td>52.45</td>\n",
       "      <td>74.98</td>\n",
       "    </tr>\n",
       "    <tr>\n",
       "      <th>2</th>\n",
       "      <td>ViT-B/32 w/ this</td>\n",
       "      <td>65.85</td>\n",
       "      <td>88.43</td>\n",
       "    </tr>\n",
       "    <tr>\n",
       "      <th>3</th>\n",
       "      <td>ViT-B/32 w/o this</td>\n",
       "      <td>63.27</td>\n",
       "      <td>88.02</td>\n",
       "    </tr>\n",
       "    <tr>\n",
       "      <th>4</th>\n",
       "      <td>ViT-B/16 w/ this</td>\n",
       "      <td>64.77</td>\n",
       "      <td>89.33</td>\n",
       "    </tr>\n",
       "    <tr>\n",
       "      <th>5</th>\n",
       "      <td>ViT-B/16 w/o this</td>\n",
       "      <td>64.84</td>\n",
       "      <td>89.98</td>\n",
       "    </tr>\n",
       "  </tbody>\n",
       "</table>\n",
       "</div>"
      ],
      "text/plain": [
       "               Model  Accuracy  Top-3 Accuracy\n",
       "0       RN50 w/ this     54.06           78.10\n",
       "1      RN50 w/o this     52.45           74.98\n",
       "2   ViT-B/32 w/ this     65.85           88.43\n",
       "3  ViT-B/32 w/o this     63.27           88.02\n",
       "4   ViT-B/16 w/ this     64.77           89.33\n",
       "5  ViT-B/16 w/o this     64.84           89.98"
      ]
     },
     "execution_count": 12,
     "metadata": {},
     "output_type": "execute_result"
    }
   ],
   "source": [
    "data = {\n",
    "    'Model': ['RN50 w/ this', 'RN50 w/o this', 'ViT-B/32 w/ this', 'ViT-B/32 w/o this', 'ViT-B/16 w/ this', 'ViT-B/16 w/o this'],\n",
    "    'Accuracy': [54.0600, 52.4500, 65.8500, 63.2700, 64.7700, 64.8400],\n",
    "    'Top-3 Accuracy': [78.1000, 74.9800, 88.4300, 88.0200, 89.3300, 89.9800]\n",
    "}\n",
    "\n",
    "df = pd.DataFrame(data)\n",
    "pd.set_option('display.max_rows', None)\n",
    "df"
   ]
  },
  {
   "cell_type": "code",
   "execution_count": 7,
   "id": "c6b3555a",
   "metadata": {},
   "outputs": [
    {
     "data": {
      "image/png": "[encoded data removed]",
      "text/plain": [
       "<Figure size 1000x600 with 2 Axes>"
      ]
     },
     "metadata": {},
     "output_type": "display_data"
    }
   ],
   "source": [
    "sns.set_theme()\n",
    "sns.set(style=\"whitegrid\", palette=\"deep\")\n",
    "\n",
    "plt.figure(figsize=(10, 6))\n",
    "\n",
    "plt.subplot(1, 2, 1)\n",
    "sns.barplot(x='Model', y='Accuracy', data=df, color='skyblue', label='Accuracy')\n",
    "#sns.barplot(x='Model', y='Top-3 Accuracy', data=df, color='orange', label='Top-3 Accuracy')\n",
    "\n",
    "plt.xlabel('Models')\n",
    "plt.ylabel('Accuracy')\n",
    "plt.title('Comparison of Accuracy for Different Models')\n",
    "plt.xticks(rotation=45, ha='right')\n",
    "plt.legend()\n",
    "\n",
    "plt.subplot(1, 2, 2)\n",
    "#sns.barplot(x='Model', y='Accuracy', data=df, color='blue', label='Accuracy')\n",
    "sns.barplot(x='Model', y='Top-3 Accuracy', data=df, color='orange', label='Top-3 Accuracy')\n",
    "\n",
    "plt.xlabel('Models')\n",
    "plt.ylabel('Accuracy')\n",
    "plt.title('Comparison of Top-3 Accuracy for Different Models')\n",
    "plt.xticks(rotation=45, ha='right')\n",
    "plt.legend()\n",
    "\n",
    "plt.tight_layout()\n",
    "plt.show()"
   ]
  },
  {
   "cell_type": "markdown",
   "id": "30c7ee66",
   "metadata": {},
   "source": [
    "### CLIP with Pretrained Model and MLP"
   ]
  },
  {
   "cell_type": "code",
   "execution_count": 13,
   "id": "ac75501f",
   "metadata": {},
   "outputs": [
    {
     "data": {
      "text/html": [
       "<div>\n",
       "<style scoped>\n",
       "    .dataframe tbody tr th:only-of-type {\n",
       "        vertical-align: middle;\n",
       "    }\n",
       "\n",
       "    .dataframe tbody tr th {\n",
       "        vertical-align: top;\n",
       "    }\n",
       "\n",
       "    .dataframe thead th {\n",
       "        text-align: right;\n",
       "    }\n",
       "</style>\n",
       "<table border=\"1\" class=\"dataframe\">\n",
       "  <thead>\n",
       "    <tr style=\"text-align: right;\">\n",
       "      <th></th>\n",
       "      <th>Model</th>\n",
       "      <th>Accuracy</th>\n",
       "      <th>Top-3 Accuracy</th>\n",
       "    </tr>\n",
       "  </thead>\n",
       "  <tbody>\n",
       "    <tr>\n",
       "      <th>0</th>\n",
       "      <td>CLIP</td>\n",
       "      <td>65.85</td>\n",
       "      <td>88.43</td>\n",
       "    </tr>\n",
       "    <tr>\n",
       "      <th>1</th>\n",
       "      <td>RN101 Zero-shot</td>\n",
       "      <td>9.56</td>\n",
       "      <td>29.76</td>\n",
       "    </tr>\n",
       "    <tr>\n",
       "      <th>2</th>\n",
       "      <td>RN101 Fine-tuning</td>\n",
       "      <td>79.02</td>\n",
       "      <td>96.06</td>\n",
       "    </tr>\n",
       "    <tr>\n",
       "      <th>3</th>\n",
       "      <td>ViT-B/32 Zero-shot</td>\n",
       "      <td>14.02</td>\n",
       "      <td>38.77</td>\n",
       "    </tr>\n",
       "    <tr>\n",
       "      <th>4</th>\n",
       "      <td>ViT-B/32 Fine-tuning</td>\n",
       "      <td>84.55</td>\n",
       "      <td>98.40</td>\n",
       "    </tr>\n",
       "    <tr>\n",
       "      <th>5</th>\n",
       "      <td>MLP</td>\n",
       "      <td>84.69</td>\n",
       "      <td>98.34</td>\n",
       "    </tr>\n",
       "  </tbody>\n",
       "</table>\n",
       "</div>"
      ],
      "text/plain": [
       "                  Model  Accuracy  Top-3 Accuracy\n",
       "0                  CLIP     65.85           88.43\n",
       "1       RN101 Zero-shot      9.56           29.76\n",
       "2     RN101 Fine-tuning     79.02           96.06\n",
       "3    ViT-B/32 Zero-shot     14.02           38.77\n",
       "4  ViT-B/32 Fine-tuning     84.55           98.40\n",
       "5                   MLP     84.69           98.34"
      ]
     },
     "execution_count": 13,
     "metadata": {},
     "output_type": "execute_result"
    }
   ],
   "source": [
    "data = {\n",
    "    'Model': ['CLIP','RN101 Zero-shot', 'RN101 Fine-tuning', 'ViT-B/32 Zero-shot', 'ViT-B/32 Fine-tuning', 'MLP'],\n",
    "    'Accuracy': [65.8500, 9.5600, 79.0200, 14.0200, 84.5500, 84.6900],\n",
    "    'Top-3 Accuracy': [ 88.4300, 29.7600, 96.0600, 38.7700, 98.4000,98.3400]\n",
    "}\n",
    "\n",
    "df = pd.DataFrame(data)\n",
    "pd.set_option('display.max_rows', None)\n",
    "df"
   ]
  },
  {
   "cell_type": "code",
   "execution_count": 33,
   "id": "be094b67",
   "metadata": {},
   "outputs": [
    {
     "data": {
      "image/png": "[encoded data removed]",
      "text/plain": [
       "<Figure size 1000x600 with 2 Axes>"
      ]
     },
     "metadata": {},
     "output_type": "display_data"
    }
   ],
   "source": [
    "sns.set_theme()\n",
    "sns.set(style=\"whitegrid\", palette=\"deep\")\n",
    "\n",
    "plt.figure(figsize=(10, 6))\n",
    "\n",
    "plt.subplot(1, 2, 1)\n",
    "sns.barplot(x='Model', y='Accuracy', data=df, color='skyblue', label='Accuracy')\n",
    "#sns.barplot(x='Model', y='Top-3 Accuracy', data=df, color='orange', label='Top-3 Accuracy')\n",
    "\n",
    "plt.xlabel('Models')\n",
    "plt.ylabel('Accuracy')\n",
    "plt.title('Comparison of Accuracy for Different Models')\n",
    "plt.xticks(rotation=45, ha='right')\n",
    "plt.legend()\n",
    "\n",
    "plt.subplot(1, 2, 2)\n",
    "#sns.barplot(x='Model', y='Accuracy', data=df, color='blue', label='Accuracy')\n",
    "sns.barplot(x='Model', y='Top-3 Accuracy', data=df, color='orange', label='Top-3 Accuracy')\n",
    "\n",
    "plt.xlabel('Models')\n",
    "plt.ylabel('Accuracy')\n",
    "plt.title('Comparison of Top-3 Accuracy for Different Models')\n",
    "plt.xticks(rotation=45, ha='right')\n",
    "plt.legend()\n",
    "\n",
    "plt.tight_layout()\n",
    "plt.show()"
   ]
  }
 ],
 "metadata": {
  "kernelspec": {
   "display_name": "Python 3 (ipykernel)",
   "language": "python",
   "name": "python3"
  },
  "language_info": {
   "codemirror_mode": {
    "name": "ipython",
    "version": 3
   },
   "file_extension": ".py",
   "mimetype": "text/x-python",
   "name": "python",
   "nbconvert_exporter": "python",
   "pygments_lexer": "ipython3",
   "version": "3.10.12"
  }
 },
 "nbformat": 4,
 "nbformat_minor": 5
}

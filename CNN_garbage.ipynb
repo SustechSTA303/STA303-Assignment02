{
 "cells": [
  {
   "cell_type": "markdown",
   "id": "b21eb409",
   "metadata": {},
   "source": [
    "## import"
   ]
  },
  {
   "cell_type": "code",
   "execution_count": 1,
   "id": "5b3d2176",
   "metadata": {},
   "outputs": [],
   "source": [
    "import torch\n",
    "import torch.nn as nn\n",
    "import torch.optim as optim\n",
    "from torchvision import transforms,datasets, models\n",
    "from torchvision.models import vgg16,VGG16_Weights\n",
    "from torch.utils.data import DataLoader, Dataset, Subset\n",
    "\n",
    "import numpy as np\n",
    "\n",
    "from sklearn.model_selection import train_test_split\n",
    "\n",
    "from PIL import Image, ImageFilter\n",
    "import matplotlib.pyplot as plt\n",
    "\n",
    "from tqdm import tqdm\n",
    "\n",
    "import time"
   ]
  },
  {
   "cell_type": "markdown",
   "id": "89c25bcc",
   "metadata": {},
   "source": [
    "## High Parameters"
   ]
  },
  {
   "cell_type": "code",
   "execution_count": 2,
   "id": "d9045c18",
   "metadata": {},
   "outputs": [],
   "source": [
    "NUM_EPOCHS = 30\n",
    "LEARNING_RATE = 1e-1\n",
    "MOMENTUM = 0.9\n",
    "STEP=5\n",
    "GAMMA=0.5\n",
    "EVAL_INTERVAL=1 #验证集测试效果\n",
    "PATIENTS = 5"
   ]
  },
  {
   "cell_type": "code",
   "execution_count": 3,
   "id": "b9409463",
   "metadata": {},
   "outputs": [],
   "source": [
    "transform = transforms.Compose([\n",
    "    transforms.Resize(size = 32),\n",
    "    transforms.CenterCrop(size=(32,32)),\n",
    "    transforms.ToTensor(),\n",
    "    transforms.Normalize((0.4914, 0.4822, 0.4465), (0.2023, 0.1994, 0.2010)),\n",
    "])\n",
    "dataset = datasets.ImageFolder(root='mydata', transform=transform)\n",
    "targets = [i[1] for i in dataset.imgs]  # 提取所有图片的标签\n",
    "\n",
    "# 划分数据集（使用分层抽样）\n",
    "train_idx, test_idx = train_test_split(range(len(targets)), test_size=0.2, stratify=targets, random_state=42)\n",
    "\n",
    "# 根据索引创建子集\n",
    "train_dataset = Subset(dataset, train_idx)\n",
    "test_dataset = Subset(dataset, test_idx)\n",
    "\n",
    "# 创建数据加载器\n",
    "train_loader = DataLoader(train_dataset, batch_size=32, shuffle=True)\n",
    "test_loader = DataLoader(test_dataset, batch_size=32, shuffle=False)"
   ]
  },
  {
   "cell_type": "markdown",
   "id": "739f08be",
   "metadata": {},
   "source": [
    "## device"
   ]
  },
  {
   "cell_type": "code",
   "execution_count": 4,
   "id": "9417275e",
   "metadata": {},
   "outputs": [],
   "source": [
    "device = torch.device(\"cuda:0\" if torch.cuda.is_available() else \"cpu\")"
   ]
  },
  {
   "cell_type": "code",
   "execution_count": 5,
   "id": "8b18abc2",
   "metadata": {},
   "outputs": [],
   "source": [
    "class ConvNet(nn.Module):\n",
    "    def __init__(self):\n",
    "        super(ConvNet, self).__init__()\n",
    "        self.conv1 = nn.Conv2d(3, 4, 3)  \n",
    "        self.pool = nn.MaxPool2d(2, 2)\n",
    "        self.conv2 = nn.Conv2d(4, 8, 3)  \n",
    "        self.fc1 = nn.Linear(8 * 6 * 6, 32)\n",
    "        self.fc2 = nn.Linear(32, 10)#分类到多少class\n",
    "\n",
    "    def forward(self, x):\n",
    "        x = self.pool(torch.relu(self.conv1(x)))\n",
    "        x = self.pool(torch.relu(self.conv2(x)))\n",
    "        x = x.view(-1, 8 * 6 * 6)\n",
    "        x = torch.relu(self.fc1(x))\n",
    "        x = self.fc2(x)\n",
    "        return x"
   ]
  },
  {
   "cell_type": "markdown",
   "id": "99632cd3",
   "metadata": {},
   "source": [
    "## baseline model"
   ]
  },
  {
   "cell_type": "code",
   "execution_count": 6,
   "id": "1a60df82",
   "metadata": {},
   "outputs": [
    {
     "data": {
      "text/plain": [
       "ConvNet(\n",
       "  (conv1): Conv2d(3, 4, kernel_size=(3, 3), stride=(1, 1))\n",
       "  (pool): MaxPool2d(kernel_size=2, stride=2, padding=0, dilation=1, ceil_mode=False)\n",
       "  (conv2): Conv2d(4, 8, kernel_size=(3, 3), stride=(1, 1))\n",
       "  (fc1): Linear(in_features=288, out_features=32, bias=True)\n",
       "  (fc2): Linear(in_features=32, out_features=10, bias=True)\n",
       ")"
      ]
     },
     "execution_count": 6,
     "metadata": {},
     "output_type": "execute_result"
    }
   ],
   "source": [
    "model = ConvNet()\n",
    "model.to(device)"
   ]
  },
  {
   "cell_type": "markdown",
   "id": "bc1ce291",
   "metadata": {},
   "source": [
    "## optimizer"
   ]
  },
  {
   "cell_type": "code",
   "execution_count": 7,
   "id": "4d06ae65",
   "metadata": {},
   "outputs": [],
   "source": [
    "optimizer = optim.SGD(model.parameters(), lr=LEARNING_RATE, momentum=MOMENTUM)\n",
    "\n",
    "scheduler = torch.optim.lr_scheduler.StepLR(optimizer, step_size=STEP, gamma=GAMMA)"
   ]
  },
  {
   "cell_type": "markdown",
   "id": "53a294b9",
   "metadata": {},
   "source": [
    "## loss function"
   ]
  },
  {
   "cell_type": "code",
   "execution_count": 8,
   "id": "90539875",
   "metadata": {},
   "outputs": [],
   "source": [
    "criterion = nn.CrossEntropyLoss()"
   ]
  },
  {
   "cell_type": "code",
   "execution_count": 9,
   "id": "94a928d3",
   "metadata": {},
   "outputs": [],
   "source": [
    "def train_batch(model, image, target):\n",
    "    output = model(image)\n",
    "    loss = criterion(output,target)\n",
    "    return output, loss"
   ]
  },
  {
   "cell_type": "code",
   "execution_count": 10,
   "id": "8159635c",
   "metadata": {},
   "outputs": [],
   "source": [
    "def test_batch(model, image, target):\n",
    "    output = model(image)\n",
    "    loss = criterion(output,target)\n",
    "    return output, loss"
   ]
  },
  {
   "cell_type": "code",
   "execution_count": 11,
   "id": "f651d987",
   "metadata": {},
   "outputs": [
    {
     "name": "stderr",
     "output_type": "stream",
     "text": [
      "Epoch 1/30 - Train loss: 1.8631: 100%|██████████| 60/60 [00:04<00:00, 15.00it/s]\n",
      "Epoch 2/30 - Train loss: 1.6774: 100%|██████████| 60/60 [00:04<00:00, 13.47it/s]\n",
      "Epoch 3/30 - Train loss: 1.6622: 100%|██████████| 60/60 [00:03<00:00, 16.15it/s]\n",
      "Epoch 4/30 - Train loss: 1.6055: 100%|██████████| 60/60 [00:03<00:00, 16.42it/s]\n",
      "Epoch 5/30 - Train loss: 1.6395: 100%|██████████| 60/60 [00:04<00:00, 14.04it/s]\n",
      "Epoch 6/30 - Train loss: 1.6010: 100%|██████████| 60/60 [00:04<00:00, 13.35it/s]\n",
      "Epoch 7/30 - Train loss: 1.8095: 100%|██████████| 60/60 [00:04<00:00, 12.38it/s]\n",
      "Epoch 8/30 - Train loss: 1.7442: 100%|██████████| 60/60 [00:03<00:00, 16.08it/s]\n",
      "Epoch 9/30 - Train loss: 1.7412: 100%|██████████| 60/60 [00:03<00:00, 17.02it/s]\n",
      "Epoch 10/30 - Train loss: 1.7483: 100%|██████████| 60/60 [00:03<00:00, 17.24it/s]\n",
      "Epoch 11/30 - Train loss: 1.7477: 100%|██████████| 60/60 [00:03<00:00, 17.61it/s]\n",
      "Epoch 12/30 - Train loss: 1.7411: 100%|██████████| 60/60 [00:03<00:00, 16.35it/s]\n",
      "Epoch 13/30 - Train loss: 1.7432: 100%|██████████| 60/60 [00:03<00:00, 17.09it/s]\n",
      "Epoch 14/30 - Train loss: 1.7422: 100%|██████████| 60/60 [00:03<00:00, 17.31it/s]\n",
      "Epoch 15/30 - Train loss: 1.7420: 100%|██████████| 60/60 [00:03<00:00, 17.34it/s]\n",
      "Epoch 16/30 - Train loss: 1.7407: 100%|██████████| 60/60 [00:03<00:00, 17.29it/s]\n",
      "Epoch 17/30 - Train loss: 1.7375: 100%|██████████| 60/60 [00:03<00:00, 15.28it/s]\n",
      "Epoch 18/30 - Train loss: 1.7365: 100%|██████████| 60/60 [00:03<00:00, 16.01it/s]\n",
      "Epoch 19/30 - Train loss: 1.7406: 100%|██████████| 60/60 [00:03<00:00, 16.66it/s]\n",
      "Epoch 20/30 - Train loss: 1.7387: 100%|██████████| 60/60 [00:03<00:00, 15.55it/s]\n",
      "Epoch 21/30 - Train loss: 1.7383: 100%|██████████| 60/60 [00:03<00:00, 17.13it/s]\n",
      "Epoch 22/30 - Train loss: 1.7356: 100%|██████████| 60/60 [00:03<00:00, 17.11it/s]\n",
      "Epoch 23/30 - Train loss: 1.7377: 100%|██████████| 60/60 [00:03<00:00, 16.52it/s]\n",
      "Epoch 24/30 - Train loss: 1.7365: 100%|██████████| 60/60 [00:03<00:00, 16.73it/s]\n",
      "Epoch 25/30 - Train loss: 1.7389: 100%|██████████| 60/60 [00:03<00:00, 17.29it/s]\n",
      "Epoch 26/30 - Train loss: 1.7374: 100%|██████████| 60/60 [00:03<00:00, 17.03it/s]\n",
      "Epoch 27/30 - Train loss: 1.7349: 100%|██████████| 60/60 [00:03<00:00, 17.30it/s]\n",
      "Epoch 28/30 - Train loss: 1.7380: 100%|██████████| 60/60 [00:03<00:00, 17.37it/s]\n",
      "Epoch 29/30 - Train loss: 1.7352: 100%|██████████| 60/60 [00:03<00:00, 16.83it/s]\n",
      "Epoch 30/30 - Train loss: 1.7349: 100%|██████████| 60/60 [00:03<00:00, 17.07it/s]"
     ]
    },
    {
     "name": "stdout",
     "output_type": "stream",
     "text": [
      "0.2133051742344245\n"
     ]
    },
    {
     "name": "stderr",
     "output_type": "stream",
     "text": [
      "\n"
     ]
    }
   ],
   "source": [
    "training_loss = []\n",
    "training_acc = []\n",
    "testing_loss = []\n",
    "testing_acc = []\n",
    "\n",
    "\n",
    "\n",
    "start_time = time.time()\n",
    "for epoch in range(NUM_EPOCHS):\n",
    "    model.train()\n",
    "    torch.cuda.empty_cache()\n",
    "\n",
    "    ##########################\n",
    "    ### Training\n",
    "    ##########################\n",
    "\n",
    "    running_cls_loss = 0.0\n",
    "    running_cls_corrects = 0\n",
    "    \n",
    "    train_loader = tqdm(train_loader, desc=f\"Epoch {epoch+1}/{NUM_EPOCHS}\")\n",
    "\n",
    "\n",
    "    for batch_idx, (image, target) in enumerate(train_loader):\n",
    "\n",
    "        image = image.to(device)\n",
    "        target = target.to(device)\n",
    "\n",
    "        # train model\n",
    "        outputs, loss = train_batch(model, image, target)\n",
    "        _, preds = torch.max(outputs, 1)\n",
    "\n",
    "        \n",
    "        loss_data = loss.data.item()\n",
    "        if np.isnan(loss_data):\n",
    "            raise ValueError('loss is nan while training')\n",
    "        running_cls_loss += loss.item()\n",
    "        running_cls_corrects += torch.sum(preds == target.data)\n",
    "\n",
    "        loss.backward()\n",
    "        optimizer.step()\n",
    "        optimizer.zero_grad()\n",
    "        \n",
    "        train_loader.set_description(f\"Epoch {epoch+1}/{NUM_EPOCHS} - Train loss: {running_cls_loss/(batch_idx+1):.4f}\")\n",
    "\n",
    "\n",
    "    epoch_loss = running_cls_loss / len(train_dataset)\n",
    "    epoch_acc = running_cls_corrects.double() / len(train_dataset)\n",
    "    training_loss.append(epoch_loss)\n",
    "    training_acc.append(epoch_acc.cpu().detach().numpy())\n",
    "\n",
    "    # change learning rate\n",
    "    scheduler.step()\n",
    "end_time = time.time()\n",
    "consume = end_time-start_time\n",
    "print(training_acc[-1])\n",
    "\n",
    "        # save the model in last epoch"
   ]
  },
  {
   "cell_type": "code",
   "execution_count": 12,
   "id": "4f30faed",
   "metadata": {},
   "outputs": [
    {
     "name": "stdout",
     "output_type": "stream",
     "text": [
      "Test Acc: 0.2131\n"
     ]
    }
   ],
   "source": [
    "model.eval()\n",
    "    \n",
    "val_loss = 0.0\n",
    "val_corrects = 0\n",
    "\n",
    "for batch_idx, (image, target) in enumerate(test_loader):\n",
    "\n",
    "    image = image.to(device)\n",
    "    target = target.to(device)\n",
    "\n",
    "    # test model\n",
    "    outputs, loss = test_batch(model, image, target)\n",
    "    _, preds = torch.max(outputs, 1)\n",
    "\n",
    "    val_loss += loss.item()\n",
    "    val_corrects += torch.sum(preds == target.data)\n",
    "    \n",
    "\n",
    "val_loss = val_loss / len(test_dataset)\n",
    "val_acc = val_corrects.double() / len(test_dataset)\n",
    "                \n",
    "print(f'Test Acc: {val_acc:.4f}')"
   ]
  },
  {
   "cell_type": "code",
   "execution_count": 13,
   "id": "535d39ae",
   "metadata": {},
   "outputs": [
    {
     "name": "stdout",
     "output_type": "stream",
     "text": [
      "111.59760999679565\n"
     ]
    }
   ],
   "source": [
    "print(consume)"
   ]
  },
  {
   "cell_type": "code",
   "execution_count": null,
   "id": "577b0b64",
   "metadata": {},
   "outputs": [],
   "source": []
  }
 ],
 "metadata": {
  "kernelspec": {
   "display_name": "Python 3 (ipykernel)",
   "language": "python",
   "name": "python3"
  },
  "language_info": {
   "codemirror_mode": {
    "name": "ipython",
    "version": 3
   },
   "file_extension": ".py",
   "mimetype": "text/x-python",
   "name": "python",
   "nbconvert_exporter": "python",
   "pygments_lexer": "ipython3",
   "version": "3.10.12"
  }
 },
 "nbformat": 4,
 "nbformat_minor": 5
}

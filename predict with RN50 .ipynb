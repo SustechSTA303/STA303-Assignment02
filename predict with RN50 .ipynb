{
 "cells": [
  {
   "cell_type": "code",
   "execution_count": 5,
   "metadata": {
    "execution": {
     "iopub.execute_input": "2023-10-22T04:23:04.805956Z",
     "iopub.status.busy": "2023-10-22T04:23:04.805574Z",
     "iopub.status.idle": "2023-10-22T04:23:04.813097Z",
     "shell.execute_reply": "2023-10-22T04:23:04.812092Z",
     "shell.execute_reply.started": "2023-10-22T04:23:04.805913Z"
    }
   },
   "outputs": [],
   "source": [
    "import pandas as pd\n",
    "import numpy as np\n",
    "import matplotlib.pyplot as plt\n",
    "import seaborn as sns\n",
    "import os \n",
    "\n",
    "import tensorflow as tf\n",
    "tf.config.run_functions_eagerly(True)\n",
    "import tensorflow_hub as hub\n",
    "from tensorflow.keras.models import Sequential, Model\n",
    "from tensorflow.keras.layers import Dense, Input, InputLayer\n",
    "from tensorflow.keras.callbacks import ModelCheckpoint, EarlyStopping"
   ]
  },
  {
   "cell_type": "code",
   "execution_count": 6,
   "metadata": {
    "execution": {
     "iopub.execute_input": "2023-10-22T04:23:15.222326Z",
     "iopub.status.busy": "2023-10-22T04:23:15.221518Z",
     "iopub.status.idle": "2023-10-22T04:23:15.227211Z",
     "shell.execute_reply": "2023-10-22T04:23:15.225878Z",
     "shell.execute_reply.started": "2023-10-22T04:23:15.222282Z"
    }
   },
   "outputs": [],
   "source": [
    "fpath = \"images/Images\""
   ]
  },
  {
   "cell_type": "code",
   "execution_count": 7,
   "metadata": {
    "execution": {
     "iopub.execute_input": "2023-10-22T04:23:18.886344Z",
     "iopub.status.busy": "2023-10-22T04:23:18.885588Z",
     "iopub.status.idle": "2023-10-22T04:23:25.885507Z",
     "shell.execute_reply": "2023-10-22T04:23:25.884619Z",
     "shell.execute_reply.started": "2023-10-22T04:23:18.886308Z"
    }
   },
   "outputs": [
    {
     "name": "stdout",
     "output_type": "stream",
     "text": [
      "Found 20580 files belonging to 120 classes.\n",
      "Using 16464 files for training.\n"
     ]
    }
   ],
   "source": [
    "img_size = 224\n",
    "batch_size =128\n",
    "train = tf.keras.utils.image_dataset_from_directory(\n",
    "  fpath,\n",
    "  validation_split=0.2,\n",
    "  subset=\"training\",\n",
    "  seed=123,\n",
    "  image_size=(img_size, img_size),\n",
    "  batch_size=batch_size,\n",
    "  label_mode =\"categorical\"\n",
    ")"
   ]
  },
  {
   "cell_type": "code",
   "execution_count": 8,
   "metadata": {
    "execution": {
     "iopub.execute_input": "2023-10-22T04:23:49.825828Z",
     "iopub.status.busy": "2023-10-22T04:23:49.825437Z",
     "iopub.status.idle": "2023-10-22T04:23:54.288726Z",
     "shell.execute_reply": "2023-10-22T04:23:54.287906Z",
     "shell.execute_reply.started": "2023-10-22T04:23:49.825792Z"
    }
   },
   "outputs": [
    {
     "name": "stdout",
     "output_type": "stream",
     "text": [
      "Found 20580 files belonging to 120 classes.\n",
      "Using 4116 files for validation.\n"
     ]
    }
   ],
   "source": [
    "val = tf.keras.utils.image_dataset_from_directory(\n",
    "  fpath,\n",
    "  validation_split=0.2,\n",
    "  subset=\"validation\",\n",
    "  seed=123,\n",
    "  image_size=(img_size, img_size),\n",
    "  batch_size=batch_size,\n",
    "  label_mode =\"categorical\"\n",
    ")"
   ]
  },
  {
   "cell_type": "code",
   "execution_count": 10,
   "metadata": {
    "execution": {
     "iopub.execute_input": "2023-10-22T04:24:05.993753Z",
     "iopub.status.busy": "2023-10-22T04:24:05.992931Z",
     "iopub.status.idle": "2023-10-22T04:24:05.998769Z",
     "shell.execute_reply": "2023-10-22T04:24:05.997407Z",
     "shell.execute_reply.started": "2023-10-22T04:24:05.993708Z"
    }
   },
   "outputs": [],
   "source": [
    "class_names = train.class_names"
   ]
  },
  {
   "cell_type": "code",
   "execution_count": 14,
   "metadata": {
    "execution": {
     "iopub.execute_input": "2023-10-22T04:24:21.130007Z",
     "iopub.status.busy": "2023-10-22T04:24:21.129628Z",
     "iopub.status.idle": "2023-10-22T04:24:21.136852Z",
     "shell.execute_reply": "2023-10-22T04:24:21.135636Z",
     "shell.execute_reply.started": "2023-10-22T04:24:21.129975Z"
    }
   },
   "outputs": [
    {
     "name": "stdout",
     "output_type": "stream",
     "text": [
      "['Chihuahua', 'Japanese_spaniel', 'Maltese_dog', 'Pekinese', 'Shih', 'Blenheim_spaniel', 'papillon', 'toy_terrier', 'Rhodesian_ridgeback', 'Afghan_hound']\n"
     ]
    }
   ],
   "source": [
    "names=[]\n",
    "for name in class_names :\n",
    "    names.append(name.split(\"-\")[1]) \n",
    "    \n",
    "print(names[:10]) # Printing some species"
   ]
  },
  {
   "cell_type": "code",
   "execution_count": 18,
   "metadata": {
    "execution": {
     "iopub.execute_input": "2023-10-22T04:29:40.160767Z",
     "iopub.status.busy": "2023-10-22T04:29:40.160306Z",
     "iopub.status.idle": "2023-10-22T04:29:42.279848Z",
     "shell.execute_reply": "2023-10-22T04:29:42.278912Z",
     "shell.execute_reply.started": "2023-10-22T04:29:40.160713Z"
    }
   },
   "outputs": [],
   "source": [
    "Model_URL ='https://kaggle.com/models/google/resnet-v2/frameworks/TensorFlow2/variations/50-classification/versions/2'\n",
    "model = Sequential([\n",
    "    tf.keras.layers.Rescaling(1./255, input_shape=(img_size, img_size, 3)),\n",
    "    hub.KerasLayer(Model_URL),\n",
    "    tf.keras.layers.Dense(120, activation=\"softmax\")])"
   ]
  },
  {
   "cell_type": "code",
   "execution_count": 19,
   "metadata": {
    "execution": {
     "iopub.execute_input": "2023-10-22T04:29:45.750705Z",
     "iopub.status.busy": "2023-10-22T04:29:45.749652Z",
     "iopub.status.idle": "2023-10-22T04:29:45.770688Z",
     "shell.execute_reply": "2023-10-22T04:29:45.769756Z",
     "shell.execute_reply.started": "2023-10-22T04:29:45.750660Z"
    }
   },
   "outputs": [],
   "source": [
    "model.compile(\n",
    "      loss=tf.keras.losses.CategoricalCrossentropy(),\n",
    "      optimizer=tf.keras.optimizers.Adam(),\n",
    "      metrics=[\"accuracy\"] \n",
    "  )"
   ]
  },
  {
   "cell_type": "code",
   "execution_count": 21,
   "metadata": {
    "execution": {
     "iopub.execute_input": "2023-10-22T04:29:50.334699Z",
     "iopub.status.busy": "2023-10-22T04:29:50.333962Z",
     "iopub.status.idle": "2023-10-22T04:29:50.340095Z",
     "shell.execute_reply": "2023-10-22T04:29:50.339054Z",
     "shell.execute_reply.started": "2023-10-22T04:29:50.334658Z"
    }
   },
   "outputs": [],
   "source": [
    "model.build((img_size, img_size, 3))"
   ]
  },
  {
   "cell_type": "code",
   "execution_count": 23,
   "metadata": {
    "execution": {
     "iopub.execute_input": "2023-10-22T04:30:33.256685Z",
     "iopub.status.busy": "2023-10-22T04:30:33.256263Z",
     "iopub.status.idle": "2023-10-22T04:30:33.264292Z",
     "shell.execute_reply": "2023-10-22T04:30:33.263042Z",
     "shell.execute_reply.started": "2023-10-22T04:30:33.256646Z"
    }
   },
   "outputs": [],
   "source": [
    "model_name = \"model.h5\"\n",
    "checkpoint = tf.keras.callbacks.ModelCheckpoint(model_name,\n",
    "                            monitor=\"val_loss\",\n",
    "                            mode=\"min\",\n",
    "                            save_best_only = True,\n",
    "                            verbose=1)\n",
    "\n",
    " \n",
    "\n",
    "earlystopping = tf.keras.callbacks.EarlyStopping(monitor='val_loss',min_delta = 0, patience = 5,\n",
    "                                                 verbose = 1, restore_best_weights=True)\n",
    "\n",
    "reduce_lr = tf._keras.callbacks.ReduceLROnPlateau(monitor='val_loss', factor=0.2,\n",
    "                              patience=5, min_lr=0.0001)"
   ]
  },
  {
   "cell_type": "code",
   "execution_count": 25,
   "metadata": {
    "execution": {
     "iopub.execute_input": "2023-10-22T04:45:55.682869Z",
     "iopub.status.busy": "2023-10-22T04:45:55.682473Z",
     "iopub.status.idle": "2023-10-22T05:44:42.182535Z",
     "shell.execute_reply": "2023-10-22T05:44:42.181390Z",
     "shell.execute_reply.started": "2023-10-22T04:45:55.682834Z"
    }
   },
   "outputs": [
    {
     "name": "stdout",
     "output_type": "stream",
     "text": [
      "Epoch 1/30\n",
      "515/515 [==============================] - ETA: 0s - loss: 0.5780 - accuracy: 0.8285\n",
      "Epoch 1: val_loss improved from 1.08328 to 0.90922, saving model to model.h5\n",
      "515/515 [==============================] - 119s 230ms/step - loss: 0.5780 - accuracy: 0.8285 - val_loss: 0.9092 - val_accuracy: 0.7427 - lr: 2.0000e-04\n",
      "Epoch 2/30\n",
      "515/515 [==============================] - ETA: 0s - loss: 0.4567 - accuracy: 0.8667\n",
      "Epoch 2: val_loss improved from 0.90922 to 0.90414, saving model to model.h5\n",
      "515/515 [==============================] - 118s 229ms/step - loss: 0.4567 - accuracy: 0.8667 - val_loss: 0.9041 - val_accuracy: 0.7447 - lr: 2.0000e-04\n",
      "Epoch 3/30\n",
      "515/515 [==============================] - ETA: 0s - loss: 0.3974 - accuracy: 0.8887\n",
      "Epoch 3: val_loss improved from 0.90414 to 0.90287, saving model to model.h5\n",
      "515/515 [==============================] - 118s 229ms/step - loss: 0.3974 - accuracy: 0.8887 - val_loss: 0.9029 - val_accuracy: 0.7425 - lr: 2.0000e-04\n",
      "Epoch 4/30\n",
      "515/515 [==============================] - ETA: 0s - loss: 0.3541 - accuracy: 0.9032\n",
      "Epoch 4: val_loss did not improve from 0.90287\n",
      "515/515 [==============================] - 117s 227ms/step - loss: 0.3541 - accuracy: 0.9032 - val_loss: 0.9088 - val_accuracy: 0.7415 - lr: 2.0000e-04\n",
      "Epoch 5/30\n",
      "515/515 [==============================] - ETA: 0s - loss: 0.3205 - accuracy: 0.9138\n",
      "Epoch 5: val_loss did not improve from 0.90287\n",
      "515/515 [==============================] - 117s 228ms/step - loss: 0.3205 - accuracy: 0.9138 - val_loss: 0.9161 - val_accuracy: 0.7456 - lr: 2.0000e-04\n",
      "Epoch 6/30\n",
      "515/515 [==============================] - ETA: 0s - loss: 0.2918 - accuracy: 0.9243\n",
      "Epoch 6: val_loss did not improve from 0.90287\n",
      "515/515 [==============================] - 117s 227ms/step - loss: 0.2918 - accuracy: 0.9243 - val_loss: 0.9246 - val_accuracy: 0.7430 - lr: 2.0000e-04\n",
      "Epoch 7/30\n",
      "515/515 [==============================] - ETA: 0s - loss: 0.2667 - accuracy: 0.9319\n",
      "Epoch 7: val_loss did not improve from 0.90287\n",
      "515/515 [==============================] - 118s 228ms/step - loss: 0.2667 - accuracy: 0.9319 - val_loss: 0.9348 - val_accuracy: 0.7447 - lr: 2.0000e-04\n",
      "Epoch 8/30\n",
      "515/515 [==============================] - ETA: 0s - loss: 0.2459 - accuracy: 0.9390\n",
      "Epoch 8: val_loss did not improve from 0.90287\n",
      "515/515 [==============================] - 118s 228ms/step - loss: 0.2459 - accuracy: 0.9390 - val_loss: 0.9458 - val_accuracy: 0.7447 - lr: 2.0000e-04\n",
      "Epoch 9/30\n",
      "515/515 [==============================] - ETA: 0s - loss: 0.2086 - accuracy: 0.9524\n",
      "Epoch 9: val_loss did not improve from 0.90287\n",
      "515/515 [==============================] - 117s 227ms/step - loss: 0.2086 - accuracy: 0.9524 - val_loss: 0.9312 - val_accuracy: 0.7488 - lr: 1.0000e-04\n",
      "Epoch 10/30\n",
      "515/515 [==============================] - ETA: 0s - loss: 0.1985 - accuracy: 0.9563\n",
      "Epoch 10: val_loss did not improve from 0.90287\n",
      "515/515 [==============================] - 117s 227ms/step - loss: 0.1985 - accuracy: 0.9563 - val_loss: 0.9357 - val_accuracy: 0.7478 - lr: 1.0000e-04\n",
      "Epoch 11/30\n",
      "515/515 [==============================] - ETA: 0s - loss: 0.1907 - accuracy: 0.9592\n",
      "Epoch 11: val_loss did not improve from 0.90287\n",
      "515/515 [==============================] - 117s 227ms/step - loss: 0.1907 - accuracy: 0.9592 - val_loss: 0.9428 - val_accuracy: 0.7478 - lr: 1.0000e-04\n",
      "Epoch 12/30\n",
      "515/515 [==============================] - ETA: 0s - loss: 0.1828 - accuracy: 0.9618\n",
      "Epoch 12: val_loss did not improve from 0.90287\n",
      "515/515 [==============================] - 118s 228ms/step - loss: 0.1828 - accuracy: 0.9618 - val_loss: 0.9486 - val_accuracy: 0.7466 - lr: 1.0000e-04\n",
      "Epoch 13/30\n",
      "515/515 [==============================] - ETA: 0s - loss: 0.1753 - accuracy: 0.9651\n",
      "Epoch 13: val_loss did not improve from 0.90287\n",
      "515/515 [==============================] - 117s 227ms/step - loss: 0.1753 - accuracy: 0.9651 - val_loss: 0.9560 - val_accuracy: 0.7454 - lr: 1.0000e-04\n",
      "Epoch 14/30\n",
      "515/515 [==============================] - ETA: 0s - loss: 0.1680 - accuracy: 0.9671\n",
      "Epoch 14: val_loss did not improve from 0.90287\n",
      "515/515 [==============================] - 117s 227ms/step - loss: 0.1680 - accuracy: 0.9671 - val_loss: 0.9620 - val_accuracy: 0.7461 - lr: 1.0000e-04\n",
      "Epoch 15/30\n",
      "515/515 [==============================] - ETA: 0s - loss: 0.1612 - accuracy: 0.9691\n",
      "Epoch 15: val_loss did not improve from 0.90287\n",
      "515/515 [==============================] - 117s 227ms/step - loss: 0.1612 - accuracy: 0.9691 - val_loss: 0.9699 - val_accuracy: 0.7464 - lr: 1.0000e-04\n",
      "Epoch 16/30\n",
      "515/515 [==============================] - ETA: 0s - loss: 0.1551 - accuracy: 0.9711\n",
      "Epoch 16: val_loss did not improve from 0.90287\n",
      "515/515 [==============================] - 118s 228ms/step - loss: 0.1551 - accuracy: 0.9711 - val_loss: 0.9760 - val_accuracy: 0.7459 - lr: 1.0000e-04\n",
      "Epoch 17/30\n",
      "515/515 [==============================] - ETA: 0s - loss: 0.1487 - accuracy: 0.9722\n",
      "Epoch 17: val_loss did not improve from 0.90287\n",
      "515/515 [==============================] - 117s 227ms/step - loss: 0.1487 - accuracy: 0.9722 - val_loss: 0.9829 - val_accuracy: 0.7447 - lr: 1.0000e-04\n",
      "Epoch 18/30\n",
      "218/515 [===========>..................] - ETA: 1:02 - loss: 0.1464 - accuracy: 0.9732"
     ]
    },
    {
     "name": "stderr",
     "output_type": "stream",
     "text": [
      "IOPub message rate exceeded.\n",
      "The notebook server will temporarily stop sending output\n",
      "to the client in order to avoid crashing it.\n",
      "To change this limit, set the config variable\n",
      "`--NotebookApp.iopub_msg_rate_limit`.\n",
      "\n",
      "Current values:\n",
      "NotebookApp.iopub_msg_rate_limit=1000.0 (msgs/sec)\n",
      "NotebookApp.rate_limit_window=3.0 (secs)\n",
      "\n"
     ]
    },
    {
     "name": "stdout",
     "output_type": "stream",
     "text": [
      "515/515 [==============================] - ETA: 0s - loss: 0.1427 - accuracy: 0.9742\n",
      "Epoch 18: val_loss did not improve from 0.90287\n",
      "515/515 [==============================] - 117s 227ms/step - loss: 0.1427 - accuracy: 0.9742 - val_loss: 0.9894 - val_accuracy: 0.7447 - lr: 1.0000e-04\n",
      "Epoch 19/30\n",
      "515/515 [==============================] - ETA: 0s - loss: 0.1369 - accuracy: 0.9754\n",
      "Epoch 19: val_loss did not improve from 0.90287\n",
      "515/515 [==============================] - 117s 228ms/step - loss: 0.1369 - accuracy: 0.9754 - val_loss: 0.9977 - val_accuracy: 0.7454 - lr: 1.0000e-04\n",
      "Epoch 20/30\n",
      "515/515 [==============================] - ETA: 0s - loss: 0.1315 - accuracy: 0.9773\n",
      "Epoch 20: val_loss did not improve from 0.90287\n",
      "515/515 [==============================] - 117s 227ms/step - loss: 0.1315 - accuracy: 0.9773 - val_loss: 1.0038 - val_accuracy: 0.7449 - lr: 1.0000e-04\n",
      "Epoch 21/30\n",
      "515/515 [==============================] - ETA: 0s - loss: 0.1264 - accuracy: 0.9781\n",
      "Epoch 21: val_loss did not improve from 0.90287\n",
      "515/515 [==============================] - 118s 228ms/step - loss: 0.1264 - accuracy: 0.9781 - val_loss: 1.0109 - val_accuracy: 0.7442 - lr: 1.0000e-04\n",
      "Epoch 22/30\n",
      "515/515 [==============================] - ETA: 0s - loss: 0.1217 - accuracy: 0.9794\n",
      "Epoch 22: val_loss did not improve from 0.90287\n",
      "515/515 [==============================] - 117s 227ms/step - loss: 0.1217 - accuracy: 0.9794 - val_loss: 1.0185 - val_accuracy: 0.7459 - lr: 1.0000e-04\n",
      "Epoch 23/30\n",
      "515/515 [==============================] - ETA: 0s - loss: 0.1170 - accuracy: 0.9808\n",
      "Epoch 23: val_loss did not improve from 0.90287\n",
      "515/515 [==============================] - 117s 227ms/step - loss: 0.1170 - accuracy: 0.9808 - val_loss: 1.0260 - val_accuracy: 0.7454 - lr: 1.0000e-04\n",
      "Epoch 24/30\n",
      "515/515 [==============================] - ETA: 0s - loss: 0.1128 - accuracy: 0.9813\n",
      "Epoch 24: val_loss did not improve from 0.90287\n",
      "515/515 [==============================] - 118s 228ms/step - loss: 0.1128 - accuracy: 0.9813 - val_loss: 1.0339 - val_accuracy: 0.7449 - lr: 1.0000e-04\n",
      "Epoch 25/30\n",
      "515/515 [==============================] - ETA: 0s - loss: 0.1085 - accuracy: 0.9826\n",
      "Epoch 25: val_loss did not improve from 0.90287\n",
      "515/515 [==============================] - 118s 229ms/step - loss: 0.1085 - accuracy: 0.9826 - val_loss: 1.0406 - val_accuracy: 0.7444 - lr: 1.0000e-04\n",
      "Epoch 26/30\n",
      "515/515 [==============================] - ETA: 0s - loss: 0.1046 - accuracy: 0.9839\n",
      "Epoch 26: val_loss did not improve from 0.90287\n",
      "515/515 [==============================] - 118s 228ms/step - loss: 0.1046 - accuracy: 0.9839 - val_loss: 1.0488 - val_accuracy: 0.7471 - lr: 1.0000e-04\n",
      "Epoch 27/30\n",
      "515/515 [==============================] - ETA: 0s - loss: 0.1007 - accuracy: 0.9843\n",
      "Epoch 27: val_loss did not improve from 0.90287\n",
      "515/515 [==============================] - 118s 228ms/step - loss: 0.1007 - accuracy: 0.9843 - val_loss: 1.0564 - val_accuracy: 0.7456 - lr: 1.0000e-04\n",
      "Epoch 28/30\n",
      "515/515 [==============================] - ETA: 0s - loss: 0.0967 - accuracy: 0.9857\n",
      "Epoch 28: val_loss did not improve from 0.90287\n",
      "515/515 [==============================] - 118s 228ms/step - loss: 0.0967 - accuracy: 0.9857 - val_loss: 1.0641 - val_accuracy: 0.7439 - lr: 1.0000e-04\n",
      "Epoch 29/30\n",
      "515/515 [==============================] - ETA: 0s - loss: 0.0935 - accuracy: 0.9864\n",
      "Epoch 29: val_loss did not improve from 0.90287\n",
      "515/515 [==============================] - 118s 228ms/step - loss: 0.0935 - accuracy: 0.9864 - val_loss: 1.0709 - val_accuracy: 0.7439 - lr: 1.0000e-04\n",
      "Epoch 30/30\n",
      "515/515 [==============================] - ETA: 0s - loss: 0.0899 - accuracy: 0.9868\n",
      "Epoch 30: val_loss did not improve from 0.90287\n",
      "515/515 [==============================] - 118s 228ms/step - loss: 0.0899 - accuracy: 0.9868 - val_loss: 1.0784 - val_accuracy: 0.7451 - lr: 1.0000e-04\n"
     ]
    }
   ],
   "source": [
    "history = model.fit(train, epochs=30, validation_data=val, callbacks=[checkpoint, reduce_lr])"
   ]
  },
  {
   "cell_type": "code",
   "execution_count": 27,
   "metadata": {
    "execution": {
     "iopub.execute_input": "2023-10-22T05:49:43.557525Z",
     "iopub.status.busy": "2023-10-22T05:49:43.556730Z",
     "iopub.status.idle": "2023-10-22T05:49:43.776835Z",
     "shell.execute_reply": "2023-10-22T05:49:43.775860Z",
     "shell.execute_reply.started": "2023-10-22T05:49:43.557486Z"
    }
   },
   "outputs": [
    {
     "data": {
      "image/png": "[encoded data removed]",
      "text/plain": [
       "<Figure size 640x480 with 1 Axes>"
      ]
     },
     "metadata": {},
     "output_type": "display_data"
    }
   ],
   "source": [
    "plt.plot(history.history['accuracy'])\n",
    "plt.plot(history.history['val_accuracy'])\n",
    "plt.title('model accuracy')\n",
    "plt.ylabel('accuracy')\n",
    "plt.xlabel('epoch')\n",
    "plt.legend()\n",
    "plt.show()"
   ]
  }
 ],
 "metadata": {
  "kernelspec": {
   "display_name": "Python 3 (ipykernel)",
   "language": "python",
   "name": "python3"
  },
  "language_info": {
   "codemirror_mode": {
    "name": "ipython",
    "version": 3
   },
   "file_extension": ".py",
   "mimetype": "text/x-python",
   "name": "python",
   "nbconvert_exporter": "python",
   "pygments_lexer": "ipython3",
   "version": "3.10.12"
  }
 },
 "nbformat": 4,
 "nbformat_minor": 4
}

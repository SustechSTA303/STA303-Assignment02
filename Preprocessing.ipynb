{
 "cells": [
  {
   "cell_type": "code",
   "execution_count": 1,
   "id": "5fc9abbb",
   "metadata": {},
   "outputs": [],
   "source": [
    "import os\n",
    "import time\n",
    "import os.path as osp\n",
    "\n",
    "import numpy as np\n",
    "import pandas as pd\n",
    "\n",
    "import torch\n",
    "import torch.nn as nn\n",
    "import torch.nn.functional as F\n",
    "import torch.optim as optim\n",
    "from torch.utils.data import DataLoader\n",
    "\n",
    "from torchvision.datasets import CIFAR10\n",
    "from torchvision import datasets\n",
    "from torchvision import transforms\n",
    "import torchvision\n",
    "\n",
    "from PIL import Image, ImageFilter\n",
    "import matplotlib.pyplot as plt\n",
    "from PIL import Image\n",
    "from clip import clip\n",
    "import pickle"
   ]
  },
  {
   "cell_type": "code",
   "execution_count": 2,
   "id": "040c9c4e",
   "metadata": {},
   "outputs": [],
   "source": [
    "device = torch.device(\"cuda:0\" if torch.cuda.is_available() else \"cpu\")"
   ]
  },
  {
   "cell_type": "markdown",
   "id": "114fd484",
   "metadata": {},
   "source": [
    "## Dataset"
   ]
  },
  {
   "cell_type": "code",
   "execution_count": 3,
   "id": "6173cad8",
   "metadata": {},
   "outputs": [],
   "source": [
    "captions_path = \"Flickr8k/captions.txt\"\n",
    "\n",
    "with open(captions_path, \"r\") as file:\n",
    "    captions = file.readlines()[1:]"
   ]
  },
  {
   "cell_type": "markdown",
   "id": "bcf4d5cf",
   "metadata": {},
   "source": [
    "## Data Preprocessing"
   ]
  },
  {
   "cell_type": "code",
   "execution_count": 4,
   "id": "078bb29b",
   "metadata": {},
   "outputs": [],
   "source": [
    "images_dir = \"Flickr8k/Images/\"\n",
    "\n",
    "images_names_captions = {}\n",
    "for caption in captions:\n",
    "    parts = caption.strip().split(\",\")\n",
    "    image_filename, caption_text = parts[0], parts[1]\n",
    "    images_names_captions[image_filename] = images_names_captions.get(image_filename, []) + [caption_text]"
   ]
  },
  {
   "cell_type": "code",
   "execution_count": null,
   "id": "7b37a758",
   "metadata": {},
   "outputs": [],
   "source": []
  },
  {
   "cell_type": "code",
   "execution_count": 5,
   "id": "a4480da3",
   "metadata": {},
   "outputs": [],
   "source": [
    "transform = transforms.Compose([\n",
    "    transforms.Resize((256, 256)),\n",
    "     transforms.ToTensor(),\n",
    "])\n",
    "\n",
    "images_captions = []\n",
    "for image_filename in images_names_captions.keys():\n",
    "    #image_path = os.path.join(images_dir, image_filename)\n",
    "    #img = Image.open(image_path)\n",
    "    #img_tensor = transform(img)#.unsqueeze(0)  # Add batch dimension\n",
    "    caption = images_names_captions.get(image_filename)\n",
    "    images_captions.append((image_filename, caption))"
   ]
  },
  {
   "cell_type": "code",
   "execution_count": 6,
   "id": "1243bbf8",
   "metadata": {},
   "outputs": [],
   "source": [
    "images_captions = images_captions[:800]"
   ]
  },
  {
   "cell_type": "code",
   "execution_count": 7,
   "id": "f532c9c4",
   "metadata": {},
   "outputs": [],
   "source": [
    "save_path = \"images_captions.pkl\"\n",
    "with open(save_path, 'wb') as file:\n",
    "    pickle.dump(images_captions, file)"
   ]
  },
  {
   "cell_type": "code",
   "execution_count": null,
   "id": "7627282d",
   "metadata": {},
   "outputs": [],
   "source": []
  },
  {
   "cell_type": "code",
   "execution_count": null,
   "id": "411038bc",
   "metadata": {},
   "outputs": [],
   "source": []
  },
  {
   "cell_type": "code",
   "execution_count": null,
   "id": "7f8c52be",
   "metadata": {},
   "outputs": [],
   "source": []
  },
  {
   "cell_type": "code",
   "execution_count": null,
   "id": "8edd4a1d",
   "metadata": {},
   "outputs": [],
   "source": []
  },
  {
   "cell_type": "code",
   "execution_count": null,
   "id": "680cb5d6",
   "metadata": {},
   "outputs": [],
   "source": []
  },
  {
   "cell_type": "code",
   "execution_count": null,
   "id": "64b68b34",
   "metadata": {},
   "outputs": [],
   "source": []
  }
 ],
 "metadata": {
  "kernelspec": {
   "display_name": "Python 3 (ipykernel)",
   "language": "python",
   "name": "python3"
  },
  "language_info": {
   "codemirror_mode": {
    "name": "ipython",
    "version": 3
   },
   "file_extension": ".py",
   "mimetype": "text/x-python",
   "name": "python",
   "nbconvert_exporter": "python",
   "pygments_lexer": "ipython3",
   "version": "3.10.12"
  }
 },
 "nbformat": 4,
 "nbformat_minor": 5
}
